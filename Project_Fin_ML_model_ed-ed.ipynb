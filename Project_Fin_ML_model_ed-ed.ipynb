{
 "cells": [
  {
   "cell_type": "code",
   "execution_count": 1,
   "id": "31f4538a",
   "metadata": {},
   "outputs": [],
   "source": [
    "import pandas as pd\n",
    "from pathlib import Path\n",
    "import matplotlib.pyplot as plt\n",
    "from sklearn.linear_model import LinearRegression\n",
    "import seaborn as sns\n"
   ]
  },
  {
   "cell_type": "code",
   "execution_count": 68,
   "id": "8d69d719",
   "metadata": {},
   "outputs": [],
   "source": [
    "# Files to Load \n",
    "joined_csv = \"./clean_output/joined2.csv\"\n",
    "fips_csv = \"./resources/florida_fips.csv\"\n",
    "reg_yr_csv = \"./clean_output/county_by_year_transv.csv\""
   ]
  },
  {
   "cell_type": "code",
   "execution_count": 69,
   "id": "cc25503a",
   "metadata": {},
   "outputs": [
    {
     "data": {
      "text/html": [
       "<div>\n",
       "<style scoped>\n",
       "    .dataframe tbody tr th:only-of-type {\n",
       "        vertical-align: middle;\n",
       "    }\n",
       "\n",
       "    .dataframe tbody tr th {\n",
       "        vertical-align: top;\n",
       "    }\n",
       "\n",
       "    .dataframe thead th {\n",
       "        text-align: right;\n",
       "    }\n",
       "</style>\n",
       "<table border=\"1\" class=\"dataframe\">\n",
       "  <thead>\n",
       "    <tr style=\"text-align: right;\">\n",
       "      <th></th>\n",
       "      <th>county</th>\n",
       "      <th>2018_Fl_reg</th>\n",
       "      <th>2019_Fl_reg</th>\n",
       "      <th>2020_Fl_reg</th>\n",
       "      <th>2021_Fl_reg</th>\n",
       "      <th>county2</th>\n",
       "      <th>2017</th>\n",
       "      <th>2018</th>\n",
       "      <th>2019</th>\n",
       "      <th>2020</th>\n",
       "      <th>2021</th>\n",
       "      <th>2018_Total_Stations</th>\n",
       "      <th>2019_Total_Stations</th>\n",
       "      <th>2020_Total_Stations</th>\n",
       "      <th>2021_Total_Stations</th>\n",
       "    </tr>\n",
       "  </thead>\n",
       "  <tbody>\n",
       "    <tr>\n",
       "      <th>0</th>\n",
       "      <td>Alachua</td>\n",
       "      <td>766</td>\n",
       "      <td>699</td>\n",
       "      <td>2454</td>\n",
       "      <td>2774</td>\n",
       "      <td>Alachua</td>\n",
       "      <td>12.0</td>\n",
       "      <td>5.0</td>\n",
       "      <td>5.0</td>\n",
       "      <td>7.0</td>\n",
       "      <td>12.0</td>\n",
       "      <td>17.0</td>\n",
       "      <td>22.0</td>\n",
       "      <td>29.0</td>\n",
       "      <td>41.0</td>\n",
       "    </tr>\n",
       "    <tr>\n",
       "      <th>1</th>\n",
       "      <td>Baker</td>\n",
       "      <td>5</td>\n",
       "      <td>12</td>\n",
       "      <td>41</td>\n",
       "      <td>42</td>\n",
       "      <td>Baker</td>\n",
       "      <td>0.0</td>\n",
       "      <td>0.0</td>\n",
       "      <td>1.0</td>\n",
       "      <td>0.0</td>\n",
       "      <td>0.0</td>\n",
       "      <td>0.0</td>\n",
       "      <td>1.0</td>\n",
       "      <td>1.0</td>\n",
       "      <td>1.0</td>\n",
       "    </tr>\n",
       "    <tr>\n",
       "      <th>2</th>\n",
       "      <td>Bay</td>\n",
       "      <td>300</td>\n",
       "      <td>237</td>\n",
       "      <td>876</td>\n",
       "      <td>972</td>\n",
       "      <td>Bay</td>\n",
       "      <td>8.0</td>\n",
       "      <td>0.0</td>\n",
       "      <td>1.0</td>\n",
       "      <td>4.0</td>\n",
       "      <td>3.0</td>\n",
       "      <td>8.0</td>\n",
       "      <td>9.0</td>\n",
       "      <td>13.0</td>\n",
       "      <td>16.0</td>\n",
       "    </tr>\n",
       "    <tr>\n",
       "      <th>3</th>\n",
       "      <td>Bradford</td>\n",
       "      <td>22</td>\n",
       "      <td>9</td>\n",
       "      <td>35</td>\n",
       "      <td>39</td>\n",
       "      <td>Bradford</td>\n",
       "      <td>2.0</td>\n",
       "      <td>0.0</td>\n",
       "      <td>0.0</td>\n",
       "      <td>0.0</td>\n",
       "      <td>0.0</td>\n",
       "      <td>2.0</td>\n",
       "      <td>2.0</td>\n",
       "      <td>2.0</td>\n",
       "      <td>2.0</td>\n",
       "    </tr>\n",
       "    <tr>\n",
       "      <th>4</th>\n",
       "      <td>Brevard</td>\n",
       "      <td>1881</td>\n",
       "      <td>1657</td>\n",
       "      <td>6088</td>\n",
       "      <td>6843</td>\n",
       "      <td>Brevard</td>\n",
       "      <td>26.0</td>\n",
       "      <td>5.0</td>\n",
       "      <td>5.0</td>\n",
       "      <td>16.0</td>\n",
       "      <td>17.0</td>\n",
       "      <td>31.0</td>\n",
       "      <td>36.0</td>\n",
       "      <td>52.0</td>\n",
       "      <td>69.0</td>\n",
       "    </tr>\n",
       "    <tr>\n",
       "      <th>...</th>\n",
       "      <td>...</td>\n",
       "      <td>...</td>\n",
       "      <td>...</td>\n",
       "      <td>...</td>\n",
       "      <td>...</td>\n",
       "      <td>...</td>\n",
       "      <td>...</td>\n",
       "      <td>...</td>\n",
       "      <td>...</td>\n",
       "      <td>...</td>\n",
       "      <td>...</td>\n",
       "      <td>...</td>\n",
       "      <td>...</td>\n",
       "      <td>...</td>\n",
       "      <td>...</td>\n",
       "    </tr>\n",
       "    <tr>\n",
       "      <th>63</th>\n",
       "      <td>Volusia</td>\n",
       "      <td>1079</td>\n",
       "      <td>903</td>\n",
       "      <td>3371</td>\n",
       "      <td>3796</td>\n",
       "      <td>Volusia</td>\n",
       "      <td>22.0</td>\n",
       "      <td>4.0</td>\n",
       "      <td>8.0</td>\n",
       "      <td>14.0</td>\n",
       "      <td>9.0</td>\n",
       "      <td>26.0</td>\n",
       "      <td>34.0</td>\n",
       "      <td>48.0</td>\n",
       "      <td>57.0</td>\n",
       "    </tr>\n",
       "    <tr>\n",
       "      <th>64</th>\n",
       "      <td>Wakulla</td>\n",
       "      <td>25</td>\n",
       "      <td>21</td>\n",
       "      <td>76</td>\n",
       "      <td>90</td>\n",
       "      <td>Wakulla</td>\n",
       "      <td>0.0</td>\n",
       "      <td>0.0</td>\n",
       "      <td>0.0</td>\n",
       "      <td>0.0</td>\n",
       "      <td>4.0</td>\n",
       "      <td>0.0</td>\n",
       "      <td>0.0</td>\n",
       "      <td>0.0</td>\n",
       "      <td>4.0</td>\n",
       "    </tr>\n",
       "    <tr>\n",
       "      <th>65</th>\n",
       "      <td>Walton</td>\n",
       "      <td>211</td>\n",
       "      <td>171</td>\n",
       "      <td>649</td>\n",
       "      <td>772</td>\n",
       "      <td>Walton</td>\n",
       "      <td>7.0</td>\n",
       "      <td>1.0</td>\n",
       "      <td>1.0</td>\n",
       "      <td>4.0</td>\n",
       "      <td>1.0</td>\n",
       "      <td>8.0</td>\n",
       "      <td>9.0</td>\n",
       "      <td>13.0</td>\n",
       "      <td>14.0</td>\n",
       "    </tr>\n",
       "    <tr>\n",
       "      <th>66</th>\n",
       "      <td>Washington</td>\n",
       "      <td>13</td>\n",
       "      <td>10</td>\n",
       "      <td>25</td>\n",
       "      <td>30</td>\n",
       "      <td>Washington</td>\n",
       "      <td>0.0</td>\n",
       "      <td>0.0</td>\n",
       "      <td>0.0</td>\n",
       "      <td>1.0</td>\n",
       "      <td>0.0</td>\n",
       "      <td>0.0</td>\n",
       "      <td>0.0</td>\n",
       "      <td>1.0</td>\n",
       "      <td>1.0</td>\n",
       "    </tr>\n",
       "    <tr>\n",
       "      <th>67</th>\n",
       "      <td>Grand Total</td>\n",
       "      <td>67209</td>\n",
       "      <td>56980</td>\n",
       "      <td>209378</td>\n",
       "      <td>238849</td>\n",
       "      <td>NaN</td>\n",
       "      <td>NaN</td>\n",
       "      <td>NaN</td>\n",
       "      <td>NaN</td>\n",
       "      <td>NaN</td>\n",
       "      <td>NaN</td>\n",
       "      <td>NaN</td>\n",
       "      <td>NaN</td>\n",
       "      <td>NaN</td>\n",
       "      <td>NaN</td>\n",
       "    </tr>\n",
       "  </tbody>\n",
       "</table>\n",
       "<p>68 rows × 15 columns</p>\n",
       "</div>"
      ],
      "text/plain": [
       "         county  2018_Fl_reg  2019_Fl_reg  2020_Fl_reg  2021_Fl_reg  \\\n",
       "0       Alachua          766          699         2454         2774   \n",
       "1         Baker            5           12           41           42   \n",
       "2           Bay          300          237          876          972   \n",
       "3      Bradford           22            9           35           39   \n",
       "4       Brevard         1881         1657         6088         6843   \n",
       "..          ...          ...          ...          ...          ...   \n",
       "63      Volusia         1079          903         3371         3796   \n",
       "64      Wakulla           25           21           76           90   \n",
       "65       Walton          211          171          649          772   \n",
       "66   Washington           13           10           25           30   \n",
       "67  Grand Total        67209        56980       209378       238849   \n",
       "\n",
       "       county2  2017  2018  2019  2020  2021  2018_Total_Stations  \\\n",
       "0      Alachua  12.0   5.0   5.0   7.0  12.0                 17.0   \n",
       "1        Baker   0.0   0.0   1.0   0.0   0.0                  0.0   \n",
       "2          Bay   8.0   0.0   1.0   4.0   3.0                  8.0   \n",
       "3     Bradford   2.0   0.0   0.0   0.0   0.0                  2.0   \n",
       "4      Brevard  26.0   5.0   5.0  16.0  17.0                 31.0   \n",
       "..         ...   ...   ...   ...   ...   ...                  ...   \n",
       "63     Volusia  22.0   4.0   8.0  14.0   9.0                 26.0   \n",
       "64     Wakulla   0.0   0.0   0.0   0.0   4.0                  0.0   \n",
       "65      Walton   7.0   1.0   1.0   4.0   1.0                  8.0   \n",
       "66  Washington   0.0   0.0   0.0   1.0   0.0                  0.0   \n",
       "67         NaN   NaN   NaN   NaN   NaN   NaN                  NaN   \n",
       "\n",
       "    2019_Total_Stations  2020_Total_Stations  2021_Total_Stations  \n",
       "0                  22.0                 29.0                 41.0  \n",
       "1                   1.0                  1.0                  1.0  \n",
       "2                   9.0                 13.0                 16.0  \n",
       "3                   2.0                  2.0                  2.0  \n",
       "4                  36.0                 52.0                 69.0  \n",
       "..                  ...                  ...                  ...  \n",
       "63                 34.0                 48.0                 57.0  \n",
       "64                  0.0                  0.0                  4.0  \n",
       "65                  9.0                 13.0                 14.0  \n",
       "66                  0.0                  1.0                  1.0  \n",
       "67                  NaN                  NaN                  NaN  \n",
       "\n",
       "[68 rows x 15 columns]"
      ]
     },
     "execution_count": 69,
     "metadata": {},
     "output_type": "execute_result"
    }
   ],
   "source": [
    "# Read the data into Pandas DataFrames \n",
    "joined_df = pd.read_csv(joined_csv)\n",
    "fips_df = pd.read_csv(fips_csv)\n",
    "yr_reg_df = pd.read_csv(reg_yr_csv, index_col='date',parse_dates=True)\n",
    "joined_df\n"
   ]
  },
  {
   "cell_type": "code",
   "execution_count": 70,
   "id": "e7b0bd5d",
   "metadata": {},
   "outputs": [
    {
     "data": {
      "text/html": [
       "<div>\n",
       "<style scoped>\n",
       "    .dataframe tbody tr th:only-of-type {\n",
       "        vertical-align: middle;\n",
       "    }\n",
       "\n",
       "    .dataframe tbody tr th {\n",
       "        vertical-align: top;\n",
       "    }\n",
       "\n",
       "    .dataframe thead th {\n",
       "        text-align: right;\n",
       "    }\n",
       "</style>\n",
       "<table border=\"1\" class=\"dataframe\">\n",
       "  <thead>\n",
       "    <tr style=\"text-align: right;\">\n",
       "      <th></th>\n",
       "      <th>county</th>\n",
       "      <th>2018_Fl_reg</th>\n",
       "      <th>2019_Fl_reg</th>\n",
       "      <th>2020_Fl_reg</th>\n",
       "      <th>2021_Fl_reg</th>\n",
       "      <th>2018_Total_Stations</th>\n",
       "      <th>2019_Total_Stations</th>\n",
       "      <th>2020_Total_Stations</th>\n",
       "      <th>2021_Total_Stations</th>\n",
       "    </tr>\n",
       "  </thead>\n",
       "  <tbody>\n",
       "    <tr>\n",
       "      <th>0</th>\n",
       "      <td>Alachua</td>\n",
       "      <td>766</td>\n",
       "      <td>699</td>\n",
       "      <td>2454</td>\n",
       "      <td>2774</td>\n",
       "      <td>17.0</td>\n",
       "      <td>22.0</td>\n",
       "      <td>29.0</td>\n",
       "      <td>41.0</td>\n",
       "    </tr>\n",
       "    <tr>\n",
       "      <th>1</th>\n",
       "      <td>Baker</td>\n",
       "      <td>5</td>\n",
       "      <td>12</td>\n",
       "      <td>41</td>\n",
       "      <td>42</td>\n",
       "      <td>0.0</td>\n",
       "      <td>1.0</td>\n",
       "      <td>1.0</td>\n",
       "      <td>1.0</td>\n",
       "    </tr>\n",
       "    <tr>\n",
       "      <th>2</th>\n",
       "      <td>Bay</td>\n",
       "      <td>300</td>\n",
       "      <td>237</td>\n",
       "      <td>876</td>\n",
       "      <td>972</td>\n",
       "      <td>8.0</td>\n",
       "      <td>9.0</td>\n",
       "      <td>13.0</td>\n",
       "      <td>16.0</td>\n",
       "    </tr>\n",
       "    <tr>\n",
       "      <th>3</th>\n",
       "      <td>Bradford</td>\n",
       "      <td>22</td>\n",
       "      <td>9</td>\n",
       "      <td>35</td>\n",
       "      <td>39</td>\n",
       "      <td>2.0</td>\n",
       "      <td>2.0</td>\n",
       "      <td>2.0</td>\n",
       "      <td>2.0</td>\n",
       "    </tr>\n",
       "    <tr>\n",
       "      <th>4</th>\n",
       "      <td>Brevard</td>\n",
       "      <td>1881</td>\n",
       "      <td>1657</td>\n",
       "      <td>6088</td>\n",
       "      <td>6843</td>\n",
       "      <td>31.0</td>\n",
       "      <td>36.0</td>\n",
       "      <td>52.0</td>\n",
       "      <td>69.0</td>\n",
       "    </tr>\n",
       "    <tr>\n",
       "      <th>...</th>\n",
       "      <td>...</td>\n",
       "      <td>...</td>\n",
       "      <td>...</td>\n",
       "      <td>...</td>\n",
       "      <td>...</td>\n",
       "      <td>...</td>\n",
       "      <td>...</td>\n",
       "      <td>...</td>\n",
       "      <td>...</td>\n",
       "    </tr>\n",
       "    <tr>\n",
       "      <th>62</th>\n",
       "      <td>Lafayette</td>\n",
       "      <td>1801</td>\n",
       "      <td>1778</td>\n",
       "      <td>6221</td>\n",
       "      <td>7489</td>\n",
       "      <td>NaN</td>\n",
       "      <td>NaN</td>\n",
       "      <td>NaN</td>\n",
       "      <td>NaN</td>\n",
       "    </tr>\n",
       "    <tr>\n",
       "      <th>63</th>\n",
       "      <td>Volusia</td>\n",
       "      <td>1079</td>\n",
       "      <td>903</td>\n",
       "      <td>3371</td>\n",
       "      <td>3796</td>\n",
       "      <td>26.0</td>\n",
       "      <td>34.0</td>\n",
       "      <td>48.0</td>\n",
       "      <td>57.0</td>\n",
       "    </tr>\n",
       "    <tr>\n",
       "      <th>64</th>\n",
       "      <td>Wakulla</td>\n",
       "      <td>25</td>\n",
       "      <td>21</td>\n",
       "      <td>76</td>\n",
       "      <td>90</td>\n",
       "      <td>0.0</td>\n",
       "      <td>0.0</td>\n",
       "      <td>0.0</td>\n",
       "      <td>4.0</td>\n",
       "    </tr>\n",
       "    <tr>\n",
       "      <th>65</th>\n",
       "      <td>Walton</td>\n",
       "      <td>211</td>\n",
       "      <td>171</td>\n",
       "      <td>649</td>\n",
       "      <td>772</td>\n",
       "      <td>8.0</td>\n",
       "      <td>9.0</td>\n",
       "      <td>13.0</td>\n",
       "      <td>14.0</td>\n",
       "    </tr>\n",
       "    <tr>\n",
       "      <th>66</th>\n",
       "      <td>Washington</td>\n",
       "      <td>13</td>\n",
       "      <td>10</td>\n",
       "      <td>25</td>\n",
       "      <td>30</td>\n",
       "      <td>0.0</td>\n",
       "      <td>0.0</td>\n",
       "      <td>1.0</td>\n",
       "      <td>1.0</td>\n",
       "    </tr>\n",
       "  </tbody>\n",
       "</table>\n",
       "<p>67 rows × 9 columns</p>\n",
       "</div>"
      ],
      "text/plain": [
       "        county  2018_Fl_reg  2019_Fl_reg  2020_Fl_reg  2021_Fl_reg  \\\n",
       "0      Alachua          766          699         2454         2774   \n",
       "1        Baker            5           12           41           42   \n",
       "2          Bay          300          237          876          972   \n",
       "3     Bradford           22            9           35           39   \n",
       "4      Brevard         1881         1657         6088         6843   \n",
       "..         ...          ...          ...          ...          ...   \n",
       "62   Lafayette         1801         1778         6221         7489   \n",
       "63     Volusia         1079          903         3371         3796   \n",
       "64     Wakulla           25           21           76           90   \n",
       "65      Walton          211          171          649          772   \n",
       "66  Washington           13           10           25           30   \n",
       "\n",
       "    2018_Total_Stations  2019_Total_Stations  2020_Total_Stations  \\\n",
       "0                  17.0                 22.0                 29.0   \n",
       "1                   0.0                  1.0                  1.0   \n",
       "2                   8.0                  9.0                 13.0   \n",
       "3                   2.0                  2.0                  2.0   \n",
       "4                  31.0                 36.0                 52.0   \n",
       "..                  ...                  ...                  ...   \n",
       "62                  NaN                  NaN                  NaN   \n",
       "63                 26.0                 34.0                 48.0   \n",
       "64                  0.0                  0.0                  0.0   \n",
       "65                  8.0                  9.0                 13.0   \n",
       "66                  0.0                  0.0                  1.0   \n",
       "\n",
       "    2021_Total_Stations  \n",
       "0                  41.0  \n",
       "1                   1.0  \n",
       "2                  16.0  \n",
       "3                   2.0  \n",
       "4                  69.0  \n",
       "..                  ...  \n",
       "62                  NaN  \n",
       "63                 57.0  \n",
       "64                  4.0  \n",
       "65                 14.0  \n",
       "66                  1.0  \n",
       "\n",
       "[67 rows x 9 columns]"
      ]
     },
     "execution_count": 70,
     "metadata": {},
     "output_type": "execute_result"
    }
   ],
   "source": [
    "joined_df = joined_df.drop(['county2','2017', '2018','2019','2020','2021'],axis=1)\n",
    "joined_df = joined_df.drop(67)\n",
    "joined_df"
   ]
  },
  {
   "cell_type": "code",
   "execution_count": 71,
   "id": "ef905de6",
   "metadata": {},
   "outputs": [
    {
     "data": {
      "text/plain": [
       "(67, 9)"
      ]
     },
     "execution_count": 71,
     "metadata": {},
     "output_type": "execute_result"
    }
   ],
   "source": [
    "#Shape of dataset\n",
    "joined_df.shape"
   ]
  },
  {
   "cell_type": "code",
   "execution_count": 72,
   "id": "ce2182ff",
   "metadata": {},
   "outputs": [
    {
     "data": {
      "text/html": [
       "<div>\n",
       "<style scoped>\n",
       "    .dataframe tbody tr th:only-of-type {\n",
       "        vertical-align: middle;\n",
       "    }\n",
       "\n",
       "    .dataframe tbody tr th {\n",
       "        vertical-align: top;\n",
       "    }\n",
       "\n",
       "    .dataframe thead th {\n",
       "        text-align: right;\n",
       "    }\n",
       "</style>\n",
       "<table border=\"1\" class=\"dataframe\">\n",
       "  <thead>\n",
       "    <tr style=\"text-align: right;\">\n",
       "      <th></th>\n",
       "      <th>county</th>\n",
       "      <th>2018_Fl_reg</th>\n",
       "      <th>2019_Fl_reg</th>\n",
       "      <th>2020_Fl_reg</th>\n",
       "      <th>2021_Fl_reg</th>\n",
       "      <th>2018_Total_Stations</th>\n",
       "      <th>2019_Total_Stations</th>\n",
       "      <th>2020_Total_Stations</th>\n",
       "      <th>2021_Total_Stations</th>\n",
       "    </tr>\n",
       "  </thead>\n",
       "  <tbody>\n",
       "    <tr>\n",
       "      <th>6</th>\n",
       "      <td>Calhoun</td>\n",
       "      <td>5</td>\n",
       "      <td>5</td>\n",
       "      <td>11</td>\n",
       "      <td>14</td>\n",
       "      <td>NaN</td>\n",
       "      <td>NaN</td>\n",
       "      <td>NaN</td>\n",
       "      <td>NaN</td>\n",
       "    </tr>\n",
       "    <tr>\n",
       "      <th>14</th>\n",
       "      <td>Dixie</td>\n",
       "      <td>2</td>\n",
       "      <td>3</td>\n",
       "      <td>8</td>\n",
       "      <td>7</td>\n",
       "      <td>NaN</td>\n",
       "      <td>NaN</td>\n",
       "      <td>NaN</td>\n",
       "      <td>NaN</td>\n",
       "    </tr>\n",
       "    <tr>\n",
       "      <th>19</th>\n",
       "      <td>Gadsden</td>\n",
       "      <td>25</td>\n",
       "      <td>22</td>\n",
       "      <td>78</td>\n",
       "      <td>80</td>\n",
       "      <td>NaN</td>\n",
       "      <td>NaN</td>\n",
       "      <td>NaN</td>\n",
       "      <td>NaN</td>\n",
       "    </tr>\n",
       "    <tr>\n",
       "      <th>20</th>\n",
       "      <td>Gilchrist</td>\n",
       "      <td>10</td>\n",
       "      <td>13</td>\n",
       "      <td>39</td>\n",
       "      <td>38</td>\n",
       "      <td>NaN</td>\n",
       "      <td>NaN</td>\n",
       "      <td>NaN</td>\n",
       "      <td>NaN</td>\n",
       "    </tr>\n",
       "    <tr>\n",
       "      <th>21</th>\n",
       "      <td>Glades</td>\n",
       "      <td>5</td>\n",
       "      <td>4</td>\n",
       "      <td>21</td>\n",
       "      <td>24</td>\n",
       "      <td>NaN</td>\n",
       "      <td>NaN</td>\n",
       "      <td>NaN</td>\n",
       "      <td>NaN</td>\n",
       "    </tr>\n",
       "    <tr>\n",
       "      <th>24</th>\n",
       "      <td>Hardee</td>\n",
       "      <td>6</td>\n",
       "      <td>4</td>\n",
       "      <td>30</td>\n",
       "      <td>29</td>\n",
       "      <td>NaN</td>\n",
       "      <td>NaN</td>\n",
       "      <td>NaN</td>\n",
       "      <td>NaN</td>\n",
       "    </tr>\n",
       "    <tr>\n",
       "      <th>29</th>\n",
       "      <td>Holmes</td>\n",
       "      <td>8</td>\n",
       "      <td>6</td>\n",
       "      <td>10</td>\n",
       "      <td>10</td>\n",
       "      <td>NaN</td>\n",
       "      <td>NaN</td>\n",
       "      <td>NaN</td>\n",
       "      <td>NaN</td>\n",
       "    </tr>\n",
       "    <tr>\n",
       "      <th>36</th>\n",
       "      <td>Levy</td>\n",
       "      <td>23</td>\n",
       "      <td>24</td>\n",
       "      <td>82</td>\n",
       "      <td>106</td>\n",
       "      <td>NaN</td>\n",
       "      <td>NaN</td>\n",
       "      <td>NaN</td>\n",
       "      <td>NaN</td>\n",
       "    </tr>\n",
       "    <tr>\n",
       "      <th>37</th>\n",
       "      <td>Liberty</td>\n",
       "      <td>7</td>\n",
       "      <td>4</td>\n",
       "      <td>12</td>\n",
       "      <td>13</td>\n",
       "      <td>NaN</td>\n",
       "      <td>NaN</td>\n",
       "      <td>NaN</td>\n",
       "      <td>NaN</td>\n",
       "    </tr>\n",
       "    <tr>\n",
       "      <th>38</th>\n",
       "      <td>Madison</td>\n",
       "      <td>4</td>\n",
       "      <td>2</td>\n",
       "      <td>22</td>\n",
       "      <td>29</td>\n",
       "      <td>NaN</td>\n",
       "      <td>NaN</td>\n",
       "      <td>NaN</td>\n",
       "      <td>NaN</td>\n",
       "    </tr>\n",
       "    <tr>\n",
       "      <th>62</th>\n",
       "      <td>Lafayette</td>\n",
       "      <td>1801</td>\n",
       "      <td>1778</td>\n",
       "      <td>6221</td>\n",
       "      <td>7489</td>\n",
       "      <td>NaN</td>\n",
       "      <td>NaN</td>\n",
       "      <td>NaN</td>\n",
       "      <td>NaN</td>\n",
       "    </tr>\n",
       "  </tbody>\n",
       "</table>\n",
       "</div>"
      ],
      "text/plain": [
       "       county  2018_Fl_reg  2019_Fl_reg  2020_Fl_reg  2021_Fl_reg  \\\n",
       "6     Calhoun            5            5           11           14   \n",
       "14      Dixie            2            3            8            7   \n",
       "19    Gadsden           25           22           78           80   \n",
       "20  Gilchrist           10           13           39           38   \n",
       "21     Glades            5            4           21           24   \n",
       "24     Hardee            6            4           30           29   \n",
       "29     Holmes            8            6           10           10   \n",
       "36       Levy           23           24           82          106   \n",
       "37    Liberty            7            4           12           13   \n",
       "38    Madison            4            2           22           29   \n",
       "62  Lafayette         1801         1778         6221         7489   \n",
       "\n",
       "    2018_Total_Stations  2019_Total_Stations  2020_Total_Stations  \\\n",
       "6                   NaN                  NaN                  NaN   \n",
       "14                  NaN                  NaN                  NaN   \n",
       "19                  NaN                  NaN                  NaN   \n",
       "20                  NaN                  NaN                  NaN   \n",
       "21                  NaN                  NaN                  NaN   \n",
       "24                  NaN                  NaN                  NaN   \n",
       "29                  NaN                  NaN                  NaN   \n",
       "36                  NaN                  NaN                  NaN   \n",
       "37                  NaN                  NaN                  NaN   \n",
       "38                  NaN                  NaN                  NaN   \n",
       "62                  NaN                  NaN                  NaN   \n",
       "\n",
       "    2021_Total_Stations  \n",
       "6                   NaN  \n",
       "14                  NaN  \n",
       "19                  NaN  \n",
       "20                  NaN  \n",
       "21                  NaN  \n",
       "24                  NaN  \n",
       "29                  NaN  \n",
       "36                  NaN  \n",
       "37                  NaN  \n",
       "38                  NaN  \n",
       "62                  NaN  "
      ]
     },
     "execution_count": 72,
     "metadata": {},
     "output_type": "execute_result"
    }
   ],
   "source": [
    "# Info on dataset\n",
    "null_data_joined = joined_df[joined_df.isna().any(axis=1)]\n",
    "null_data_joined.to_csv('./clean_output/no_reg_counties.csv')\n",
    "null_data_joined"
   ]
  },
  {
   "cell_type": "code",
   "execution_count": 73,
   "id": "a1090a37",
   "metadata": {},
   "outputs": [
    {
     "data": {
      "text/html": [
       "<div>\n",
       "<style scoped>\n",
       "    .dataframe tbody tr th:only-of-type {\n",
       "        vertical-align: middle;\n",
       "    }\n",
       "\n",
       "    .dataframe tbody tr th {\n",
       "        vertical-align: top;\n",
       "    }\n",
       "\n",
       "    .dataframe thead th {\n",
       "        text-align: right;\n",
       "    }\n",
       "</style>\n",
       "<table border=\"1\" class=\"dataframe\">\n",
       "  <thead>\n",
       "    <tr style=\"text-align: right;\">\n",
       "      <th></th>\n",
       "      <th>county</th>\n",
       "      <th>2018_Fl_reg</th>\n",
       "      <th>2019_Fl_reg</th>\n",
       "      <th>2020_Fl_reg</th>\n",
       "      <th>2021_Fl_reg</th>\n",
       "      <th>2018_Total_Stations</th>\n",
       "      <th>2019_Total_Stations</th>\n",
       "      <th>2020_Total_Stations</th>\n",
       "      <th>2021_Total_Stations</th>\n",
       "    </tr>\n",
       "  </thead>\n",
       "  <tbody>\n",
       "    <tr>\n",
       "      <th>12</th>\n",
       "      <td>Dade</td>\n",
       "      <td>9559</td>\n",
       "      <td>7936</td>\n",
       "      <td>29977</td>\n",
       "      <td>34827</td>\n",
       "      <td>162.0</td>\n",
       "      <td>223.0</td>\n",
       "      <td>312.0</td>\n",
       "      <td>435.0</td>\n",
       "    </tr>\n",
       "    <tr>\n",
       "      <th>5</th>\n",
       "      <td>Broward</td>\n",
       "      <td>7942</td>\n",
       "      <td>6542</td>\n",
       "      <td>23689</td>\n",
       "      <td>26767</td>\n",
       "      <td>91.0</td>\n",
       "      <td>123.0</td>\n",
       "      <td>171.0</td>\n",
       "      <td>243.0</td>\n",
       "    </tr>\n",
       "    <tr>\n",
       "      <th>48</th>\n",
       "      <td>Palm Beach</td>\n",
       "      <td>7943</td>\n",
       "      <td>6131</td>\n",
       "      <td>22458</td>\n",
       "      <td>25106</td>\n",
       "      <td>83.0</td>\n",
       "      <td>106.0</td>\n",
       "      <td>144.0</td>\n",
       "      <td>214.0</td>\n",
       "    </tr>\n",
       "    <tr>\n",
       "      <th>46</th>\n",
       "      <td>Orange</td>\n",
       "      <td>5245</td>\n",
       "      <td>4830</td>\n",
       "      <td>17617</td>\n",
       "      <td>19980</td>\n",
       "      <td>133.0</td>\n",
       "      <td>165.0</td>\n",
       "      <td>226.0</td>\n",
       "      <td>331.0</td>\n",
       "    </tr>\n",
       "    <tr>\n",
       "      <th>28</th>\n",
       "      <td>Hillsborough</td>\n",
       "      <td>4420</td>\n",
       "      <td>3849</td>\n",
       "      <td>14000</td>\n",
       "      <td>16110</td>\n",
       "      <td>77.0</td>\n",
       "      <td>104.0</td>\n",
       "      <td>135.0</td>\n",
       "      <td>186.0</td>\n",
       "    </tr>\n",
       "    <tr>\n",
       "      <th>50</th>\n",
       "      <td>Pinellas</td>\n",
       "      <td>3508</td>\n",
       "      <td>3014</td>\n",
       "      <td>10590</td>\n",
       "      <td>11760</td>\n",
       "      <td>62.0</td>\n",
       "      <td>92.0</td>\n",
       "      <td>128.0</td>\n",
       "      <td>196.0</td>\n",
       "    </tr>\n",
       "    <tr>\n",
       "      <th>62</th>\n",
       "      <td>Lafayette</td>\n",
       "      <td>1801</td>\n",
       "      <td>1778</td>\n",
       "      <td>6221</td>\n",
       "      <td>7489</td>\n",
       "      <td>NaN</td>\n",
       "      <td>NaN</td>\n",
       "      <td>NaN</td>\n",
       "      <td>NaN</td>\n",
       "    </tr>\n",
       "    <tr>\n",
       "      <th>15</th>\n",
       "      <td>Duval</td>\n",
       "      <td>2059</td>\n",
       "      <td>1733</td>\n",
       "      <td>6101</td>\n",
       "      <td>6878</td>\n",
       "      <td>52.0</td>\n",
       "      <td>83.0</td>\n",
       "      <td>123.0</td>\n",
       "      <td>159.0</td>\n",
       "    </tr>\n",
       "    <tr>\n",
       "      <th>4</th>\n",
       "      <td>Brevard</td>\n",
       "      <td>1881</td>\n",
       "      <td>1657</td>\n",
       "      <td>6088</td>\n",
       "      <td>6843</td>\n",
       "      <td>31.0</td>\n",
       "      <td>36.0</td>\n",
       "      <td>52.0</td>\n",
       "      <td>69.0</td>\n",
       "    </tr>\n",
       "    <tr>\n",
       "      <th>34</th>\n",
       "      <td>Lee</td>\n",
       "      <td>1764</td>\n",
       "      <td>1463</td>\n",
       "      <td>5628</td>\n",
       "      <td>6683</td>\n",
       "      <td>26.0</td>\n",
       "      <td>32.0</td>\n",
       "      <td>39.0</td>\n",
       "      <td>55.0</td>\n",
       "    </tr>\n",
       "    <tr>\n",
       "      <th>54</th>\n",
       "      <td>Sarasota</td>\n",
       "      <td>1983</td>\n",
       "      <td>1633</td>\n",
       "      <td>5953</td>\n",
       "      <td>6673</td>\n",
       "      <td>39.0</td>\n",
       "      <td>41.0</td>\n",
       "      <td>54.0</td>\n",
       "      <td>79.0</td>\n",
       "    </tr>\n",
       "    <tr>\n",
       "      <th>10</th>\n",
       "      <td>Collier</td>\n",
       "      <td>1692</td>\n",
       "      <td>1395</td>\n",
       "      <td>5466</td>\n",
       "      <td>6384</td>\n",
       "      <td>26.0</td>\n",
       "      <td>30.0</td>\n",
       "      <td>43.0</td>\n",
       "      <td>48.0</td>\n",
       "    </tr>\n",
       "    <tr>\n",
       "      <th>55</th>\n",
       "      <td>Seminole</td>\n",
       "      <td>1887</td>\n",
       "      <td>1563</td>\n",
       "      <td>5450</td>\n",
       "      <td>6065</td>\n",
       "      <td>17.0</td>\n",
       "      <td>30.0</td>\n",
       "      <td>43.0</td>\n",
       "      <td>60.0</td>\n",
       "    </tr>\n",
       "    <tr>\n",
       "      <th>49</th>\n",
       "      <td>Pasco</td>\n",
       "      <td>1223</td>\n",
       "      <td>1141</td>\n",
       "      <td>4299</td>\n",
       "      <td>4902</td>\n",
       "      <td>13.0</td>\n",
       "      <td>14.0</td>\n",
       "      <td>19.0</td>\n",
       "      <td>34.0</td>\n",
       "    </tr>\n",
       "    <tr>\n",
       "      <th>39</th>\n",
       "      <td>Manatee</td>\n",
       "      <td>1258</td>\n",
       "      <td>1116</td>\n",
       "      <td>4133</td>\n",
       "      <td>4864</td>\n",
       "      <td>24.0</td>\n",
       "      <td>30.0</td>\n",
       "      <td>36.0</td>\n",
       "      <td>49.0</td>\n",
       "    </tr>\n",
       "    <tr>\n",
       "      <th>56</th>\n",
       "      <td>St. Johns</td>\n",
       "      <td>1099</td>\n",
       "      <td>973</td>\n",
       "      <td>3830</td>\n",
       "      <td>4446</td>\n",
       "      <td>20.0</td>\n",
       "      <td>23.0</td>\n",
       "      <td>26.0</td>\n",
       "      <td>32.0</td>\n",
       "    </tr>\n",
       "    <tr>\n",
       "      <th>63</th>\n",
       "      <td>Volusia</td>\n",
       "      <td>1079</td>\n",
       "      <td>903</td>\n",
       "      <td>3371</td>\n",
       "      <td>3796</td>\n",
       "      <td>26.0</td>\n",
       "      <td>34.0</td>\n",
       "      <td>48.0</td>\n",
       "      <td>57.0</td>\n",
       "    </tr>\n",
       "    <tr>\n",
       "      <th>51</th>\n",
       "      <td>Polk</td>\n",
       "      <td>1009</td>\n",
       "      <td>855</td>\n",
       "      <td>3217</td>\n",
       "      <td>3686</td>\n",
       "      <td>13.0</td>\n",
       "      <td>20.0</td>\n",
       "      <td>30.0</td>\n",
       "      <td>45.0</td>\n",
       "    </tr>\n",
       "    <tr>\n",
       "      <th>33</th>\n",
       "      <td>Lake</td>\n",
       "      <td>897</td>\n",
       "      <td>816</td>\n",
       "      <td>2823</td>\n",
       "      <td>3218</td>\n",
       "      <td>10.0</td>\n",
       "      <td>21.0</td>\n",
       "      <td>26.0</td>\n",
       "      <td>38.0</td>\n",
       "    </tr>\n",
       "    <tr>\n",
       "      <th>47</th>\n",
       "      <td>Osceola</td>\n",
       "      <td>678</td>\n",
       "      <td>642</td>\n",
       "      <td>2579</td>\n",
       "      <td>3064</td>\n",
       "      <td>16.0</td>\n",
       "      <td>24.0</td>\n",
       "      <td>40.0</td>\n",
       "      <td>68.0</td>\n",
       "    </tr>\n",
       "    <tr>\n",
       "      <th>0</th>\n",
       "      <td>Alachua</td>\n",
       "      <td>766</td>\n",
       "      <td>699</td>\n",
       "      <td>2454</td>\n",
       "      <td>2774</td>\n",
       "      <td>17.0</td>\n",
       "      <td>22.0</td>\n",
       "      <td>29.0</td>\n",
       "      <td>41.0</td>\n",
       "    </tr>\n",
       "    <tr>\n",
       "      <th>57</th>\n",
       "      <td>St. Lucie</td>\n",
       "      <td>601</td>\n",
       "      <td>523</td>\n",
       "      <td>2046</td>\n",
       "      <td>2400</td>\n",
       "      <td>17.0</td>\n",
       "      <td>17.0</td>\n",
       "      <td>25.0</td>\n",
       "      <td>32.0</td>\n",
       "    </tr>\n",
       "    <tr>\n",
       "      <th>35</th>\n",
       "      <td>Leon</td>\n",
       "      <td>656</td>\n",
       "      <td>569</td>\n",
       "      <td>2135</td>\n",
       "      <td>2377</td>\n",
       "      <td>15.0</td>\n",
       "      <td>17.0</td>\n",
       "      <td>22.0</td>\n",
       "      <td>34.0</td>\n",
       "    </tr>\n",
       "    <tr>\n",
       "      <th>41</th>\n",
       "      <td>Martin</td>\n",
       "      <td>728</td>\n",
       "      <td>563</td>\n",
       "      <td>2114</td>\n",
       "      <td>2319</td>\n",
       "      <td>8.0</td>\n",
       "      <td>12.0</td>\n",
       "      <td>21.0</td>\n",
       "      <td>24.0</td>\n",
       "    </tr>\n",
       "    <tr>\n",
       "      <th>40</th>\n",
       "      <td>Marion</td>\n",
       "      <td>550</td>\n",
       "      <td>460</td>\n",
       "      <td>1670</td>\n",
       "      <td>1900</td>\n",
       "      <td>14.0</td>\n",
       "      <td>14.0</td>\n",
       "      <td>15.0</td>\n",
       "      <td>18.0</td>\n",
       "    </tr>\n",
       "    <tr>\n",
       "      <th>16</th>\n",
       "      <td>Escambia</td>\n",
       "      <td>450</td>\n",
       "      <td>389</td>\n",
       "      <td>1449</td>\n",
       "      <td>1631</td>\n",
       "      <td>12.0</td>\n",
       "      <td>17.0</td>\n",
       "      <td>20.0</td>\n",
       "      <td>22.0</td>\n",
       "    </tr>\n",
       "    <tr>\n",
       "      <th>7</th>\n",
       "      <td>Charlotte</td>\n",
       "      <td>398</td>\n",
       "      <td>362</td>\n",
       "      <td>1314</td>\n",
       "      <td>1489</td>\n",
       "      <td>2.0</td>\n",
       "      <td>2.0</td>\n",
       "      <td>3.0</td>\n",
       "      <td>5.0</td>\n",
       "    </tr>\n",
       "    <tr>\n",
       "      <th>30</th>\n",
       "      <td>Indian River</td>\n",
       "      <td>385</td>\n",
       "      <td>331</td>\n",
       "      <td>1300</td>\n",
       "      <td>1461</td>\n",
       "      <td>5.0</td>\n",
       "      <td>5.0</td>\n",
       "      <td>8.0</td>\n",
       "      <td>10.0</td>\n",
       "    </tr>\n",
       "    <tr>\n",
       "      <th>44</th>\n",
       "      <td>Okaloosa</td>\n",
       "      <td>407</td>\n",
       "      <td>308</td>\n",
       "      <td>1284</td>\n",
       "      <td>1448</td>\n",
       "      <td>14.0</td>\n",
       "      <td>16.0</td>\n",
       "      <td>20.0</td>\n",
       "      <td>21.0</td>\n",
       "    </tr>\n",
       "    <tr>\n",
       "      <th>9</th>\n",
       "      <td>Clay</td>\n",
       "      <td>382</td>\n",
       "      <td>297</td>\n",
       "      <td>1051</td>\n",
       "      <td>1184</td>\n",
       "      <td>3.0</td>\n",
       "      <td>5.0</td>\n",
       "      <td>7.0</td>\n",
       "      <td>7.0</td>\n",
       "    </tr>\n",
       "    <tr>\n",
       "      <th>53</th>\n",
       "      <td>Santa Rosa</td>\n",
       "      <td>303</td>\n",
       "      <td>260</td>\n",
       "      <td>988</td>\n",
       "      <td>1141</td>\n",
       "      <td>3.0</td>\n",
       "      <td>7.0</td>\n",
       "      <td>8.0</td>\n",
       "      <td>9.0</td>\n",
       "    </tr>\n",
       "    <tr>\n",
       "      <th>17</th>\n",
       "      <td>Flagler</td>\n",
       "      <td>307</td>\n",
       "      <td>258</td>\n",
       "      <td>969</td>\n",
       "      <td>1092</td>\n",
       "      <td>4.0</td>\n",
       "      <td>5.0</td>\n",
       "      <td>7.0</td>\n",
       "      <td>8.0</td>\n",
       "    </tr>\n",
       "    <tr>\n",
       "      <th>42</th>\n",
       "      <td>Monroe</td>\n",
       "      <td>317</td>\n",
       "      <td>284</td>\n",
       "      <td>953</td>\n",
       "      <td>1047</td>\n",
       "      <td>27.0</td>\n",
       "      <td>29.0</td>\n",
       "      <td>33.0</td>\n",
       "      <td>34.0</td>\n",
       "    </tr>\n",
       "    <tr>\n",
       "      <th>26</th>\n",
       "      <td>Hernando</td>\n",
       "      <td>275</td>\n",
       "      <td>229</td>\n",
       "      <td>888</td>\n",
       "      <td>1039</td>\n",
       "      <td>1.0</td>\n",
       "      <td>1.0</td>\n",
       "      <td>2.0</td>\n",
       "      <td>3.0</td>\n",
       "    </tr>\n",
       "    <tr>\n",
       "      <th>2</th>\n",
       "      <td>Bay</td>\n",
       "      <td>300</td>\n",
       "      <td>237</td>\n",
       "      <td>876</td>\n",
       "      <td>972</td>\n",
       "      <td>8.0</td>\n",
       "      <td>9.0</td>\n",
       "      <td>13.0</td>\n",
       "      <td>16.0</td>\n",
       "    </tr>\n",
       "    <tr>\n",
       "      <th>58</th>\n",
       "      <td>Sumter</td>\n",
       "      <td>282</td>\n",
       "      <td>255</td>\n",
       "      <td>859</td>\n",
       "      <td>952</td>\n",
       "      <td>4.0</td>\n",
       "      <td>4.0</td>\n",
       "      <td>5.0</td>\n",
       "      <td>9.0</td>\n",
       "    </tr>\n",
       "    <tr>\n",
       "      <th>65</th>\n",
       "      <td>Walton</td>\n",
       "      <td>211</td>\n",
       "      <td>171</td>\n",
       "      <td>649</td>\n",
       "      <td>772</td>\n",
       "      <td>8.0</td>\n",
       "      <td>9.0</td>\n",
       "      <td>13.0</td>\n",
       "      <td>14.0</td>\n",
       "    </tr>\n",
       "    <tr>\n",
       "      <th>8</th>\n",
       "      <td>Citrus</td>\n",
       "      <td>201</td>\n",
       "      <td>161</td>\n",
       "      <td>637</td>\n",
       "      <td>750</td>\n",
       "      <td>6.0</td>\n",
       "      <td>9.0</td>\n",
       "      <td>10.0</td>\n",
       "      <td>19.0</td>\n",
       "    </tr>\n",
       "    <tr>\n",
       "      <th>43</th>\n",
       "      <td>Nassau</td>\n",
       "      <td>195</td>\n",
       "      <td>163</td>\n",
       "      <td>577</td>\n",
       "      <td>657</td>\n",
       "      <td>13.0</td>\n",
       "      <td>13.0</td>\n",
       "      <td>14.0</td>\n",
       "      <td>16.0</td>\n",
       "    </tr>\n",
       "    <tr>\n",
       "      <th>27</th>\n",
       "      <td>Highlands</td>\n",
       "      <td>141</td>\n",
       "      <td>110</td>\n",
       "      <td>347</td>\n",
       "      <td>399</td>\n",
       "      <td>7.0</td>\n",
       "      <td>7.0</td>\n",
       "      <td>8.0</td>\n",
       "      <td>16.0</td>\n",
       "    </tr>\n",
       "    <tr>\n",
       "      <th>11</th>\n",
       "      <td>Columbia</td>\n",
       "      <td>52</td>\n",
       "      <td>41</td>\n",
       "      <td>142</td>\n",
       "      <td>180</td>\n",
       "      <td>3.0</td>\n",
       "      <td>4.0</td>\n",
       "      <td>5.0</td>\n",
       "      <td>6.0</td>\n",
       "    </tr>\n",
       "    <tr>\n",
       "      <th>52</th>\n",
       "      <td>Putnam</td>\n",
       "      <td>37</td>\n",
       "      <td>42</td>\n",
       "      <td>155</td>\n",
       "      <td>172</td>\n",
       "      <td>4.0</td>\n",
       "      <td>4.0</td>\n",
       "      <td>4.0</td>\n",
       "      <td>6.0</td>\n",
       "    </tr>\n",
       "    <tr>\n",
       "      <th>25</th>\n",
       "      <td>Hendry</td>\n",
       "      <td>32</td>\n",
       "      <td>29</td>\n",
       "      <td>103</td>\n",
       "      <td>117</td>\n",
       "      <td>0.0</td>\n",
       "      <td>0.0</td>\n",
       "      <td>0.0</td>\n",
       "      <td>4.0</td>\n",
       "    </tr>\n",
       "    <tr>\n",
       "      <th>36</th>\n",
       "      <td>Levy</td>\n",
       "      <td>23</td>\n",
       "      <td>24</td>\n",
       "      <td>82</td>\n",
       "      <td>106</td>\n",
       "      <td>NaN</td>\n",
       "      <td>NaN</td>\n",
       "      <td>NaN</td>\n",
       "      <td>NaN</td>\n",
       "    </tr>\n",
       "    <tr>\n",
       "      <th>64</th>\n",
       "      <td>Wakulla</td>\n",
       "      <td>25</td>\n",
       "      <td>21</td>\n",
       "      <td>76</td>\n",
       "      <td>90</td>\n",
       "      <td>0.0</td>\n",
       "      <td>0.0</td>\n",
       "      <td>0.0</td>\n",
       "      <td>4.0</td>\n",
       "    </tr>\n",
       "  </tbody>\n",
       "</table>\n",
       "</div>"
      ],
      "text/plain": [
       "          county  2018_Fl_reg  2019_Fl_reg  2020_Fl_reg  2021_Fl_reg  \\\n",
       "12          Dade         9559         7936        29977        34827   \n",
       "5        Broward         7942         6542        23689        26767   \n",
       "48    Palm Beach         7943         6131        22458        25106   \n",
       "46        Orange         5245         4830        17617        19980   \n",
       "28  Hillsborough         4420         3849        14000        16110   \n",
       "50      Pinellas         3508         3014        10590        11760   \n",
       "62     Lafayette         1801         1778         6221         7489   \n",
       "15         Duval         2059         1733         6101         6878   \n",
       "4        Brevard         1881         1657         6088         6843   \n",
       "34           Lee         1764         1463         5628         6683   \n",
       "54      Sarasota         1983         1633         5953         6673   \n",
       "10       Collier         1692         1395         5466         6384   \n",
       "55      Seminole         1887         1563         5450         6065   \n",
       "49         Pasco         1223         1141         4299         4902   \n",
       "39       Manatee         1258         1116         4133         4864   \n",
       "56     St. Johns         1099          973         3830         4446   \n",
       "63       Volusia         1079          903         3371         3796   \n",
       "51          Polk         1009          855         3217         3686   \n",
       "33          Lake          897          816         2823         3218   \n",
       "47       Osceola          678          642         2579         3064   \n",
       "0        Alachua          766          699         2454         2774   \n",
       "57     St. Lucie          601          523         2046         2400   \n",
       "35          Leon          656          569         2135         2377   \n",
       "41        Martin          728          563         2114         2319   \n",
       "40        Marion          550          460         1670         1900   \n",
       "16      Escambia          450          389         1449         1631   \n",
       "7      Charlotte          398          362         1314         1489   \n",
       "30  Indian River          385          331         1300         1461   \n",
       "44      Okaloosa          407          308         1284         1448   \n",
       "9           Clay          382          297         1051         1184   \n",
       "53    Santa Rosa          303          260          988         1141   \n",
       "17       Flagler          307          258          969         1092   \n",
       "42        Monroe          317          284          953         1047   \n",
       "26      Hernando          275          229          888         1039   \n",
       "2            Bay          300          237          876          972   \n",
       "58        Sumter          282          255          859          952   \n",
       "65        Walton          211          171          649          772   \n",
       "8         Citrus          201          161          637          750   \n",
       "43        Nassau          195          163          577          657   \n",
       "27     Highlands          141          110          347          399   \n",
       "11      Columbia           52           41          142          180   \n",
       "52        Putnam           37           42          155          172   \n",
       "25        Hendry           32           29          103          117   \n",
       "36          Levy           23           24           82          106   \n",
       "64       Wakulla           25           21           76           90   \n",
       "\n",
       "    2018_Total_Stations  2019_Total_Stations  2020_Total_Stations  \\\n",
       "12                162.0                223.0                312.0   \n",
       "5                  91.0                123.0                171.0   \n",
       "48                 83.0                106.0                144.0   \n",
       "46                133.0                165.0                226.0   \n",
       "28                 77.0                104.0                135.0   \n",
       "50                 62.0                 92.0                128.0   \n",
       "62                  NaN                  NaN                  NaN   \n",
       "15                 52.0                 83.0                123.0   \n",
       "4                  31.0                 36.0                 52.0   \n",
       "34                 26.0                 32.0                 39.0   \n",
       "54                 39.0                 41.0                 54.0   \n",
       "10                 26.0                 30.0                 43.0   \n",
       "55                 17.0                 30.0                 43.0   \n",
       "49                 13.0                 14.0                 19.0   \n",
       "39                 24.0                 30.0                 36.0   \n",
       "56                 20.0                 23.0                 26.0   \n",
       "63                 26.0                 34.0                 48.0   \n",
       "51                 13.0                 20.0                 30.0   \n",
       "33                 10.0                 21.0                 26.0   \n",
       "47                 16.0                 24.0                 40.0   \n",
       "0                  17.0                 22.0                 29.0   \n",
       "57                 17.0                 17.0                 25.0   \n",
       "35                 15.0                 17.0                 22.0   \n",
       "41                  8.0                 12.0                 21.0   \n",
       "40                 14.0                 14.0                 15.0   \n",
       "16                 12.0                 17.0                 20.0   \n",
       "7                   2.0                  2.0                  3.0   \n",
       "30                  5.0                  5.0                  8.0   \n",
       "44                 14.0                 16.0                 20.0   \n",
       "9                   3.0                  5.0                  7.0   \n",
       "53                  3.0                  7.0                  8.0   \n",
       "17                  4.0                  5.0                  7.0   \n",
       "42                 27.0                 29.0                 33.0   \n",
       "26                  1.0                  1.0                  2.0   \n",
       "2                   8.0                  9.0                 13.0   \n",
       "58                  4.0                  4.0                  5.0   \n",
       "65                  8.0                  9.0                 13.0   \n",
       "8                   6.0                  9.0                 10.0   \n",
       "43                 13.0                 13.0                 14.0   \n",
       "27                  7.0                  7.0                  8.0   \n",
       "11                  3.0                  4.0                  5.0   \n",
       "52                  4.0                  4.0                  4.0   \n",
       "25                  0.0                  0.0                  0.0   \n",
       "36                  NaN                  NaN                  NaN   \n",
       "64                  0.0                  0.0                  0.0   \n",
       "\n",
       "    2021_Total_Stations  \n",
       "12                435.0  \n",
       "5                 243.0  \n",
       "48                214.0  \n",
       "46                331.0  \n",
       "28                186.0  \n",
       "50                196.0  \n",
       "62                  NaN  \n",
       "15                159.0  \n",
       "4                  69.0  \n",
       "34                 55.0  \n",
       "54                 79.0  \n",
       "10                 48.0  \n",
       "55                 60.0  \n",
       "49                 34.0  \n",
       "39                 49.0  \n",
       "56                 32.0  \n",
       "63                 57.0  \n",
       "51                 45.0  \n",
       "33                 38.0  \n",
       "47                 68.0  \n",
       "0                  41.0  \n",
       "57                 32.0  \n",
       "35                 34.0  \n",
       "41                 24.0  \n",
       "40                 18.0  \n",
       "16                 22.0  \n",
       "7                   5.0  \n",
       "30                 10.0  \n",
       "44                 21.0  \n",
       "9                   7.0  \n",
       "53                  9.0  \n",
       "17                  8.0  \n",
       "42                 34.0  \n",
       "26                  3.0  \n",
       "2                  16.0  \n",
       "58                  9.0  \n",
       "65                 14.0  \n",
       "8                  19.0  \n",
       "43                 16.0  \n",
       "27                 16.0  \n",
       "11                  6.0  \n",
       "52                  6.0  \n",
       "25                  4.0  \n",
       "36                  NaN  \n",
       "64                  4.0  "
      ]
     },
     "execution_count": 73,
     "metadata": {},
     "output_type": "execute_result"
    }
   ],
   "source": [
    "# Describe our dataset\n",
    "joined_df.sort_values(\"2021_Fl_reg\",ascending=False).head(45)"
   ]
  },
  {
   "cell_type": "code",
   "execution_count": 74,
   "id": "a8eb8946",
   "metadata": {},
   "outputs": [],
   "source": [
    "# joined_df['2018'] = (['2018_Total_Stations'].astype(float) / joined_df['2018_Fl_reg'].astype(float))\n",
    "joined_df['2018'] = (joined_df['2018_Total_Stations'] / joined_df['2018_Fl_reg'])*100\n",
    "joined_df['2019'] = (joined_df['2019_Total_Stations'] / joined_df['2019_Fl_reg'])*100\n",
    "joined_df['2020'] = (joined_df['2020_Total_Stations'] / joined_df['2020_Fl_reg'])*100\n",
    "joined_df['2021'] = (joined_df['2021_Total_Stations'] / joined_df['2021_Fl_reg'])*100\n",
    "\n",
    "joined_df['2019_%increase'] = ((joined_df['2019_Fl_reg'] - joined_df['2018_Fl_reg']) / joined_df['2018_Fl_reg'])*100\n",
    "joined_df['2020_%increase'] = ((joined_df['2020_Fl_reg'] - joined_df['2019_Fl_reg']) / joined_df['2019_Fl_reg'])*100\n",
    "joined_df['2021_%increase'] = ((joined_df['2021_Fl_reg'] - joined_df['2020_Fl_reg']) / joined_df['2020_Fl_reg'])*100"
   ]
  },
  {
   "cell_type": "code",
   "execution_count": 75,
   "id": "736f9bdf",
   "metadata": {
    "scrolled": true
   },
   "outputs": [
    {
     "data": {
      "text/html": [
       "<div>\n",
       "<style scoped>\n",
       "    .dataframe tbody tr th:only-of-type {\n",
       "        vertical-align: middle;\n",
       "    }\n",
       "\n",
       "    .dataframe tbody tr th {\n",
       "        vertical-align: top;\n",
       "    }\n",
       "\n",
       "    .dataframe thead th {\n",
       "        text-align: right;\n",
       "    }\n",
       "</style>\n",
       "<table border=\"1\" class=\"dataframe\">\n",
       "  <thead>\n",
       "    <tr style=\"text-align: right;\">\n",
       "      <th></th>\n",
       "      <th>county</th>\n",
       "      <th>2018_Fl_reg</th>\n",
       "      <th>2019_Fl_reg</th>\n",
       "      <th>2020_Fl_reg</th>\n",
       "      <th>2021_Fl_reg</th>\n",
       "      <th>2018_Total_Stations</th>\n",
       "      <th>2019_Total_Stations</th>\n",
       "      <th>2020_Total_Stations</th>\n",
       "      <th>2021_Total_Stations</th>\n",
       "      <th>2018</th>\n",
       "      <th>2019</th>\n",
       "      <th>2020</th>\n",
       "      <th>2021</th>\n",
       "      <th>2019_%increase</th>\n",
       "      <th>2020_%increase</th>\n",
       "      <th>2021_%increase</th>\n",
       "    </tr>\n",
       "  </thead>\n",
       "  <tbody>\n",
       "    <tr>\n",
       "      <th>12</th>\n",
       "      <td>Dade</td>\n",
       "      <td>9559</td>\n",
       "      <td>7936</td>\n",
       "      <td>29977</td>\n",
       "      <td>34827</td>\n",
       "      <td>162.0</td>\n",
       "      <td>223.0</td>\n",
       "      <td>312.0</td>\n",
       "      <td>435.0</td>\n",
       "      <td>1.694738</td>\n",
       "      <td>2.809980</td>\n",
       "      <td>1.040798</td>\n",
       "      <td>1.249031</td>\n",
       "      <td>-16.978763</td>\n",
       "      <td>277.734375</td>\n",
       "      <td>16.179071</td>\n",
       "    </tr>\n",
       "    <tr>\n",
       "      <th>5</th>\n",
       "      <td>Broward</td>\n",
       "      <td>7942</td>\n",
       "      <td>6542</td>\n",
       "      <td>23689</td>\n",
       "      <td>26767</td>\n",
       "      <td>91.0</td>\n",
       "      <td>123.0</td>\n",
       "      <td>171.0</td>\n",
       "      <td>243.0</td>\n",
       "      <td>1.145807</td>\n",
       "      <td>1.880159</td>\n",
       "      <td>0.721854</td>\n",
       "      <td>0.907834</td>\n",
       "      <td>-17.627802</td>\n",
       "      <td>262.106389</td>\n",
       "      <td>12.993372</td>\n",
       "    </tr>\n",
       "    <tr>\n",
       "      <th>48</th>\n",
       "      <td>Palm Beach</td>\n",
       "      <td>7943</td>\n",
       "      <td>6131</td>\n",
       "      <td>22458</td>\n",
       "      <td>25106</td>\n",
       "      <td>83.0</td>\n",
       "      <td>106.0</td>\n",
       "      <td>144.0</td>\n",
       "      <td>214.0</td>\n",
       "      <td>1.044945</td>\n",
       "      <td>1.728919</td>\n",
       "      <td>0.641197</td>\n",
       "      <td>0.852386</td>\n",
       "      <td>-22.812539</td>\n",
       "      <td>266.302398</td>\n",
       "      <td>11.790899</td>\n",
       "    </tr>\n",
       "    <tr>\n",
       "      <th>46</th>\n",
       "      <td>Orange</td>\n",
       "      <td>5245</td>\n",
       "      <td>4830</td>\n",
       "      <td>17617</td>\n",
       "      <td>19980</td>\n",
       "      <td>133.0</td>\n",
       "      <td>165.0</td>\n",
       "      <td>226.0</td>\n",
       "      <td>331.0</td>\n",
       "      <td>2.535748</td>\n",
       "      <td>3.416149</td>\n",
       "      <td>1.282852</td>\n",
       "      <td>1.656657</td>\n",
       "      <td>-7.912297</td>\n",
       "      <td>264.741201</td>\n",
       "      <td>13.413180</td>\n",
       "    </tr>\n",
       "    <tr>\n",
       "      <th>28</th>\n",
       "      <td>Hillsborough</td>\n",
       "      <td>4420</td>\n",
       "      <td>3849</td>\n",
       "      <td>14000</td>\n",
       "      <td>16110</td>\n",
       "      <td>77.0</td>\n",
       "      <td>104.0</td>\n",
       "      <td>135.0</td>\n",
       "      <td>186.0</td>\n",
       "      <td>1.742081</td>\n",
       "      <td>2.702001</td>\n",
       "      <td>0.964286</td>\n",
       "      <td>1.154562</td>\n",
       "      <td>-12.918552</td>\n",
       "      <td>263.730839</td>\n",
       "      <td>15.071429</td>\n",
       "    </tr>\n",
       "    <tr>\n",
       "      <th>50</th>\n",
       "      <td>Pinellas</td>\n",
       "      <td>3508</td>\n",
       "      <td>3014</td>\n",
       "      <td>10590</td>\n",
       "      <td>11760</td>\n",
       "      <td>62.0</td>\n",
       "      <td>92.0</td>\n",
       "      <td>128.0</td>\n",
       "      <td>196.0</td>\n",
       "      <td>1.767389</td>\n",
       "      <td>3.052422</td>\n",
       "      <td>1.208687</td>\n",
       "      <td>1.666667</td>\n",
       "      <td>-14.082098</td>\n",
       "      <td>251.360319</td>\n",
       "      <td>11.048159</td>\n",
       "    </tr>\n",
       "    <tr>\n",
       "      <th>62</th>\n",
       "      <td>Lafayette</td>\n",
       "      <td>1801</td>\n",
       "      <td>1778</td>\n",
       "      <td>6221</td>\n",
       "      <td>7489</td>\n",
       "      <td>NaN</td>\n",
       "      <td>NaN</td>\n",
       "      <td>NaN</td>\n",
       "      <td>NaN</td>\n",
       "      <td>NaN</td>\n",
       "      <td>NaN</td>\n",
       "      <td>NaN</td>\n",
       "      <td>NaN</td>\n",
       "      <td>-1.277068</td>\n",
       "      <td>249.887514</td>\n",
       "      <td>20.382575</td>\n",
       "    </tr>\n",
       "    <tr>\n",
       "      <th>15</th>\n",
       "      <td>Duval</td>\n",
       "      <td>2059</td>\n",
       "      <td>1733</td>\n",
       "      <td>6101</td>\n",
       "      <td>6878</td>\n",
       "      <td>52.0</td>\n",
       "      <td>83.0</td>\n",
       "      <td>123.0</td>\n",
       "      <td>159.0</td>\n",
       "      <td>2.525498</td>\n",
       "      <td>4.789383</td>\n",
       "      <td>2.016063</td>\n",
       "      <td>2.311719</td>\n",
       "      <td>-15.832929</td>\n",
       "      <td>252.048471</td>\n",
       "      <td>12.735617</td>\n",
       "    </tr>\n",
       "    <tr>\n",
       "      <th>4</th>\n",
       "      <td>Brevard</td>\n",
       "      <td>1881</td>\n",
       "      <td>1657</td>\n",
       "      <td>6088</td>\n",
       "      <td>6843</td>\n",
       "      <td>31.0</td>\n",
       "      <td>36.0</td>\n",
       "      <td>52.0</td>\n",
       "      <td>69.0</td>\n",
       "      <td>1.648060</td>\n",
       "      <td>2.172601</td>\n",
       "      <td>0.854139</td>\n",
       "      <td>1.008330</td>\n",
       "      <td>-11.908559</td>\n",
       "      <td>267.410984</td>\n",
       "      <td>12.401445</td>\n",
       "    </tr>\n",
       "    <tr>\n",
       "      <th>34</th>\n",
       "      <td>Lee</td>\n",
       "      <td>1764</td>\n",
       "      <td>1463</td>\n",
       "      <td>5628</td>\n",
       "      <td>6683</td>\n",
       "      <td>26.0</td>\n",
       "      <td>32.0</td>\n",
       "      <td>39.0</td>\n",
       "      <td>55.0</td>\n",
       "      <td>1.473923</td>\n",
       "      <td>2.187286</td>\n",
       "      <td>0.692964</td>\n",
       "      <td>0.822984</td>\n",
       "      <td>-17.063492</td>\n",
       "      <td>284.688995</td>\n",
       "      <td>18.745558</td>\n",
       "    </tr>\n",
       "    <tr>\n",
       "      <th>54</th>\n",
       "      <td>Sarasota</td>\n",
       "      <td>1983</td>\n",
       "      <td>1633</td>\n",
       "      <td>5953</td>\n",
       "      <td>6673</td>\n",
       "      <td>39.0</td>\n",
       "      <td>41.0</td>\n",
       "      <td>54.0</td>\n",
       "      <td>79.0</td>\n",
       "      <td>1.966717</td>\n",
       "      <td>2.510716</td>\n",
       "      <td>0.907106</td>\n",
       "      <td>1.183875</td>\n",
       "      <td>-17.650025</td>\n",
       "      <td>264.543784</td>\n",
       "      <td>12.094742</td>\n",
       "    </tr>\n",
       "    <tr>\n",
       "      <th>10</th>\n",
       "      <td>Collier</td>\n",
       "      <td>1692</td>\n",
       "      <td>1395</td>\n",
       "      <td>5466</td>\n",
       "      <td>6384</td>\n",
       "      <td>26.0</td>\n",
       "      <td>30.0</td>\n",
       "      <td>43.0</td>\n",
       "      <td>48.0</td>\n",
       "      <td>1.536643</td>\n",
       "      <td>2.150538</td>\n",
       "      <td>0.786681</td>\n",
       "      <td>0.751880</td>\n",
       "      <td>-17.553191</td>\n",
       "      <td>291.827957</td>\n",
       "      <td>16.794731</td>\n",
       "    </tr>\n",
       "    <tr>\n",
       "      <th>55</th>\n",
       "      <td>Seminole</td>\n",
       "      <td>1887</td>\n",
       "      <td>1563</td>\n",
       "      <td>5450</td>\n",
       "      <td>6065</td>\n",
       "      <td>17.0</td>\n",
       "      <td>30.0</td>\n",
       "      <td>43.0</td>\n",
       "      <td>60.0</td>\n",
       "      <td>0.900901</td>\n",
       "      <td>1.919386</td>\n",
       "      <td>0.788991</td>\n",
       "      <td>0.989283</td>\n",
       "      <td>-17.170111</td>\n",
       "      <td>248.688420</td>\n",
       "      <td>11.284404</td>\n",
       "    </tr>\n",
       "    <tr>\n",
       "      <th>49</th>\n",
       "      <td>Pasco</td>\n",
       "      <td>1223</td>\n",
       "      <td>1141</td>\n",
       "      <td>4299</td>\n",
       "      <td>4902</td>\n",
       "      <td>13.0</td>\n",
       "      <td>14.0</td>\n",
       "      <td>19.0</td>\n",
       "      <td>34.0</td>\n",
       "      <td>1.062960</td>\n",
       "      <td>1.226994</td>\n",
       "      <td>0.441963</td>\n",
       "      <td>0.693594</td>\n",
       "      <td>-6.704824</td>\n",
       "      <td>276.774759</td>\n",
       "      <td>14.026518</td>\n",
       "    </tr>\n",
       "    <tr>\n",
       "      <th>39</th>\n",
       "      <td>Manatee</td>\n",
       "      <td>1258</td>\n",
       "      <td>1116</td>\n",
       "      <td>4133</td>\n",
       "      <td>4864</td>\n",
       "      <td>24.0</td>\n",
       "      <td>30.0</td>\n",
       "      <td>36.0</td>\n",
       "      <td>49.0</td>\n",
       "      <td>1.907790</td>\n",
       "      <td>2.688172</td>\n",
       "      <td>0.871038</td>\n",
       "      <td>1.007401</td>\n",
       "      <td>-11.287758</td>\n",
       "      <td>270.340502</td>\n",
       "      <td>17.686910</td>\n",
       "    </tr>\n",
       "    <tr>\n",
       "      <th>56</th>\n",
       "      <td>St. Johns</td>\n",
       "      <td>1099</td>\n",
       "      <td>973</td>\n",
       "      <td>3830</td>\n",
       "      <td>4446</td>\n",
       "      <td>20.0</td>\n",
       "      <td>23.0</td>\n",
       "      <td>26.0</td>\n",
       "      <td>32.0</td>\n",
       "      <td>1.819836</td>\n",
       "      <td>2.363823</td>\n",
       "      <td>0.678851</td>\n",
       "      <td>0.719748</td>\n",
       "      <td>-11.464968</td>\n",
       "      <td>293.627955</td>\n",
       "      <td>16.083551</td>\n",
       "    </tr>\n",
       "    <tr>\n",
       "      <th>63</th>\n",
       "      <td>Volusia</td>\n",
       "      <td>1079</td>\n",
       "      <td>903</td>\n",
       "      <td>3371</td>\n",
       "      <td>3796</td>\n",
       "      <td>26.0</td>\n",
       "      <td>34.0</td>\n",
       "      <td>48.0</td>\n",
       "      <td>57.0</td>\n",
       "      <td>2.409639</td>\n",
       "      <td>3.765227</td>\n",
       "      <td>1.423910</td>\n",
       "      <td>1.501581</td>\n",
       "      <td>-16.311399</td>\n",
       "      <td>273.311185</td>\n",
       "      <td>12.607535</td>\n",
       "    </tr>\n",
       "    <tr>\n",
       "      <th>51</th>\n",
       "      <td>Polk</td>\n",
       "      <td>1009</td>\n",
       "      <td>855</td>\n",
       "      <td>3217</td>\n",
       "      <td>3686</td>\n",
       "      <td>13.0</td>\n",
       "      <td>20.0</td>\n",
       "      <td>30.0</td>\n",
       "      <td>45.0</td>\n",
       "      <td>1.288404</td>\n",
       "      <td>2.339181</td>\n",
       "      <td>0.932546</td>\n",
       "      <td>1.220836</td>\n",
       "      <td>-15.262636</td>\n",
       "      <td>276.257310</td>\n",
       "      <td>14.578800</td>\n",
       "    </tr>\n",
       "    <tr>\n",
       "      <th>33</th>\n",
       "      <td>Lake</td>\n",
       "      <td>897</td>\n",
       "      <td>816</td>\n",
       "      <td>2823</td>\n",
       "      <td>3218</td>\n",
       "      <td>10.0</td>\n",
       "      <td>21.0</td>\n",
       "      <td>26.0</td>\n",
       "      <td>38.0</td>\n",
       "      <td>1.114827</td>\n",
       "      <td>2.573529</td>\n",
       "      <td>0.921006</td>\n",
       "      <td>1.180858</td>\n",
       "      <td>-9.030100</td>\n",
       "      <td>245.955882</td>\n",
       "      <td>13.992207</td>\n",
       "    </tr>\n",
       "    <tr>\n",
       "      <th>47</th>\n",
       "      <td>Osceola</td>\n",
       "      <td>678</td>\n",
       "      <td>642</td>\n",
       "      <td>2579</td>\n",
       "      <td>3064</td>\n",
       "      <td>16.0</td>\n",
       "      <td>24.0</td>\n",
       "      <td>40.0</td>\n",
       "      <td>68.0</td>\n",
       "      <td>2.359882</td>\n",
       "      <td>3.738318</td>\n",
       "      <td>1.550989</td>\n",
       "      <td>2.219321</td>\n",
       "      <td>-5.309735</td>\n",
       "      <td>301.713396</td>\n",
       "      <td>18.805739</td>\n",
       "    </tr>\n",
       "    <tr>\n",
       "      <th>0</th>\n",
       "      <td>Alachua</td>\n",
       "      <td>766</td>\n",
       "      <td>699</td>\n",
       "      <td>2454</td>\n",
       "      <td>2774</td>\n",
       "      <td>17.0</td>\n",
       "      <td>22.0</td>\n",
       "      <td>29.0</td>\n",
       "      <td>41.0</td>\n",
       "      <td>2.219321</td>\n",
       "      <td>3.147353</td>\n",
       "      <td>1.181744</td>\n",
       "      <td>1.478010</td>\n",
       "      <td>-8.746736</td>\n",
       "      <td>251.072961</td>\n",
       "      <td>13.039935</td>\n",
       "    </tr>\n",
       "    <tr>\n",
       "      <th>57</th>\n",
       "      <td>St. Lucie</td>\n",
       "      <td>601</td>\n",
       "      <td>523</td>\n",
       "      <td>2046</td>\n",
       "      <td>2400</td>\n",
       "      <td>17.0</td>\n",
       "      <td>17.0</td>\n",
       "      <td>25.0</td>\n",
       "      <td>32.0</td>\n",
       "      <td>2.828619</td>\n",
       "      <td>3.250478</td>\n",
       "      <td>1.221896</td>\n",
       "      <td>1.333333</td>\n",
       "      <td>-12.978369</td>\n",
       "      <td>291.204589</td>\n",
       "      <td>17.302053</td>\n",
       "    </tr>\n",
       "    <tr>\n",
       "      <th>35</th>\n",
       "      <td>Leon</td>\n",
       "      <td>656</td>\n",
       "      <td>569</td>\n",
       "      <td>2135</td>\n",
       "      <td>2377</td>\n",
       "      <td>15.0</td>\n",
       "      <td>17.0</td>\n",
       "      <td>22.0</td>\n",
       "      <td>34.0</td>\n",
       "      <td>2.286585</td>\n",
       "      <td>2.987698</td>\n",
       "      <td>1.030445</td>\n",
       "      <td>1.430374</td>\n",
       "      <td>-13.262195</td>\n",
       "      <td>275.219684</td>\n",
       "      <td>11.334895</td>\n",
       "    </tr>\n",
       "    <tr>\n",
       "      <th>41</th>\n",
       "      <td>Martin</td>\n",
       "      <td>728</td>\n",
       "      <td>563</td>\n",
       "      <td>2114</td>\n",
       "      <td>2319</td>\n",
       "      <td>8.0</td>\n",
       "      <td>12.0</td>\n",
       "      <td>21.0</td>\n",
       "      <td>24.0</td>\n",
       "      <td>1.098901</td>\n",
       "      <td>2.131439</td>\n",
       "      <td>0.993377</td>\n",
       "      <td>1.034929</td>\n",
       "      <td>-22.664835</td>\n",
       "      <td>275.488455</td>\n",
       "      <td>9.697256</td>\n",
       "    </tr>\n",
       "    <tr>\n",
       "      <th>40</th>\n",
       "      <td>Marion</td>\n",
       "      <td>550</td>\n",
       "      <td>460</td>\n",
       "      <td>1670</td>\n",
       "      <td>1900</td>\n",
       "      <td>14.0</td>\n",
       "      <td>14.0</td>\n",
       "      <td>15.0</td>\n",
       "      <td>18.0</td>\n",
       "      <td>2.545455</td>\n",
       "      <td>3.043478</td>\n",
       "      <td>0.898204</td>\n",
       "      <td>0.947368</td>\n",
       "      <td>-16.363636</td>\n",
       "      <td>263.043478</td>\n",
       "      <td>13.772455</td>\n",
       "    </tr>\n",
       "    <tr>\n",
       "      <th>16</th>\n",
       "      <td>Escambia</td>\n",
       "      <td>450</td>\n",
       "      <td>389</td>\n",
       "      <td>1449</td>\n",
       "      <td>1631</td>\n",
       "      <td>12.0</td>\n",
       "      <td>17.0</td>\n",
       "      <td>20.0</td>\n",
       "      <td>22.0</td>\n",
       "      <td>2.666667</td>\n",
       "      <td>4.370180</td>\n",
       "      <td>1.380262</td>\n",
       "      <td>1.348866</td>\n",
       "      <td>-13.555556</td>\n",
       "      <td>272.493573</td>\n",
       "      <td>12.560386</td>\n",
       "    </tr>\n",
       "    <tr>\n",
       "      <th>7</th>\n",
       "      <td>Charlotte</td>\n",
       "      <td>398</td>\n",
       "      <td>362</td>\n",
       "      <td>1314</td>\n",
       "      <td>1489</td>\n",
       "      <td>2.0</td>\n",
       "      <td>2.0</td>\n",
       "      <td>3.0</td>\n",
       "      <td>5.0</td>\n",
       "      <td>0.502513</td>\n",
       "      <td>0.552486</td>\n",
       "      <td>0.228311</td>\n",
       "      <td>0.335796</td>\n",
       "      <td>-9.045226</td>\n",
       "      <td>262.983425</td>\n",
       "      <td>13.318113</td>\n",
       "    </tr>\n",
       "    <tr>\n",
       "      <th>30</th>\n",
       "      <td>Indian River</td>\n",
       "      <td>385</td>\n",
       "      <td>331</td>\n",
       "      <td>1300</td>\n",
       "      <td>1461</td>\n",
       "      <td>5.0</td>\n",
       "      <td>5.0</td>\n",
       "      <td>8.0</td>\n",
       "      <td>10.0</td>\n",
       "      <td>1.298701</td>\n",
       "      <td>1.510574</td>\n",
       "      <td>0.615385</td>\n",
       "      <td>0.684463</td>\n",
       "      <td>-14.025974</td>\n",
       "      <td>292.749245</td>\n",
       "      <td>12.384615</td>\n",
       "    </tr>\n",
       "    <tr>\n",
       "      <th>44</th>\n",
       "      <td>Okaloosa</td>\n",
       "      <td>407</td>\n",
       "      <td>308</td>\n",
       "      <td>1284</td>\n",
       "      <td>1448</td>\n",
       "      <td>14.0</td>\n",
       "      <td>16.0</td>\n",
       "      <td>20.0</td>\n",
       "      <td>21.0</td>\n",
       "      <td>3.439803</td>\n",
       "      <td>5.194805</td>\n",
       "      <td>1.557632</td>\n",
       "      <td>1.450276</td>\n",
       "      <td>-24.324324</td>\n",
       "      <td>316.883117</td>\n",
       "      <td>12.772586</td>\n",
       "    </tr>\n",
       "    <tr>\n",
       "      <th>9</th>\n",
       "      <td>Clay</td>\n",
       "      <td>382</td>\n",
       "      <td>297</td>\n",
       "      <td>1051</td>\n",
       "      <td>1184</td>\n",
       "      <td>3.0</td>\n",
       "      <td>5.0</td>\n",
       "      <td>7.0</td>\n",
       "      <td>7.0</td>\n",
       "      <td>0.785340</td>\n",
       "      <td>1.683502</td>\n",
       "      <td>0.666032</td>\n",
       "      <td>0.591216</td>\n",
       "      <td>-22.251309</td>\n",
       "      <td>253.872054</td>\n",
       "      <td>12.654615</td>\n",
       "    </tr>\n",
       "    <tr>\n",
       "      <th>53</th>\n",
       "      <td>Santa Rosa</td>\n",
       "      <td>303</td>\n",
       "      <td>260</td>\n",
       "      <td>988</td>\n",
       "      <td>1141</td>\n",
       "      <td>3.0</td>\n",
       "      <td>7.0</td>\n",
       "      <td>8.0</td>\n",
       "      <td>9.0</td>\n",
       "      <td>0.990099</td>\n",
       "      <td>2.692308</td>\n",
       "      <td>0.809717</td>\n",
       "      <td>0.788782</td>\n",
       "      <td>-14.191419</td>\n",
       "      <td>280.000000</td>\n",
       "      <td>15.485830</td>\n",
       "    </tr>\n",
       "    <tr>\n",
       "      <th>17</th>\n",
       "      <td>Flagler</td>\n",
       "      <td>307</td>\n",
       "      <td>258</td>\n",
       "      <td>969</td>\n",
       "      <td>1092</td>\n",
       "      <td>4.0</td>\n",
       "      <td>5.0</td>\n",
       "      <td>7.0</td>\n",
       "      <td>8.0</td>\n",
       "      <td>1.302932</td>\n",
       "      <td>1.937984</td>\n",
       "      <td>0.722394</td>\n",
       "      <td>0.732601</td>\n",
       "      <td>-15.960912</td>\n",
       "      <td>275.581395</td>\n",
       "      <td>12.693498</td>\n",
       "    </tr>\n",
       "    <tr>\n",
       "      <th>42</th>\n",
       "      <td>Monroe</td>\n",
       "      <td>317</td>\n",
       "      <td>284</td>\n",
       "      <td>953</td>\n",
       "      <td>1047</td>\n",
       "      <td>27.0</td>\n",
       "      <td>29.0</td>\n",
       "      <td>33.0</td>\n",
       "      <td>34.0</td>\n",
       "      <td>8.517350</td>\n",
       "      <td>10.211268</td>\n",
       "      <td>3.462749</td>\n",
       "      <td>3.247373</td>\n",
       "      <td>-10.410095</td>\n",
       "      <td>235.563380</td>\n",
       "      <td>9.863589</td>\n",
       "    </tr>\n",
       "    <tr>\n",
       "      <th>26</th>\n",
       "      <td>Hernando</td>\n",
       "      <td>275</td>\n",
       "      <td>229</td>\n",
       "      <td>888</td>\n",
       "      <td>1039</td>\n",
       "      <td>1.0</td>\n",
       "      <td>1.0</td>\n",
       "      <td>2.0</td>\n",
       "      <td>3.0</td>\n",
       "      <td>0.363636</td>\n",
       "      <td>0.436681</td>\n",
       "      <td>0.225225</td>\n",
       "      <td>0.288739</td>\n",
       "      <td>-16.727273</td>\n",
       "      <td>287.772926</td>\n",
       "      <td>17.004505</td>\n",
       "    </tr>\n",
       "    <tr>\n",
       "      <th>2</th>\n",
       "      <td>Bay</td>\n",
       "      <td>300</td>\n",
       "      <td>237</td>\n",
       "      <td>876</td>\n",
       "      <td>972</td>\n",
       "      <td>8.0</td>\n",
       "      <td>9.0</td>\n",
       "      <td>13.0</td>\n",
       "      <td>16.0</td>\n",
       "      <td>2.666667</td>\n",
       "      <td>3.797468</td>\n",
       "      <td>1.484018</td>\n",
       "      <td>1.646091</td>\n",
       "      <td>-21.000000</td>\n",
       "      <td>269.620253</td>\n",
       "      <td>10.958904</td>\n",
       "    </tr>\n",
       "    <tr>\n",
       "      <th>58</th>\n",
       "      <td>Sumter</td>\n",
       "      <td>282</td>\n",
       "      <td>255</td>\n",
       "      <td>859</td>\n",
       "      <td>952</td>\n",
       "      <td>4.0</td>\n",
       "      <td>4.0</td>\n",
       "      <td>5.0</td>\n",
       "      <td>9.0</td>\n",
       "      <td>1.418440</td>\n",
       "      <td>1.568627</td>\n",
       "      <td>0.582072</td>\n",
       "      <td>0.945378</td>\n",
       "      <td>-9.574468</td>\n",
       "      <td>236.862745</td>\n",
       "      <td>10.826542</td>\n",
       "    </tr>\n",
       "    <tr>\n",
       "      <th>65</th>\n",
       "      <td>Walton</td>\n",
       "      <td>211</td>\n",
       "      <td>171</td>\n",
       "      <td>649</td>\n",
       "      <td>772</td>\n",
       "      <td>8.0</td>\n",
       "      <td>9.0</td>\n",
       "      <td>13.0</td>\n",
       "      <td>14.0</td>\n",
       "      <td>3.791469</td>\n",
       "      <td>5.263158</td>\n",
       "      <td>2.003082</td>\n",
       "      <td>1.813472</td>\n",
       "      <td>-18.957346</td>\n",
       "      <td>279.532164</td>\n",
       "      <td>18.952234</td>\n",
       "    </tr>\n",
       "    <tr>\n",
       "      <th>8</th>\n",
       "      <td>Citrus</td>\n",
       "      <td>201</td>\n",
       "      <td>161</td>\n",
       "      <td>637</td>\n",
       "      <td>750</td>\n",
       "      <td>6.0</td>\n",
       "      <td>9.0</td>\n",
       "      <td>10.0</td>\n",
       "      <td>19.0</td>\n",
       "      <td>2.985075</td>\n",
       "      <td>5.590062</td>\n",
       "      <td>1.569859</td>\n",
       "      <td>2.533333</td>\n",
       "      <td>-19.900498</td>\n",
       "      <td>295.652174</td>\n",
       "      <td>17.739403</td>\n",
       "    </tr>\n",
       "    <tr>\n",
       "      <th>43</th>\n",
       "      <td>Nassau</td>\n",
       "      <td>195</td>\n",
       "      <td>163</td>\n",
       "      <td>577</td>\n",
       "      <td>657</td>\n",
       "      <td>13.0</td>\n",
       "      <td>13.0</td>\n",
       "      <td>14.0</td>\n",
       "      <td>16.0</td>\n",
       "      <td>6.666667</td>\n",
       "      <td>7.975460</td>\n",
       "      <td>2.426343</td>\n",
       "      <td>2.435312</td>\n",
       "      <td>-16.410256</td>\n",
       "      <td>253.987730</td>\n",
       "      <td>13.864818</td>\n",
       "    </tr>\n",
       "    <tr>\n",
       "      <th>27</th>\n",
       "      <td>Highlands</td>\n",
       "      <td>141</td>\n",
       "      <td>110</td>\n",
       "      <td>347</td>\n",
       "      <td>399</td>\n",
       "      <td>7.0</td>\n",
       "      <td>7.0</td>\n",
       "      <td>8.0</td>\n",
       "      <td>16.0</td>\n",
       "      <td>4.964539</td>\n",
       "      <td>6.363636</td>\n",
       "      <td>2.305476</td>\n",
       "      <td>4.010025</td>\n",
       "      <td>-21.985816</td>\n",
       "      <td>215.454545</td>\n",
       "      <td>14.985591</td>\n",
       "    </tr>\n",
       "    <tr>\n",
       "      <th>11</th>\n",
       "      <td>Columbia</td>\n",
       "      <td>52</td>\n",
       "      <td>41</td>\n",
       "      <td>142</td>\n",
       "      <td>180</td>\n",
       "      <td>3.0</td>\n",
       "      <td>4.0</td>\n",
       "      <td>5.0</td>\n",
       "      <td>6.0</td>\n",
       "      <td>5.769231</td>\n",
       "      <td>9.756098</td>\n",
       "      <td>3.521127</td>\n",
       "      <td>3.333333</td>\n",
       "      <td>-21.153846</td>\n",
       "      <td>246.341463</td>\n",
       "      <td>26.760563</td>\n",
       "    </tr>\n",
       "    <tr>\n",
       "      <th>52</th>\n",
       "      <td>Putnam</td>\n",
       "      <td>37</td>\n",
       "      <td>42</td>\n",
       "      <td>155</td>\n",
       "      <td>172</td>\n",
       "      <td>4.0</td>\n",
       "      <td>4.0</td>\n",
       "      <td>4.0</td>\n",
       "      <td>6.0</td>\n",
       "      <td>10.810811</td>\n",
       "      <td>9.523810</td>\n",
       "      <td>2.580645</td>\n",
       "      <td>3.488372</td>\n",
       "      <td>13.513514</td>\n",
       "      <td>269.047619</td>\n",
       "      <td>10.967742</td>\n",
       "    </tr>\n",
       "    <tr>\n",
       "      <th>25</th>\n",
       "      <td>Hendry</td>\n",
       "      <td>32</td>\n",
       "      <td>29</td>\n",
       "      <td>103</td>\n",
       "      <td>117</td>\n",
       "      <td>0.0</td>\n",
       "      <td>0.0</td>\n",
       "      <td>0.0</td>\n",
       "      <td>4.0</td>\n",
       "      <td>0.000000</td>\n",
       "      <td>0.000000</td>\n",
       "      <td>0.000000</td>\n",
       "      <td>3.418803</td>\n",
       "      <td>-9.375000</td>\n",
       "      <td>255.172414</td>\n",
       "      <td>13.592233</td>\n",
       "    </tr>\n",
       "    <tr>\n",
       "      <th>36</th>\n",
       "      <td>Levy</td>\n",
       "      <td>23</td>\n",
       "      <td>24</td>\n",
       "      <td>82</td>\n",
       "      <td>106</td>\n",
       "      <td>NaN</td>\n",
       "      <td>NaN</td>\n",
       "      <td>NaN</td>\n",
       "      <td>NaN</td>\n",
       "      <td>NaN</td>\n",
       "      <td>NaN</td>\n",
       "      <td>NaN</td>\n",
       "      <td>NaN</td>\n",
       "      <td>4.347826</td>\n",
       "      <td>241.666667</td>\n",
       "      <td>29.268293</td>\n",
       "    </tr>\n",
       "    <tr>\n",
       "      <th>64</th>\n",
       "      <td>Wakulla</td>\n",
       "      <td>25</td>\n",
       "      <td>21</td>\n",
       "      <td>76</td>\n",
       "      <td>90</td>\n",
       "      <td>0.0</td>\n",
       "      <td>0.0</td>\n",
       "      <td>0.0</td>\n",
       "      <td>4.0</td>\n",
       "      <td>0.000000</td>\n",
       "      <td>0.000000</td>\n",
       "      <td>0.000000</td>\n",
       "      <td>4.444444</td>\n",
       "      <td>-16.000000</td>\n",
       "      <td>261.904762</td>\n",
       "      <td>18.421053</td>\n",
       "    </tr>\n",
       "  </tbody>\n",
       "</table>\n",
       "</div>"
      ],
      "text/plain": [
       "          county  2018_Fl_reg  2019_Fl_reg  2020_Fl_reg  2021_Fl_reg  \\\n",
       "12          Dade         9559         7936        29977        34827   \n",
       "5        Broward         7942         6542        23689        26767   \n",
       "48    Palm Beach         7943         6131        22458        25106   \n",
       "46        Orange         5245         4830        17617        19980   \n",
       "28  Hillsborough         4420         3849        14000        16110   \n",
       "50      Pinellas         3508         3014        10590        11760   \n",
       "62     Lafayette         1801         1778         6221         7489   \n",
       "15         Duval         2059         1733         6101         6878   \n",
       "4        Brevard         1881         1657         6088         6843   \n",
       "34           Lee         1764         1463         5628         6683   \n",
       "54      Sarasota         1983         1633         5953         6673   \n",
       "10       Collier         1692         1395         5466         6384   \n",
       "55      Seminole         1887         1563         5450         6065   \n",
       "49         Pasco         1223         1141         4299         4902   \n",
       "39       Manatee         1258         1116         4133         4864   \n",
       "56     St. Johns         1099          973         3830         4446   \n",
       "63       Volusia         1079          903         3371         3796   \n",
       "51          Polk         1009          855         3217         3686   \n",
       "33          Lake          897          816         2823         3218   \n",
       "47       Osceola          678          642         2579         3064   \n",
       "0        Alachua          766          699         2454         2774   \n",
       "57     St. Lucie          601          523         2046         2400   \n",
       "35          Leon          656          569         2135         2377   \n",
       "41        Martin          728          563         2114         2319   \n",
       "40        Marion          550          460         1670         1900   \n",
       "16      Escambia          450          389         1449         1631   \n",
       "7      Charlotte          398          362         1314         1489   \n",
       "30  Indian River          385          331         1300         1461   \n",
       "44      Okaloosa          407          308         1284         1448   \n",
       "9           Clay          382          297         1051         1184   \n",
       "53    Santa Rosa          303          260          988         1141   \n",
       "17       Flagler          307          258          969         1092   \n",
       "42        Monroe          317          284          953         1047   \n",
       "26      Hernando          275          229          888         1039   \n",
       "2            Bay          300          237          876          972   \n",
       "58        Sumter          282          255          859          952   \n",
       "65        Walton          211          171          649          772   \n",
       "8         Citrus          201          161          637          750   \n",
       "43        Nassau          195          163          577          657   \n",
       "27     Highlands          141          110          347          399   \n",
       "11      Columbia           52           41          142          180   \n",
       "52        Putnam           37           42          155          172   \n",
       "25        Hendry           32           29          103          117   \n",
       "36          Levy           23           24           82          106   \n",
       "64       Wakulla           25           21           76           90   \n",
       "\n",
       "    2018_Total_Stations  2019_Total_Stations  2020_Total_Stations  \\\n",
       "12                162.0                223.0                312.0   \n",
       "5                  91.0                123.0                171.0   \n",
       "48                 83.0                106.0                144.0   \n",
       "46                133.0                165.0                226.0   \n",
       "28                 77.0                104.0                135.0   \n",
       "50                 62.0                 92.0                128.0   \n",
       "62                  NaN                  NaN                  NaN   \n",
       "15                 52.0                 83.0                123.0   \n",
       "4                  31.0                 36.0                 52.0   \n",
       "34                 26.0                 32.0                 39.0   \n",
       "54                 39.0                 41.0                 54.0   \n",
       "10                 26.0                 30.0                 43.0   \n",
       "55                 17.0                 30.0                 43.0   \n",
       "49                 13.0                 14.0                 19.0   \n",
       "39                 24.0                 30.0                 36.0   \n",
       "56                 20.0                 23.0                 26.0   \n",
       "63                 26.0                 34.0                 48.0   \n",
       "51                 13.0                 20.0                 30.0   \n",
       "33                 10.0                 21.0                 26.0   \n",
       "47                 16.0                 24.0                 40.0   \n",
       "0                  17.0                 22.0                 29.0   \n",
       "57                 17.0                 17.0                 25.0   \n",
       "35                 15.0                 17.0                 22.0   \n",
       "41                  8.0                 12.0                 21.0   \n",
       "40                 14.0                 14.0                 15.0   \n",
       "16                 12.0                 17.0                 20.0   \n",
       "7                   2.0                  2.0                  3.0   \n",
       "30                  5.0                  5.0                  8.0   \n",
       "44                 14.0                 16.0                 20.0   \n",
       "9                   3.0                  5.0                  7.0   \n",
       "53                  3.0                  7.0                  8.0   \n",
       "17                  4.0                  5.0                  7.0   \n",
       "42                 27.0                 29.0                 33.0   \n",
       "26                  1.0                  1.0                  2.0   \n",
       "2                   8.0                  9.0                 13.0   \n",
       "58                  4.0                  4.0                  5.0   \n",
       "65                  8.0                  9.0                 13.0   \n",
       "8                   6.0                  9.0                 10.0   \n",
       "43                 13.0                 13.0                 14.0   \n",
       "27                  7.0                  7.0                  8.0   \n",
       "11                  3.0                  4.0                  5.0   \n",
       "52                  4.0                  4.0                  4.0   \n",
       "25                  0.0                  0.0                  0.0   \n",
       "36                  NaN                  NaN                  NaN   \n",
       "64                  0.0                  0.0                  0.0   \n",
       "\n",
       "    2021_Total_Stations       2018       2019      2020      2021  \\\n",
       "12                435.0   1.694738   2.809980  1.040798  1.249031   \n",
       "5                 243.0   1.145807   1.880159  0.721854  0.907834   \n",
       "48                214.0   1.044945   1.728919  0.641197  0.852386   \n",
       "46                331.0   2.535748   3.416149  1.282852  1.656657   \n",
       "28                186.0   1.742081   2.702001  0.964286  1.154562   \n",
       "50                196.0   1.767389   3.052422  1.208687  1.666667   \n",
       "62                  NaN        NaN        NaN       NaN       NaN   \n",
       "15                159.0   2.525498   4.789383  2.016063  2.311719   \n",
       "4                  69.0   1.648060   2.172601  0.854139  1.008330   \n",
       "34                 55.0   1.473923   2.187286  0.692964  0.822984   \n",
       "54                 79.0   1.966717   2.510716  0.907106  1.183875   \n",
       "10                 48.0   1.536643   2.150538  0.786681  0.751880   \n",
       "55                 60.0   0.900901   1.919386  0.788991  0.989283   \n",
       "49                 34.0   1.062960   1.226994  0.441963  0.693594   \n",
       "39                 49.0   1.907790   2.688172  0.871038  1.007401   \n",
       "56                 32.0   1.819836   2.363823  0.678851  0.719748   \n",
       "63                 57.0   2.409639   3.765227  1.423910  1.501581   \n",
       "51                 45.0   1.288404   2.339181  0.932546  1.220836   \n",
       "33                 38.0   1.114827   2.573529  0.921006  1.180858   \n",
       "47                 68.0   2.359882   3.738318  1.550989  2.219321   \n",
       "0                  41.0   2.219321   3.147353  1.181744  1.478010   \n",
       "57                 32.0   2.828619   3.250478  1.221896  1.333333   \n",
       "35                 34.0   2.286585   2.987698  1.030445  1.430374   \n",
       "41                 24.0   1.098901   2.131439  0.993377  1.034929   \n",
       "40                 18.0   2.545455   3.043478  0.898204  0.947368   \n",
       "16                 22.0   2.666667   4.370180  1.380262  1.348866   \n",
       "7                   5.0   0.502513   0.552486  0.228311  0.335796   \n",
       "30                 10.0   1.298701   1.510574  0.615385  0.684463   \n",
       "44                 21.0   3.439803   5.194805  1.557632  1.450276   \n",
       "9                   7.0   0.785340   1.683502  0.666032  0.591216   \n",
       "53                  9.0   0.990099   2.692308  0.809717  0.788782   \n",
       "17                  8.0   1.302932   1.937984  0.722394  0.732601   \n",
       "42                 34.0   8.517350  10.211268  3.462749  3.247373   \n",
       "26                  3.0   0.363636   0.436681  0.225225  0.288739   \n",
       "2                  16.0   2.666667   3.797468  1.484018  1.646091   \n",
       "58                  9.0   1.418440   1.568627  0.582072  0.945378   \n",
       "65                 14.0   3.791469   5.263158  2.003082  1.813472   \n",
       "8                  19.0   2.985075   5.590062  1.569859  2.533333   \n",
       "43                 16.0   6.666667   7.975460  2.426343  2.435312   \n",
       "27                 16.0   4.964539   6.363636  2.305476  4.010025   \n",
       "11                  6.0   5.769231   9.756098  3.521127  3.333333   \n",
       "52                  6.0  10.810811   9.523810  2.580645  3.488372   \n",
       "25                  4.0   0.000000   0.000000  0.000000  3.418803   \n",
       "36                  NaN        NaN        NaN       NaN       NaN   \n",
       "64                  4.0   0.000000   0.000000  0.000000  4.444444   \n",
       "\n",
       "    2019_%increase  2020_%increase  2021_%increase  \n",
       "12      -16.978763      277.734375       16.179071  \n",
       "5       -17.627802      262.106389       12.993372  \n",
       "48      -22.812539      266.302398       11.790899  \n",
       "46       -7.912297      264.741201       13.413180  \n",
       "28      -12.918552      263.730839       15.071429  \n",
       "50      -14.082098      251.360319       11.048159  \n",
       "62       -1.277068      249.887514       20.382575  \n",
       "15      -15.832929      252.048471       12.735617  \n",
       "4       -11.908559      267.410984       12.401445  \n",
       "34      -17.063492      284.688995       18.745558  \n",
       "54      -17.650025      264.543784       12.094742  \n",
       "10      -17.553191      291.827957       16.794731  \n",
       "55      -17.170111      248.688420       11.284404  \n",
       "49       -6.704824      276.774759       14.026518  \n",
       "39      -11.287758      270.340502       17.686910  \n",
       "56      -11.464968      293.627955       16.083551  \n",
       "63      -16.311399      273.311185       12.607535  \n",
       "51      -15.262636      276.257310       14.578800  \n",
       "33       -9.030100      245.955882       13.992207  \n",
       "47       -5.309735      301.713396       18.805739  \n",
       "0        -8.746736      251.072961       13.039935  \n",
       "57      -12.978369      291.204589       17.302053  \n",
       "35      -13.262195      275.219684       11.334895  \n",
       "41      -22.664835      275.488455        9.697256  \n",
       "40      -16.363636      263.043478       13.772455  \n",
       "16      -13.555556      272.493573       12.560386  \n",
       "7        -9.045226      262.983425       13.318113  \n",
       "30      -14.025974      292.749245       12.384615  \n",
       "44      -24.324324      316.883117       12.772586  \n",
       "9       -22.251309      253.872054       12.654615  \n",
       "53      -14.191419      280.000000       15.485830  \n",
       "17      -15.960912      275.581395       12.693498  \n",
       "42      -10.410095      235.563380        9.863589  \n",
       "26      -16.727273      287.772926       17.004505  \n",
       "2       -21.000000      269.620253       10.958904  \n",
       "58       -9.574468      236.862745       10.826542  \n",
       "65      -18.957346      279.532164       18.952234  \n",
       "8       -19.900498      295.652174       17.739403  \n",
       "43      -16.410256      253.987730       13.864818  \n",
       "27      -21.985816      215.454545       14.985591  \n",
       "11      -21.153846      246.341463       26.760563  \n",
       "52       13.513514      269.047619       10.967742  \n",
       "25       -9.375000      255.172414       13.592233  \n",
       "36        4.347826      241.666667       29.268293  \n",
       "64      -16.000000      261.904762       18.421053  "
      ]
     },
     "execution_count": 75,
     "metadata": {},
     "output_type": "execute_result"
    }
   ],
   "source": [
    "joined_df.sort_values(\"2021_Fl_reg\",ascending=False).head(45)"
   ]
  },
  {
   "cell_type": "code",
   "execution_count": 76,
   "id": "fa039070",
   "metadata": {},
   "outputs": [
    {
     "data": {
      "image/png": "[encoded data removed]",
      "text/plain": [
       "<Figure size 432x288 with 1 Axes>"
      ]
     },
     "metadata": {
      "needs_background": "light"
     },
     "output_type": "display_data"
    }
   ],
   "source": [
    "import matplotlib.pylab as plt\n",
    "mydata = joined_df[[\"2018_Fl_reg\", \"2018_Total_Stations\"]]#.dropna(how=\"any\")\n",
    "vals = mydata.values\n",
    "plt.scatter(vals[:, 0], vals[:, 1],label=f'2018')\n",
    "mydata2 = joined_df[[\"2019_Fl_reg\", \"2019_Total_Stations\"]]#.dropna(how=\"any\")\n",
    "vals2 = mydata2.values\n",
    "plt.scatter(vals2[:, 0], vals2[:, 1],label=f'2019')\n",
    "mydata3 = joined_df[[\"2020_Fl_reg\", \"2020_Total_Stations\"]]#.dropna(how=\"any\")\n",
    "vals3 = mydata3.values\n",
    "plt.scatter(vals3[:, 0], vals3[:, 1],label=f'2020')\n",
    "mydata4 = joined_df[[\"2021_Fl_reg\", \"2021_Total_Stations\"]]#.dropna(how=\"any\")\n",
    "vals4 = mydata4.values\n",
    "plt.scatter(vals4[:, 0], vals4[:, 1],label=f'2021')\n",
    "\n",
    "# Plot\n",
    "plt.title('2018-2021')\n",
    "plt.legend()\n",
    "plt.show()"
   ]
  },
  {
   "cell_type": "markdown",
   "id": "e1631f47",
   "metadata": {},
   "source": [
    "## shows the comparison of the stations per registration of each year"
   ]
  },
  {
   "cell_type": "code",
   "execution_count": 77,
   "id": "f5fbbf56",
   "metadata": {
    "scrolled": true
   },
   "outputs": [
    {
     "data": {
      "image/png": "[encoded data removed]",
      "text/plain": [
       "<Figure size 432x288 with 1 Axes>"
      ]
     },
     "metadata": {
      "needs_background": "light"
     },
     "output_type": "display_data"
    }
   ],
   "source": [
    "sns.regplot(x='2018_Fl_reg', y='2018_Total_Stations',label=f'2018', data=joined_df) \n",
    "sns.regplot(x='2019_Fl_reg', y='2019_Total_Stations',label=f'2019', data=joined_df)\n",
    "sns.regplot(x='2020_Fl_reg', y='2020_Total_Stations',label=f'2020', data=joined_df)\n",
    "sns.regplot(x='2021_Fl_reg', y='2021_Total_Stations',label=f'2021', data=joined_df)\n",
    "plt.legend()\n",
    "plt.title(\"Scatter Plot \");"
   ]
  },
  {
   "cell_type": "code",
   "execution_count": null,
   "id": "66e98aa4",
   "metadata": {
    "scrolled": true
   },
   "outputs": [],
   "source": []
  },
  {
   "cell_type": "code",
   "execution_count": 78,
   "id": "f0390aae",
   "metadata": {},
   "outputs": [
    {
     "name": "stdout",
     "output_type": "stream",
     "text": [
      "<class 'pandas.core.frame.DataFrame'>\n",
      "DatetimeIndex: 4 entries, 2018-01-01 to 2021-01-01\n",
      "Data columns (total 67 columns):\n",
      " #   Column        Non-Null Count  Dtype\n",
      "---  ------        --------------  -----\n",
      " 0   Alachua       4 non-null      int64\n",
      " 1   Baker         4 non-null      int64\n",
      " 2   Bay           4 non-null      int64\n",
      " 3   Bradford      4 non-null      int64\n",
      " 4   Brevard       4 non-null      int64\n",
      " 5   Broward       4 non-null      int64\n",
      " 6   Calhoun       4 non-null      int64\n",
      " 7   Charlotte     4 non-null      int64\n",
      " 8   Citrus        4 non-null      int64\n",
      " 9   Clay          4 non-null      int64\n",
      " 10  Collier       4 non-null      int64\n",
      " 11  Columbia      4 non-null      int64\n",
      " 12  Dade          4 non-null      int64\n",
      " 13  Desoto        4 non-null      int64\n",
      " 14  Dixie         4 non-null      int64\n",
      " 15  Duval         4 non-null      int64\n",
      " 16  Escambia      4 non-null      int64\n",
      " 17  Flagler       4 non-null      int64\n",
      " 18  Franklin      4 non-null      int64\n",
      " 19  Gadsden       4 non-null      int64\n",
      " 20  Gilchrist     4 non-null      int64\n",
      " 21  Glades        4 non-null      int64\n",
      " 22  Gulf          4 non-null      int64\n",
      " 23  Hamilton      4 non-null      int64\n",
      " 24  Hardee        4 non-null      int64\n",
      " 25  Hendry        4 non-null      int64\n",
      " 26  Hernando      4 non-null      int64\n",
      " 27  Highlands     4 non-null      int64\n",
      " 28  Hillsborough  4 non-null      int64\n",
      " 29  Holmes        4 non-null      int64\n",
      " 30  Indian River  4 non-null      int64\n",
      " 31  Jackson       4 non-null      int64\n",
      " 32  Jefferson     4 non-null      int64\n",
      " 33  Lake          4 non-null      int64\n",
      " 34  Lee           4 non-null      int64\n",
      " 35  Leon          4 non-null      int64\n",
      " 36  Levy          4 non-null      int64\n",
      " 37  Liberty       4 non-null      int64\n",
      " 38  Madison       4 non-null      int64\n",
      " 39  Manatee       4 non-null      int64\n",
      " 40  Marion        4 non-null      int64\n",
      " 41  Martin        4 non-null      int64\n",
      " 42  Monroe        4 non-null      int64\n",
      " 43  Nassau        4 non-null      int64\n",
      " 44  Okaloosa      4 non-null      int64\n",
      " 45  Okeechobee    4 non-null      int64\n",
      " 46  Orange        4 non-null      int64\n",
      " 47  Osceola       4 non-null      int64\n",
      " 48  Palm Beach    4 non-null      int64\n",
      " 49  Pasco         4 non-null      int64\n",
      " 50  Pinellas      4 non-null      int64\n",
      " 51  Polk          4 non-null      int64\n",
      " 52  Putnam        4 non-null      int64\n",
      " 53  Santa Rosa    4 non-null      int64\n",
      " 54  Sarasota      4 non-null      int64\n",
      " 55  Seminole      4 non-null      int64\n",
      " 56  St. Johns     4 non-null      int64\n",
      " 57  St. Lucie     4 non-null      int64\n",
      " 58  Sumter        4 non-null      int64\n",
      " 59  Suwannee      4 non-null      int64\n",
      " 60  Taylor        4 non-null      int64\n",
      " 61  Union         4 non-null      int64\n",
      " 62  Lafayette     4 non-null      int64\n",
      " 63  Volusia       4 non-null      int64\n",
      " 64  Wakulla       4 non-null      int64\n",
      " 65  Walton        4 non-null      int64\n",
      " 66  Washington    4 non-null      int64\n",
      "dtypes: int64(67)\n",
      "memory usage: 2.1 KB\n"
     ]
    }
   ],
   "source": [
    "yr_reg_df.info()"
   ]
  },
  {
   "cell_type": "code",
   "execution_count": 79,
   "id": "c0bf442a",
   "metadata": {},
   "outputs": [],
   "source": [
    "# yr_reg_df = yr_reg_df.set_index('date') ## no longer needed, date was set as index at import"
   ]
  },
  {
   "cell_type": "markdown",
   "id": "fa69130e",
   "metadata": {},
   "source": [
    "## Make sure all the imports needed for the ML model are present"
   ]
  },
  {
   "cell_type": "code",
   "execution_count": 80,
   "id": "4ce88ebf",
   "metadata": {},
   "outputs": [],
   "source": [
    "from pandas import DataFrame\n",
    "from statsmodels.tsa.arima.model import ARIMA\n",
    "from pandas.plotting import autocorrelation_plot\n",
    "# evaluate an ARIMA model using a walk-forward validation\n",
    "from sklearn.metrics import mean_squared_error\n",
    "from math import sqrt"
   ]
  },
  {
   "cell_type": "markdown",
   "id": "fa779497",
   "metadata": {},
   "source": [
    "## Testing the data, checking the code"
   ]
  },
  {
   "cell_type": "code",
   "execution_count": 81,
   "id": "dd46ca46",
   "metadata": {
    "scrolled": true
   },
   "outputs": [
    {
     "data": {
      "text/html": [
       "<div>\n",
       "<style scoped>\n",
       "    .dataframe tbody tr th:only-of-type {\n",
       "        vertical-align: middle;\n",
       "    }\n",
       "\n",
       "    .dataframe tbody tr th {\n",
       "        vertical-align: top;\n",
       "    }\n",
       "\n",
       "    .dataframe thead th {\n",
       "        text-align: right;\n",
       "    }\n",
       "</style>\n",
       "<table border=\"1\" class=\"dataframe\">\n",
       "  <thead>\n",
       "    <tr style=\"text-align: right;\">\n",
       "      <th></th>\n",
       "      <th>Alachua</th>\n",
       "    </tr>\n",
       "    <tr>\n",
       "      <th>date</th>\n",
       "      <th></th>\n",
       "    </tr>\n",
       "  </thead>\n",
       "  <tbody>\n",
       "    <tr>\n",
       "      <th>2019-01-01</th>\n",
       "      <td>699</td>\n",
       "    </tr>\n",
       "    <tr>\n",
       "      <th>2020-01-01</th>\n",
       "      <td>2454</td>\n",
       "    </tr>\n",
       "    <tr>\n",
       "      <th>2021-01-01</th>\n",
       "      <td>2774</td>\n",
       "    </tr>\n",
       "  </tbody>\n",
       "</table>\n",
       "</div>"
      ],
      "text/plain": [
       "            Alachua\n",
       "date               \n",
       "2019-01-01      699\n",
       "2020-01-01     2454\n",
       "2021-01-01     2774"
      ]
     },
     "execution_count": 81,
     "metadata": {},
     "output_type": "execute_result"
    }
   ],
   "source": [
    "a=1\n",
    "b=0\n",
    "test_df = yr_reg_df.iloc[1:,b:a]\n",
    "series = test_df\n",
    "series\n"
   ]
  },
  {
   "cell_type": "markdown",
   "id": "b86cd068",
   "metadata": {},
   "source": [
    "## compare the aic results for ARIMA's best model"
   ]
  },
  {
   "cell_type": "code",
   "execution_count": 82,
   "id": "1c47cfdd",
   "metadata": {},
   "outputs": [],
   "source": [
    "from pmdarima import auto_arima\n",
    "import warnings\n",
    "warnings.filterwarnings(\"ignore\")"
   ]
  },
  {
   "cell_type": "code",
   "execution_count": 83,
   "id": "64601cf3",
   "metadata": {},
   "outputs": [
    {
     "name": "stdout",
     "output_type": "stream",
     "text": [
      "Performing stepwise search to minimize aic\n",
      " ARIMA(1,0,1)(0,0,0)[0] intercept   : AIC=inf, Time=0.08 sec\n",
      " ARIMA(0,0,0)(0,0,0)[0] intercept   : AIC=53.408, Time=0.00 sec\n",
      " ARIMA(1,0,0)(0,0,0)[0] intercept   : AIC=180.398, Time=0.09 sec\n",
      " ARIMA(0,0,1)(0,0,0)[0] intercept   : AIC=inf, Time=0.03 sec\n",
      " ARIMA(0,0,0)(0,0,0)[0]             : AIC=56.625, Time=0.00 sec\n",
      "\n",
      "Best model:  ARIMA(0,0,0)(0,0,0)[0] intercept\n",
      "Total fit time: 0.216 seconds\n"
     ]
    },
    {
     "data": {
      "text/html": [
       "<table class=\"simpletable\">\n",
       "<caption>SARIMAX Results</caption>\n",
       "<tr>\n",
       "  <th>Dep. Variable:</th>           <td>y</td>        <th>  No. Observations:  </th>    <td>3</td>   \n",
       "</tr>\n",
       "<tr>\n",
       "  <th>Model:</th>                <td>SARIMAX</td>     <th>  Log Likelihood     </th> <td>-24.704</td>\n",
       "</tr>\n",
       "<tr>\n",
       "  <th>Date:</th>            <td>Thu, 09 Jun 2022</td> <th>  AIC                </th> <td>53.408</td> \n",
       "</tr>\n",
       "<tr>\n",
       "  <th>Time:</th>                <td>11:44:19</td>     <th>  BIC                </th> <td>51.606</td> \n",
       "</tr>\n",
       "<tr>\n",
       "  <th>Sample:</th>                  <td>0</td>        <th>  HQIC               </th> <td>49.785</td> \n",
       "</tr>\n",
       "<tr>\n",
       "  <th></th>                       <td> - 3</td>       <th>                     </th>    <td> </td>   \n",
       "</tr>\n",
       "<tr>\n",
       "  <th>Covariance Type:</th>        <td>opg</td>       <th>                     </th>    <td> </td>   \n",
       "</tr>\n",
       "</table>\n",
       "<table class=\"simpletable\">\n",
       "<tr>\n",
       "      <td></td>         <th>coef</th>     <th>std err</th>      <th>z</th>      <th>P>|z|</th>  <th>[0.025</th>    <th>0.975]</th>  \n",
       "</tr>\n",
       "<tr>\n",
       "  <th>intercept</th> <td> 1975.6667</td> <td> 1260.125</td> <td>    1.568</td> <td> 0.117</td> <td> -494.132</td> <td> 4445.466</td>\n",
       "</tr>\n",
       "<tr>\n",
       "  <th>sigma2</th>    <td>  8.32e+05</td> <td> 3.25e+06</td> <td>    0.256</td> <td> 0.798</td> <td>-5.54e+06</td> <td>  7.2e+06</td>\n",
       "</tr>\n",
       "</table>\n",
       "<table class=\"simpletable\">\n",
       "<tr>\n",
       "  <th>Ljung-Box (L1) (Q):</th>     <td>0.06</td> <th>  Jarque-Bera (JB):  </th> <td>0.49</td> \n",
       "</tr>\n",
       "<tr>\n",
       "  <th>Prob(Q):</th>                <td>0.80</td> <th>  Prob(JB):          </th> <td>0.78</td> \n",
       "</tr>\n",
       "<tr>\n",
       "  <th>Heteroskedasticity (H):</th>  <td>nan</td> <th>  Skew:              </th> <td>-0.64</td>\n",
       "</tr>\n",
       "<tr>\n",
       "  <th>Prob(H) (two-sided):</th>     <td>nan</td> <th>  Kurtosis:          </th> <td>1.50</td> \n",
       "</tr>\n",
       "</table><br/><br/>Warnings:<br/>[1] Covariance matrix calculated using the outer product of gradients (complex-step)."
      ],
      "text/plain": [
       "<class 'statsmodels.iolib.summary.Summary'>\n",
       "\"\"\"\n",
       "                               SARIMAX Results                                \n",
       "==============================================================================\n",
       "Dep. Variable:                      y   No. Observations:                    3\n",
       "Model:                        SARIMAX   Log Likelihood                 -24.704\n",
       "Date:                Thu, 09 Jun 2022   AIC                             53.408\n",
       "Time:                        11:44:19   BIC                             51.606\n",
       "Sample:                             0   HQIC                            49.785\n",
       "                                  - 3                                         \n",
       "Covariance Type:                  opg                                         \n",
       "==============================================================================\n",
       "                 coef    std err          z      P>|z|      [0.025      0.975]\n",
       "------------------------------------------------------------------------------\n",
       "intercept   1975.6667   1260.125      1.568      0.117    -494.132    4445.466\n",
       "sigma2       8.32e+05   3.25e+06      0.256      0.798   -5.54e+06     7.2e+06\n",
       "===================================================================================\n",
       "Ljung-Box (L1) (Q):                   0.06   Jarque-Bera (JB):                 0.49\n",
       "Prob(Q):                              0.80   Prob(JB):                         0.78\n",
       "Heteroskedasticity (H):                nan   Skew:                            -0.64\n",
       "Prob(H) (two-sided):                   nan   Kurtosis:                         1.50\n",
       "===================================================================================\n",
       "\n",
       "Warnings:\n",
       "[1] Covariance matrix calculated using the outer product of gradients (complex-step).\n",
       "\"\"\""
      ]
     },
     "execution_count": 83,
     "metadata": {},
     "output_type": "execute_result"
    }
   ],
   "source": [
    "stepwise_fit = auto_arima(series,trace = True,supress_warnings = True)\n",
    "stepwise_fit.summary()"
   ]
  },
  {
   "cell_type": "code",
   "execution_count": 84,
   "id": "199d214d",
   "metadata": {
    "scrolled": true
   },
   "outputs": [
    {
     "data": {
      "image/png": "[encoded data removed]",
      "text/plain": [
       "<Figure size 432x288 with 1 Axes>"
      ]
     },
     "metadata": {
      "needs_background": "light"
     },
     "output_type": "display_data"
    }
   ],
   "source": [
    "series.plot()\n",
    "plt.show()"
   ]
  },
  {
   "cell_type": "code",
   "execution_count": 85,
   "id": "751ef627",
   "metadata": {},
   "outputs": [
    {
     "data": {
      "image/png": "[encoded data removed]",
      "text/plain": [
       "<Figure size 432x288 with 1 Axes>"
      ]
     },
     "metadata": {
      "needs_background": "light"
     },
     "output_type": "display_data"
    }
   ],
   "source": [
    "autocorrelation_plot(series)\n",
    "plt.show()"
   ]
  },
  {
   "cell_type": "markdown",
   "id": "86562732",
   "metadata": {},
   "source": [
    "## make sure the arima order is same as best fit model"
   ]
  },
  {
   "cell_type": "code",
   "execution_count": 86,
   "id": "09c98330",
   "metadata": {},
   "outputs": [
    {
     "name": "stdout",
     "output_type": "stream",
     "text": [
      "                               SARIMAX Results                                \n",
      "==============================================================================\n",
      "Dep. Variable:                Alachua   No. Observations:                    3\n",
      "Model:                          ARIMA   Log Likelihood                 -24.704\n",
      "Date:                Thu, 09 Jun 2022   AIC                             53.409\n",
      "Time:                        11:44:20   BIC                             51.606\n",
      "Sample:                    01-01-2019   HQIC                            49.785\n",
      "                         - 01-01-2021                                         \n",
      "Covariance Type:                  opg                                         \n",
      "==============================================================================\n",
      "                 coef    std err          z      P>|z|      [0.025      0.975]\n",
      "------------------------------------------------------------------------------\n",
      "const       1975.6667   1270.680      1.555      0.120    -514.821    4466.154\n",
      "sigma2      8.393e+05   3.31e+06      0.254      0.800   -5.64e+06    7.32e+06\n",
      "===================================================================================\n",
      "Ljung-Box (L1) (Q):                   0.06   Jarque-Bera (JB):                 0.49\n",
      "Prob(Q):                              0.80   Prob(JB):                         0.78\n",
      "Heteroskedasticity (H):                nan   Skew:                            -0.64\n",
      "Prob(H) (two-sided):                   nan   Kurtosis:                         1.50\n",
      "===================================================================================\n",
      "\n",
      "Warnings:\n",
      "[1] Covariance matrix calculated using the outer product of gradients (complex-step).\n"
     ]
    },
    {
     "data": {
      "image/png": "[encoded data removed]",
      "text/plain": [
       "<Figure size 432x288 with 1 Axes>"
      ]
     },
     "metadata": {
      "needs_background": "light"
     },
     "output_type": "display_data"
    },
    {
     "data": {
      "image/png": "[encoded data removed]",
      "text/plain": [
       "<Figure size 432x288 with 1 Axes>"
      ]
     },
     "metadata": {
      "needs_background": "light"
     },
     "output_type": "display_data"
    },
    {
     "name": "stdout",
     "output_type": "stream",
     "text": [
      "                  0\n",
      "count  3.000000e+00\n",
      "mean  -3.031649e-13\n",
      "std    1.117143e+03\n",
      "min   -1.276667e+03\n",
      "25%   -3.991667e+02\n",
      "50%    4.783333e+02\n",
      "75%    6.383333e+02\n",
      "max    7.983333e+02\n"
     ]
    }
   ],
   "source": [
    "# fit model\n",
    "model = ARIMA(series, order=(0,0,0)) ###<-- set to match best fit model\n",
    "model_fit = model.fit()\n",
    "# summary of fit model\n",
    "print(model_fit.summary())\n",
    "# line plot of residuals\n",
    "residuals = DataFrame(model_fit.resid)\n",
    "residuals.plot()\n",
    "plt.show()\n",
    "# density plot of residuals\n",
    "residuals.plot(kind='kde')\n",
    "plt.show()\n",
    "# summary stats of residuals\n",
    "print(residuals.describe())"
   ]
  },
  {
   "cell_type": "markdown",
   "id": "76e0aaaa",
   "metadata": {},
   "source": [
    "\n",
    "## Loop thru all the columns to show predictions"
   ]
  },
  {
   "cell_type": "code",
   "execution_count": 96,
   "id": "0dbd04f3",
   "metadata": {},
   "outputs": [],
   "source": [
    "# a=1\n",
    "# b=0\n",
    "# for column in yr_reg_df:\n",
    "#     test_df = yr_reg_df.iloc[1:,b:a]\n",
    "#     a= a+1\n",
    "#     b= b+1\n",
    "#     series = test_df\n",
    "#     # split into train and test sets\n",
    "#     X1 = series.values\n",
    "#     train, test = X1, X1\n",
    "#     history = [x for x in train]\n",
    "#     predictions = list()\n",
    "#     # walk-forward validation\n",
    "#     for t in range(len(test)):\n",
    "#         model = ARIMA(history, order=(0,0,0))\n",
    "#         model_fit = model.fit()\n",
    "#         output = model_fit.forecast()\n",
    "#         yhat = output[0]\n",
    "#         predictions.append(yhat)\n",
    "#         obs = test[t]\n",
    "#         history.append(obs)\n",
    "#         print('predicted=%f, expected=%f' % (yhat, obs))\n",
    "#     # evaluate forecasts\n",
    "#     rmse = sqrt(mean_squared_error(test, predictions))\n",
    "#     print('Test RMSE: %.3f' % rmse)\n",
    "#     # plot forecasts against actual outcomes\n",
    "#     plt.plot(test)\n",
    "#     plt.plot(predictions, color='red')\n",
    "#     cty = list(series.columns.values)\n",
    "#     plt.title(cty)\n",
    "#     plt.show()\n",
    "\n",
    "    \n",
    "\n",
    "    \n"
   ]
  },
  {
   "cell_type": "code",
   "execution_count": 97,
   "id": "14a8522d",
   "metadata": {},
   "outputs": [],
   "source": [
    "df = pd.DataFrame()"
   ]
  },
  {
   "cell_type": "code",
   "execution_count": 98,
   "id": "041b25bd",
   "metadata": {},
   "outputs": [
    {
     "name": "stdout",
     "output_type": "stream",
     "text": [
      "2022-01-01    1975.666667\n",
      "Freq: AS-JAN, dtype: float64\n",
      "Test RMSE: 912.143\n"
     ]
    },
    {
     "data": {
      "image/png": "[encoded data removed]",
      "text/plain": [
       "<Figure size 432x288 with 1 Axes>"
      ]
     },
     "metadata": {
      "needs_background": "light"
     },
     "output_type": "display_data"
    },
    {
     "name": "stdout",
     "output_type": "stream",
     "text": [
      "2022-01-01    31.666662\n",
      "Freq: AS-JAN, dtype: float64\n",
      "Test RMSE: 13.912\n"
     ]
    },
    {
     "data": {
      "image/png": "[encoded data removed]",
      "text/plain": [
       "<Figure size 432x288 with 1 Axes>"
      ]
     },
     "metadata": {
      "needs_background": "light"
     },
     "output_type": "display_data"
    },
    {
     "name": "stdout",
     "output_type": "stream",
     "text": [
      "2022-01-01    694.999998\n",
      "Freq: AS-JAN, dtype: float64\n",
      "Test RMSE: 326.218\n"
     ]
    },
    {
     "data": {
      "image/png": "[encoded data removed]",
      "text/plain": [
       "<Figure size 432x288 with 1 Axes>"
      ]
     },
     "metadata": {
      "needs_background": "light"
     },
     "output_type": "display_data"
    },
    {
     "name": "stdout",
     "output_type": "stream",
     "text": [
      "2022-01-01    27.666661\n",
      "Freq: AS-JAN, dtype: float64\n",
      "Test RMSE: 13.300\n"
     ]
    },
    {
     "data": {
      "image/png": "[encoded data removed]",
      "text/plain": [
       "<Figure size 432x288 with 1 Axes>"
      ]
     },
     "metadata": {
      "needs_background": "light"
     },
     "output_type": "display_data"
    },
    {
     "name": "stdout",
     "output_type": "stream",
     "text": [
      "2022-01-01    4862.666393\n",
      "Freq: AS-JAN, dtype: float64\n",
      "Test RMSE: 2287.609\n"
     ]
    },
    {
     "data": {
      "image/png": "[encoded data removed]",
      "text/plain": [
       "<Figure size 432x288 with 1 Axes>"
      ]
     },
     "metadata": {
      "needs_background": "light"
     },
     "output_type": "display_data"
    },
    {
     "name": "stdout",
     "output_type": "stream",
     "text": [
      "2022-01-01    18999.333333\n",
      "Freq: AS-JAN, dtype: float64\n",
      "Test RMSE: 8897.842\n"
     ]
    },
    {
     "data": {
      "image/png": "[encoded data removed]",
      "text/plain": [
       "<Figure size 432x288 with 1 Axes>"
      ]
     },
     "metadata": {
      "needs_background": "light"
     },
     "output_type": "display_data"
    },
    {
     "name": "stdout",
     "output_type": "stream",
     "text": [
      "2022-01-01    9.999995\n",
      "Freq: AS-JAN, dtype: float64\n",
      "Test RMSE: 3.742\n"
     ]
    },
    {
     "data": {
      "image/png": "[encoded data removed]",
      "text/plain": [
       "<Figure size 432x288 with 1 Axes>"
      ]
     },
     "metadata": {
      "needs_background": "light"
     },
     "output_type": "display_data"
    },
    {
     "name": "stdout",
     "output_type": "stream",
     "text": [
      "2022-01-01    1055.0\n",
      "Freq: AS-JAN, dtype: float64\n",
      "Test RMSE: 495.206\n"
     ]
    },
    {
     "data": {
      "image/png": "[encoded data removed]",
      "text/plain": [
       "<Figure size 432x288 with 1 Axes>"
      ]
     },
     "metadata": {
      "needs_background": "light"
     },
     "output_type": "display_data"
    },
    {
     "name": "stdout",
     "output_type": "stream",
     "text": [
      "2022-01-01    515.999995\n",
      "Freq: AS-JAN, dtype: float64\n",
      "Test RMSE: 255.227\n"
     ]
    },
    {
     "data": {
      "image/png": "[encoded data removed]",
      "text/plain": [
       "<Figure size 432x288 with 1 Axes>"
      ]
     },
     "metadata": {
      "needs_background": "light"
     },
     "output_type": "display_data"
    },
    {
     "name": "stdout",
     "output_type": "stream",
     "text": [
      "2022-01-01    843.999995\n",
      "Freq: AS-JAN, dtype: float64\n",
      "Test RMSE: 390.580\n"
     ]
    },
    {
     "data": {
      "image/png": "[encoded data removed]",
      "text/plain": [
       "<Figure size 432x288 with 1 Axes>"
      ]
     },
     "metadata": {
      "needs_background": "light"
     },
     "output_type": "display_data"
    },
    {
     "name": "stdout",
     "output_type": "stream",
     "text": [
      "2022-01-01    4415.0\n",
      "Freq: AS-JAN, dtype: float64\n",
      "Test RMSE: 2168.099\n"
     ]
    },
    {
     "data": {
      "image/png": "[encoded data removed]",
      "text/plain": [
       "<Figure size 432x288 with 1 Axes>"
      ]
     },
     "metadata": {
      "needs_background": "light"
     },
     "output_type": "display_data"
    },
    {
     "name": "stdout",
     "output_type": "stream",
     "text": [
      "2022-01-01    120.999995\n",
      "Freq: AS-JAN, dtype: float64\n",
      "Test RMSE: 58.657\n"
     ]
    },
    {
     "data": {
      "image/png": "[encoded data removed]",
      "text/plain": [
       "<Figure size 432x288 with 1 Axes>"
      ]
     },
     "metadata": {
      "needs_background": "light"
     },
     "output_type": "display_data"
    },
    {
     "name": "stdout",
     "output_type": "stream",
     "text": [
      "2022-01-01    24246.666667\n",
      "Freq: AS-JAN, dtype: float64\n",
      "Test RMSE: 11702.108\n"
     ]
    },
    {
     "data": {
      "image/png": "[encoded data removed]",
      "text/plain": [
       "<Figure size 432x288 with 1 Axes>"
      ]
     },
     "metadata": {
      "needs_background": "light"
     },
     "output_type": "display_data"
    },
    {
     "name": "stdout",
     "output_type": "stream",
     "text": [
      "2022-01-01    58.333329\n",
      "Freq: AS-JAN, dtype: float64\n",
      "Test RMSE: 26.234\n"
     ]
    },
    {
     "data": {
      "image/png": "[encoded data removed]",
      "text/plain": [
       "<Figure size 432x288 with 1 Axes>"
      ]
     },
     "metadata": {
      "needs_background": "light"
     },
     "output_type": "display_data"
    },
    {
     "name": "stdout",
     "output_type": "stream",
     "text": [
      "2022-01-01    5.999995\n",
      "Freq: AS-JAN, dtype: float64\n",
      "Test RMSE: 2.160\n"
     ]
    },
    {
     "data": {
      "image/png": "[encoded data removed]",
      "text/plain": [
       "<Figure size 432x288 with 1 Axes>"
      ]
     },
     "metadata": {
      "needs_background": "light"
     },
     "output_type": "display_data"
    },
    {
     "name": "stdout",
     "output_type": "stream",
     "text": [
      "2022-01-01    4904.0\n",
      "Freq: AS-JAN, dtype: float64\n",
      "Test RMSE: 2264.562\n"
     ]
    },
    {
     "data": {
      "image/png": "[encoded data removed]",
      "text/plain": [
       "<Figure size 432x288 with 1 Axes>"
      ]
     },
     "metadata": {
      "needs_background": "light"
     },
     "output_type": "display_data"
    },
    {
     "name": "stdout",
     "output_type": "stream",
     "text": [
      "2022-01-01    1156.333333\n",
      "Freq: AS-JAN, dtype: float64\n",
      "Test RMSE: 547.650\n"
     ]
    },
    {
     "data": {
      "image/png": "[encoded data removed]",
      "text/plain": [
       "<Figure size 432x288 with 1 Axes>"
      ]
     },
     "metadata": {
      "needs_background": "light"
     },
     "output_type": "display_data"
    },
    {
     "name": "stdout",
     "output_type": "stream",
     "text": [
      "2022-01-01    772.999994\n",
      "Freq: AS-JAN, dtype: float64\n",
      "Test RMSE: 367.606\n"
     ]
    },
    {
     "data": {
      "image/png": "[encoded data removed]",
      "text/plain": [
       "<Figure size 432x288 with 1 Axes>"
      ]
     },
     "metadata": {
      "needs_background": "light"
     },
     "output_type": "display_data"
    },
    {
     "name": "stdout",
     "output_type": "stream",
     "text": [
      "2022-01-01    46.666662\n",
      "Freq: AS-JAN, dtype: float64\n",
      "Test RMSE: 20.336\n"
     ]
    },
    {
     "data": {
      "image/png": "[encoded data removed]",
      "text/plain": [
       "<Figure size 432x288 with 1 Axes>"
      ]
     },
     "metadata": {
      "needs_background": "light"
     },
     "output_type": "display_data"
    },
    {
     "name": "stdout",
     "output_type": "stream",
     "text": [
      "2022-01-01    59.999996\n",
      "Freq: AS-JAN, dtype: float64\n",
      "Test RMSE: 26.882\n"
     ]
    },
    {
     "data": {
      "image/png": "[encoded data removed]",
      "text/plain": [
       "<Figure size 432x288 with 1 Axes>"
      ]
     },
     "metadata": {
      "needs_background": "light"
     },
     "output_type": "display_data"
    },
    {
     "name": "stdout",
     "output_type": "stream",
     "text": [
      "2022-01-01    29.999995\n",
      "Freq: AS-JAN, dtype: float64\n",
      "Test RMSE: 12.028\n"
     ]
    },
    {
     "data": {
      "image/png": "[encoded data removed]",
      "text/plain": [
       "<Figure size 432x288 with 1 Axes>"
      ]
     },
     "metadata": {
      "needs_background": "light"
     },
     "output_type": "display_data"
    },
    {
     "name": "stdout",
     "output_type": "stream",
     "text": [
      "2022-01-01    16.333328\n",
      "Freq: AS-JAN, dtype: float64\n",
      "Test RMSE: 8.807\n"
     ]
    },
    {
     "data": {
      "image/png": "[encoded data removed]",
      "text/plain": [
       "<Figure size 432x288 with 1 Axes>"
      ]
     },
     "metadata": {
      "needs_background": "light"
     },
     "output_type": "display_data"
    },
    {
     "name": "stdout",
     "output_type": "stream",
     "text": [
      "2022-01-01    26.999995\n",
      "Freq: AS-JAN, dtype: float64\n",
      "Test RMSE: 14.166\n"
     ]
    },
    {
     "data": {
      "image/png": "[encoded data removed]",
      "text/plain": [
       "<Figure size 432x288 with 1 Axes>"
      ]
     },
     "metadata": {
      "needs_background": "light"
     },
     "output_type": "display_data"
    },
    {
     "name": "stdout",
     "output_type": "stream",
     "text": [
      "2022-01-01    6.999995\n",
      "Freq: AS-JAN, dtype: float64\n",
      "Test RMSE: 3.559\n"
     ]
    },
    {
     "data": {
      "image/png": "[encoded data removed]",
      "text/plain": [
       "<Figure size 432x288 with 1 Axes>"
      ]
     },
     "metadata": {
      "needs_background": "light"
     },
     "output_type": "display_data"
    },
    {
     "name": "stdout",
     "output_type": "stream",
     "text": [
      "2022-01-01    20.999995\n",
      "Freq: AS-JAN, dtype: float64\n",
      "Test RMSE: 12.028\n"
     ]
    },
    {
     "data": {
      "image/png": "[encoded data removed]",
      "text/plain": [
       "<Figure size 432x288 with 1 Axes>"
      ]
     },
     "metadata": {
      "needs_background": "light"
     },
     "output_type": "display_data"
    },
    {
     "name": "stdout",
     "output_type": "stream",
     "text": [
      "2022-01-01    82.999995\n",
      "Freq: AS-JAN, dtype: float64\n",
      "Test RMSE: 38.609\n"
     ]
    },
    {
     "data": {
      "image/png": "[encoded data removed]",
      "text/plain": [
       "<Figure size 432x288 with 1 Axes>"
      ]
     },
     "metadata": {
      "needs_background": "light"
     },
     "output_type": "display_data"
    },
    {
     "name": "stdout",
     "output_type": "stream",
     "text": [
      "2022-01-01    718.666667\n",
      "Freq: AS-JAN, dtype: float64\n",
      "Test RMSE: 351.691\n"
     ]
    },
    {
     "data": {
      "image/png": "[encoded data removed]",
      "text/plain": [
       "<Figure size 432x288 with 1 Axes>"
      ]
     },
     "metadata": {
      "needs_background": "light"
     },
     "output_type": "display_data"
    },
    {
     "name": "stdout",
     "output_type": "stream",
     "text": [
      "2022-01-01    285.333329\n",
      "Freq: AS-JAN, dtype: float64\n",
      "Test RMSE: 125.784\n"
     ]
    },
    {
     "data": {
      "image/png": "[encoded data removed]",
      "text/plain": [
       "<Figure size 432x288 with 1 Axes>"
      ]
     },
     "metadata": {
      "needs_background": "light"
     },
     "output_type": "display_data"
    },
    {
     "name": "stdout",
     "output_type": "stream",
     "text": [
      "2022-01-01    11319.662601\n",
      "Freq: AS-JAN, dtype: float64\n",
      "Test RMSE: 5352.331\n"
     ]
    },
    {
     "data": {
      "image/png": "[encoded data removed]",
      "text/plain": [
       "<Figure size 432x288 with 1 Axes>"
      ]
     },
     "metadata": {
      "needs_background": "light"
     },
     "output_type": "display_data"
    },
    {
     "name": "stdout",
     "output_type": "stream",
     "text": [
      "2022-01-01    8.666662\n",
      "Freq: AS-JAN, dtype: float64\n",
      "Test RMSE: 1.886\n"
     ]
    },
    {
     "data": {
      "image/png": "[encoded data removed]",
      "text/plain": [
       "<Figure size 432x288 with 1 Axes>"
      ]
     },
     "metadata": {
      "needs_background": "light"
     },
     "output_type": "display_data"
    },
    {
     "name": "stdout",
     "output_type": "stream",
     "text": [
      "2022-01-01    1030.666667\n",
      "Freq: AS-JAN, dtype: float64\n",
      "Test RMSE: 499.086\n"
     ]
    },
    {
     "data": {
      "image/png": "[encoded data removed]",
      "text/plain": [
       "<Figure size 432x288 with 1 Axes>"
      ]
     },
     "metadata": {
      "needs_background": "light"
     },
     "output_type": "display_data"
    },
    {
     "name": "stdout",
     "output_type": "stream",
     "text": [
      "2022-01-01    34.999995\n",
      "Freq: AS-JAN, dtype: float64\n",
      "Test RMSE: 14.236\n"
     ]
    },
    {
     "data": {
      "image/png": "[encoded data removed]",
      "text/plain": [
       "<Figure size 432x288 with 1 Axes>"
      ]
     },
     "metadata": {
      "needs_background": "light"
     },
     "output_type": "display_data"
    },
    {
     "name": "stdout",
     "output_type": "stream",
     "text": [
      "2022-01-01    46.999995\n",
      "Freq: AS-JAN, dtype: float64\n",
      "Test RMSE: 18.385\n"
     ]
    },
    {
     "data": {
      "image/png": "[encoded data removed]",
      "text/plain": [
       "<Figure size 432x288 with 1 Axes>"
      ]
     },
     "metadata": {
      "needs_background": "light"
     },
     "output_type": "display_data"
    },
    {
     "name": "stdout",
     "output_type": "stream",
     "text": [
      "2022-01-01    2285.666803\n",
      "Freq: AS-JAN, dtype: float64\n",
      "Test RMSE: 1051.648\n"
     ]
    },
    {
     "data": {
      "image/png": "[encoded data removed]",
      "text/plain": [
       "<Figure size 432x288 with 1 Axes>"
      ]
     },
     "metadata": {
      "needs_background": "light"
     },
     "output_type": "display_data"
    },
    {
     "name": "stdout",
     "output_type": "stream",
     "text": [
      "2022-01-01    4591.332053\n",
      "Freq: AS-JAN, dtype: float64\n",
      "Test RMSE: 2253.606\n"
     ]
    },
    {
     "data": {
      "image/png": "[encoded data removed]",
      "text/plain": [
       "<Figure size 432x288 with 1 Axes>"
      ]
     },
     "metadata": {
      "needs_background": "light"
     },
     "output_type": "display_data"
    },
    {
     "name": "stdout",
     "output_type": "stream",
     "text": [
      "2022-01-01    1693.666581\n",
      "Freq: AS-JAN, dtype: float64\n",
      "Test RMSE: 801.373\n"
     ]
    },
    {
     "data": {
      "image/png": "[encoded data removed]",
      "text/plain": [
       "<Figure size 432x288 with 1 Axes>"
      ]
     },
     "metadata": {
      "needs_background": "light"
     },
     "output_type": "display_data"
    },
    {
     "name": "stdout",
     "output_type": "stream",
     "text": [
      "2022-01-01    70.666662\n",
      "Freq: AS-JAN, dtype: float64\n",
      "Test RMSE: 34.422\n"
     ]
    },
    {
     "data": {
      "image/png": "[encoded data removed]",
      "text/plain": [
       "<Figure size 432x288 with 1 Axes>"
      ]
     },
     "metadata": {
      "needs_background": "light"
     },
     "output_type": "display_data"
    },
    {
     "name": "stdout",
     "output_type": "stream",
     "text": [
      "2022-01-01    9.666662\n",
      "Freq: AS-JAN, dtype: float64\n",
      "Test RMSE: 4.028\n"
     ]
    },
    {
     "data": {
      "image/png": "[encoded data removed]",
      "text/plain": [
       "<Figure size 432x288 with 1 Axes>"
      ]
     },
     "metadata": {
      "needs_background": "light"
     },
     "output_type": "display_data"
    },
    {
     "name": "stdout",
     "output_type": "stream",
     "text": [
      "2022-01-01    17.666662\n",
      "Freq: AS-JAN, dtype: float64\n",
      "Test RMSE: 11.441\n"
     ]
    },
    {
     "data": {
      "image/png": "[encoded data removed]",
      "text/plain": [
       "<Figure size 432x288 with 1 Axes>"
      ]
     },
     "metadata": {
      "needs_background": "light"
     },
     "output_type": "display_data"
    },
    {
     "name": "stdout",
     "output_type": "stream",
     "text": [
      "2022-01-01    3370.999896\n",
      "Freq: AS-JAN, dtype: float64\n",
      "Test RMSE: 1622.212\n"
     ]
    },
    {
     "data": {
      "image/png": "[encoded data removed]",
      "text/plain": [
       "<Figure size 432x288 with 1 Axes>"
      ]
     },
     "metadata": {
      "needs_background": "light"
     },
     "output_type": "display_data"
    },
    {
     "name": "stdout",
     "output_type": "stream",
     "text": [
      "2022-01-01    1343.333287\n",
      "Freq: AS-JAN, dtype: float64\n",
      "Test RMSE: 631.629\n"
     ]
    },
    {
     "data": {
      "image/png": "[encoded data removed]",
      "text/plain": [
       "<Figure size 432x288 with 1 Axes>"
      ]
     },
     "metadata": {
      "needs_background": "light"
     },
     "output_type": "display_data"
    },
    {
     "name": "stdout",
     "output_type": "stream",
     "text": [
      "2022-01-01    1665.333083\n",
      "Freq: AS-JAN, dtype: float64\n",
      "Test RMSE: 783.947\n"
     ]
    },
    {
     "data": {
      "image/png": "[encoded data removed]",
      "text/plain": [
       "<Figure size 432x288 with 1 Axes>"
      ]
     },
     "metadata": {
      "needs_background": "light"
     },
     "output_type": "display_data"
    },
    {
     "name": "stdout",
     "output_type": "stream",
     "text": [
      "2022-01-01    761.333333\n",
      "Freq: AS-JAN, dtype: float64\n",
      "Test RMSE: 339.700\n"
     ]
    },
    {
     "data": {
      "image/png": "[encoded data removed]",
      "text/plain": [
       "<Figure size 432x288 with 1 Axes>"
      ]
     },
     "metadata": {
      "needs_background": "light"
     },
     "output_type": "display_data"
    },
    {
     "name": "stdout",
     "output_type": "stream",
     "text": [
      "2022-01-01    465.66662\n",
      "Freq: AS-JAN, dtype: float64\n",
      "Test RMSE: 216.495\n"
     ]
    },
    {
     "data": {
      "image/png": "[encoded data removed]",
      "text/plain": [
       "<Figure size 432x288 with 1 Axes>"
      ]
     },
     "metadata": {
      "needs_background": "light"
     },
     "output_type": "display_data"
    },
    {
     "name": "stdout",
     "output_type": "stream",
     "text": [
      "2022-01-01    1013.33332\n",
      "Freq: AS-JAN, dtype: float64\n",
      "Test RMSE: 503.220\n"
     ]
    },
    {
     "data": {
      "image/png": "[encoded data removed]",
      "text/plain": [
       "<Figure size 432x288 with 1 Axes>"
      ]
     },
     "metadata": {
      "needs_background": "light"
     },
     "output_type": "display_data"
    },
    {
     "name": "stdout",
     "output_type": "stream",
     "text": [
      "2022-01-01    60.666663\n",
      "Freq: AS-JAN, dtype: float64\n",
      "Test RMSE: 28.546\n"
     ]
    },
    {
     "data": {
      "image/png": "[encoded data removed]",
      "text/plain": [
       "<Figure size 432x288 with 1 Axes>"
      ]
     },
     "metadata": {
      "needs_background": "light"
     },
     "output_type": "display_data"
    },
    {
     "name": "stdout",
     "output_type": "stream",
     "text": [
      "2022-01-01    14142.34331\n",
      "Freq: AS-JAN, dtype: float64\n",
      "Test RMSE: 6655.104\n"
     ]
    },
    {
     "data": {
      "image/png": "[encoded data removed]",
      "text/plain": [
       "<Figure size 432x288 with 1 Axes>"
      ]
     },
     "metadata": {
      "needs_background": "light"
     },
     "output_type": "display_data"
    },
    {
     "name": "stdout",
     "output_type": "stream",
     "text": [
      "2022-01-01    2095.0\n",
      "Freq: AS-JAN, dtype: float64\n",
      "Test RMSE: 1046.331\n"
     ]
    },
    {
     "data": {
      "image/png": "[encoded data removed]",
      "text/plain": [
       "<Figure size 432x288 with 1 Axes>"
      ]
     },
     "metadata": {
      "needs_background": "light"
     },
     "output_type": "display_data"
    },
    {
     "name": "stdout",
     "output_type": "stream",
     "text": [
      "2022-01-01    17898.322734\n",
      "Freq: AS-JAN, dtype: float64\n",
      "Test RMSE: 8390.692\n"
     ]
    },
    {
     "data": {
      "image/png": "[encoded data removed]",
      "text/plain": [
       "<Figure size 432x288 with 1 Axes>"
      ]
     },
     "metadata": {
      "needs_background": "light"
     },
     "output_type": "display_data"
    },
    {
     "name": "stdout",
     "output_type": "stream",
     "text": [
      "2022-01-01    3447.333333\n",
      "Freq: AS-JAN, dtype: float64\n",
      "Test RMSE: 1649.299\n"
     ]
    },
    {
     "data": {
      "image/png": "[encoded data removed]",
      "text/plain": [
       "<Figure size 432x288 with 1 Axes>"
      ]
     },
     "metadata": {
      "needs_background": "light"
     },
     "output_type": "display_data"
    },
    {
     "name": "stdout",
     "output_type": "stream",
     "text": [
      "2022-01-01    8454.677144\n",
      "Freq: AS-JAN, dtype: float64\n",
      "Test RMSE: 3876.671\n"
     ]
    },
    {
     "data": {
      "image/png": "[encoded data removed]",
      "text/plain": [
       "<Figure size 432x288 with 1 Axes>"
      ]
     },
     "metadata": {
      "needs_background": "light"
     },
     "output_type": "display_data"
    },
    {
     "name": "stdout",
     "output_type": "stream",
     "text": [
      "2022-01-01    2585.999854\n",
      "Freq: AS-JAN, dtype: float64\n",
      "Test RMSE: 1238.887\n"
     ]
    },
    {
     "data": {
      "image/png": "[encoded data removed]",
      "text/plain": [
       "<Figure size 432x288 with 1 Axes>"
      ]
     },
     "metadata": {
      "needs_background": "light"
     },
     "output_type": "display_data"
    },
    {
     "name": "stdout",
     "output_type": "stream",
     "text": [
      "2022-01-01    122.999995\n",
      "Freq: AS-JAN, dtype: float64\n",
      "Test RMSE: 57.695\n"
     ]
    },
    {
     "data": {
      "image/png": "[encoded data removed]",
      "text/plain": [
       "<Figure size 432x288 with 1 Axes>"
      ]
     },
     "metadata": {
      "needs_background": "light"
     },
     "output_type": "display_data"
    },
    {
     "name": "stdout",
     "output_type": "stream",
     "text": [
      "2022-01-01    796.333333\n",
      "Freq: AS-JAN, dtype: float64\n",
      "Test RMSE: 384.354\n"
     ]
    },
    {
     "data": {
      "image/png": "[encoded data removed]",
      "text/plain": [
       "<Figure size 432x288 with 1 Axes>"
      ]
     },
     "metadata": {
      "needs_background": "light"
     },
     "output_type": "display_data"
    },
    {
     "name": "stdout",
     "output_type": "stream",
     "text": [
      "2022-01-01    4753.00113\n",
      "Freq: AS-JAN, dtype: float64\n",
      "Test RMSE: 2225.668\n"
     ]
    },
    {
     "data": {
      "image/png": "[encoded data removed]",
      "text/plain": [
       "<Figure size 432x288 with 1 Axes>"
      ]
     },
     "metadata": {
      "needs_background": "light"
     },
     "output_type": "display_data"
    },
    {
     "name": "stdout",
     "output_type": "stream",
     "text": [
      "2022-01-01    4359.333799\n",
      "Freq: AS-JAN, dtype: float64\n",
      "Test RMSE: 1993.183\n"
     ]
    },
    {
     "data": {
      "image/png": "[encoded data removed]",
      "text/plain": [
       "<Figure size 432x288 with 1 Axes>"
      ]
     },
     "metadata": {
      "needs_background": "light"
     },
     "output_type": "display_data"
    },
    {
     "name": "stdout",
     "output_type": "stream",
     "text": [
      "2022-01-01    3083.000105\n",
      "Freq: AS-JAN, dtype: float64\n",
      "Test RMSE: 1513.041\n"
     ]
    },
    {
     "data": {
      "image/png": "[encoded data removed]",
      "text/plain": [
       "<Figure size 432x288 with 1 Axes>"
      ]
     },
     "metadata": {
      "needs_background": "light"
     },
     "output_type": "display_data"
    },
    {
     "name": "stdout",
     "output_type": "stream",
     "text": [
      "2022-01-01    1656.333333\n",
      "Freq: AS-JAN, dtype: float64\n",
      "Test RMSE: 814.315\n"
     ]
    },
    {
     "data": {
      "image/png": "[encoded data removed]",
      "text/plain": [
       "<Figure size 432x288 with 1 Axes>"
      ]
     },
     "metadata": {
      "needs_background": "light"
     },
     "output_type": "display_data"
    },
    {
     "name": "stdout",
     "output_type": "stream",
     "text": [
      "2022-01-01    688.666667\n",
      "Freq: AS-JAN, dtype: float64\n",
      "Test RMSE: 308.990\n"
     ]
    },
    {
     "data": {
      "image/png": "[encoded data removed]",
      "text/plain": [
       "<Figure size 432x288 with 1 Axes>"
      ]
     },
     "metadata": {
      "needs_background": "light"
     },
     "output_type": "display_data"
    },
    {
     "name": "stdout",
     "output_type": "stream",
     "text": [
      "2022-01-01    44.333328\n",
      "Freq: AS-JAN, dtype: float64\n",
      "Test RMSE: 20.138\n"
     ]
    },
    {
     "data": {
      "image/png": "[encoded data removed]",
      "text/plain": [
       "<Figure size 432x288 with 1 Axes>"
      ]
     },
     "metadata": {
      "needs_background": "light"
     },
     "output_type": "display_data"
    },
    {
     "name": "stdout",
     "output_type": "stream",
     "text": [
      "2022-01-01    14.666662\n",
      "Freq: AS-JAN, dtype: float64\n",
      "Test RMSE: 6.182\n"
     ]
    },
    {
     "data": {
      "image/png": "[encoded data removed]",
      "text/plain": [
       "<Figure size 432x288 with 1 Axes>"
      ]
     },
     "metadata": {
      "needs_background": "light"
     },
     "output_type": "display_data"
    },
    {
     "name": "stdout",
     "output_type": "stream",
     "text": [
      "2022-01-01    9.999995\n",
      "Freq: AS-JAN, dtype: float64\n",
      "Test RMSE: 5.888\n"
     ]
    },
    {
     "ename": "KeyboardInterrupt",
     "evalue": "",
     "output_type": "error",
     "traceback": [
      "\u001b[1;31m---------------------------------------------------------------------------\u001b[0m",
      "\u001b[1;31mKeyboardInterrupt\u001b[0m                         Traceback (most recent call last)",
      "\u001b[1;32m~\\AppData\\Local\\Temp\\ipykernel_21148\\3187112885.py\u001b[0m in \u001b[0;36m<cell line: 4>\u001b[1;34m()\u001b[0m\n\u001b[0;32m     43\u001b[0m     \u001b[0mcty\u001b[0m \u001b[1;33m=\u001b[0m \u001b[0mlist\u001b[0m\u001b[1;33m(\u001b[0m\u001b[0mtrain\u001b[0m\u001b[1;33m.\u001b[0m\u001b[0mcolumns\u001b[0m\u001b[1;33m.\u001b[0m\u001b[0mvalues\u001b[0m\u001b[1;33m)\u001b[0m\u001b[1;33m\u001b[0m\u001b[1;33m\u001b[0m\u001b[0m\n\u001b[0;32m     44\u001b[0m     \u001b[0mplt\u001b[0m\u001b[1;33m.\u001b[0m\u001b[0mtitle\u001b[0m\u001b[1;33m(\u001b[0m\u001b[0mcty\u001b[0m\u001b[1;33m)\u001b[0m\u001b[1;33m\u001b[0m\u001b[1;33m\u001b[0m\u001b[0m\n\u001b[1;32m---> 45\u001b[1;33m     \u001b[0mplt\u001b[0m\u001b[1;33m.\u001b[0m\u001b[0mshow\u001b[0m\u001b[1;33m(\u001b[0m\u001b[1;33m)\u001b[0m\u001b[1;33m\u001b[0m\u001b[1;33m\u001b[0m\u001b[0m\n\u001b[0m\u001b[0;32m     46\u001b[0m \u001b[1;33m\u001b[0m\u001b[0m\n\u001b[0;32m     47\u001b[0m \u001b[1;33m\u001b[0m\u001b[0m\n",
      "\u001b[1;32m~\\anaconda3\\lib\\site-packages\\matplotlib\\pyplot.py\u001b[0m in \u001b[0;36mshow\u001b[1;34m(*args, **kwargs)\u001b[0m\n\u001b[0;32m    366\u001b[0m     \"\"\"\n\u001b[0;32m    367\u001b[0m     \u001b[0m_warn_if_gui_out_of_main_thread\u001b[0m\u001b[1;33m(\u001b[0m\u001b[1;33m)\u001b[0m\u001b[1;33m\u001b[0m\u001b[1;33m\u001b[0m\u001b[0m\n\u001b[1;32m--> 368\u001b[1;33m     \u001b[1;32mreturn\u001b[0m \u001b[0m_backend_mod\u001b[0m\u001b[1;33m.\u001b[0m\u001b[0mshow\u001b[0m\u001b[1;33m(\u001b[0m\u001b[1;33m*\u001b[0m\u001b[0margs\u001b[0m\u001b[1;33m,\u001b[0m \u001b[1;33m**\u001b[0m\u001b[0mkwargs\u001b[0m\u001b[1;33m)\u001b[0m\u001b[1;33m\u001b[0m\u001b[1;33m\u001b[0m\u001b[0m\n\u001b[0m\u001b[0;32m    369\u001b[0m \u001b[1;33m\u001b[0m\u001b[0m\n\u001b[0;32m    370\u001b[0m \u001b[1;33m\u001b[0m\u001b[0m\n",
      "\u001b[1;32m~\\anaconda3\\lib\\site-packages\\matplotlib_inline\\backend_inline.py\u001b[0m in \u001b[0;36mshow\u001b[1;34m(close, block)\u001b[0m\n\u001b[0;32m     39\u001b[0m     \u001b[1;32mtry\u001b[0m\u001b[1;33m:\u001b[0m\u001b[1;33m\u001b[0m\u001b[1;33m\u001b[0m\u001b[0m\n\u001b[0;32m     40\u001b[0m         \u001b[1;32mfor\u001b[0m \u001b[0mfigure_manager\u001b[0m \u001b[1;32min\u001b[0m \u001b[0mGcf\u001b[0m\u001b[1;33m.\u001b[0m\u001b[0mget_all_fig_managers\u001b[0m\u001b[1;33m(\u001b[0m\u001b[1;33m)\u001b[0m\u001b[1;33m:\u001b[0m\u001b[1;33m\u001b[0m\u001b[1;33m\u001b[0m\u001b[0m\n\u001b[1;32m---> 41\u001b[1;33m             display(\n\u001b[0m\u001b[0;32m     42\u001b[0m                 \u001b[0mfigure_manager\u001b[0m\u001b[1;33m.\u001b[0m\u001b[0mcanvas\u001b[0m\u001b[1;33m.\u001b[0m\u001b[0mfigure\u001b[0m\u001b[1;33m,\u001b[0m\u001b[1;33m\u001b[0m\u001b[1;33m\u001b[0m\u001b[0m\n\u001b[0;32m     43\u001b[0m                 \u001b[0mmetadata\u001b[0m\u001b[1;33m=\u001b[0m\u001b[0m_fetch_figure_metadata\u001b[0m\u001b[1;33m(\u001b[0m\u001b[0mfigure_manager\u001b[0m\u001b[1;33m.\u001b[0m\u001b[0mcanvas\u001b[0m\u001b[1;33m.\u001b[0m\u001b[0mfigure\u001b[0m\u001b[1;33m)\u001b[0m\u001b[1;33m\u001b[0m\u001b[1;33m\u001b[0m\u001b[0m\n",
      "\u001b[1;32m~\\anaconda3\\lib\\site-packages\\IPython\\core\\display.py\u001b[0m in \u001b[0;36mdisplay\u001b[1;34m(include, exclude, metadata, transient, display_id, *objs, **kwargs)\u001b[0m\n\u001b[0;32m    318\u001b[0m             \u001b[0mpublish_display_data\u001b[0m\u001b[1;33m(\u001b[0m\u001b[0mdata\u001b[0m\u001b[1;33m=\u001b[0m\u001b[0mobj\u001b[0m\u001b[1;33m,\u001b[0m \u001b[0mmetadata\u001b[0m\u001b[1;33m=\u001b[0m\u001b[0mmetadata\u001b[0m\u001b[1;33m,\u001b[0m \u001b[1;33m**\u001b[0m\u001b[0mkwargs\u001b[0m\u001b[1;33m)\u001b[0m\u001b[1;33m\u001b[0m\u001b[1;33m\u001b[0m\u001b[0m\n\u001b[0;32m    319\u001b[0m         \u001b[1;32melse\u001b[0m\u001b[1;33m:\u001b[0m\u001b[1;33m\u001b[0m\u001b[1;33m\u001b[0m\u001b[0m\n\u001b[1;32m--> 320\u001b[1;33m             \u001b[0mformat_dict\u001b[0m\u001b[1;33m,\u001b[0m \u001b[0mmd_dict\u001b[0m \u001b[1;33m=\u001b[0m \u001b[0mformat\u001b[0m\u001b[1;33m(\u001b[0m\u001b[0mobj\u001b[0m\u001b[1;33m,\u001b[0m \u001b[0minclude\u001b[0m\u001b[1;33m=\u001b[0m\u001b[0minclude\u001b[0m\u001b[1;33m,\u001b[0m \u001b[0mexclude\u001b[0m\u001b[1;33m=\u001b[0m\u001b[0mexclude\u001b[0m\u001b[1;33m)\u001b[0m\u001b[1;33m\u001b[0m\u001b[1;33m\u001b[0m\u001b[0m\n\u001b[0m\u001b[0;32m    321\u001b[0m             \u001b[1;32mif\u001b[0m \u001b[1;32mnot\u001b[0m \u001b[0mformat_dict\u001b[0m\u001b[1;33m:\u001b[0m\u001b[1;33m\u001b[0m\u001b[1;33m\u001b[0m\u001b[0m\n\u001b[0;32m    322\u001b[0m                 \u001b[1;31m# nothing to display (e.g. _ipython_display_ took over)\u001b[0m\u001b[1;33m\u001b[0m\u001b[1;33m\u001b[0m\u001b[0m\n",
      "\u001b[1;32m~\\anaconda3\\lib\\site-packages\\IPython\\core\\formatters.py\u001b[0m in \u001b[0;36mformat\u001b[1;34m(self, obj, include, exclude)\u001b[0m\n\u001b[0;32m    178\u001b[0m             \u001b[0mmd\u001b[0m \u001b[1;33m=\u001b[0m \u001b[1;32mNone\u001b[0m\u001b[1;33m\u001b[0m\u001b[1;33m\u001b[0m\u001b[0m\n\u001b[0;32m    179\u001b[0m             \u001b[1;32mtry\u001b[0m\u001b[1;33m:\u001b[0m\u001b[1;33m\u001b[0m\u001b[1;33m\u001b[0m\u001b[0m\n\u001b[1;32m--> 180\u001b[1;33m                 \u001b[0mdata\u001b[0m \u001b[1;33m=\u001b[0m \u001b[0mformatter\u001b[0m\u001b[1;33m(\u001b[0m\u001b[0mobj\u001b[0m\u001b[1;33m)\u001b[0m\u001b[1;33m\u001b[0m\u001b[1;33m\u001b[0m\u001b[0m\n\u001b[0m\u001b[0;32m    181\u001b[0m             \u001b[1;32mexcept\u001b[0m\u001b[1;33m:\u001b[0m\u001b[1;33m\u001b[0m\u001b[1;33m\u001b[0m\u001b[0m\n\u001b[0;32m    182\u001b[0m                 \u001b[1;31m# FIXME: log the exception\u001b[0m\u001b[1;33m\u001b[0m\u001b[1;33m\u001b[0m\u001b[0m\n",
      "\u001b[1;32m~\\anaconda3\\lib\\site-packages\\decorator.py\u001b[0m in \u001b[0;36mfun\u001b[1;34m(*args, **kw)\u001b[0m\n\u001b[0;32m    230\u001b[0m             \u001b[1;32mif\u001b[0m \u001b[1;32mnot\u001b[0m \u001b[0mkwsyntax\u001b[0m\u001b[1;33m:\u001b[0m\u001b[1;33m\u001b[0m\u001b[1;33m\u001b[0m\u001b[0m\n\u001b[0;32m    231\u001b[0m                 \u001b[0margs\u001b[0m\u001b[1;33m,\u001b[0m \u001b[0mkw\u001b[0m \u001b[1;33m=\u001b[0m \u001b[0mfix\u001b[0m\u001b[1;33m(\u001b[0m\u001b[0margs\u001b[0m\u001b[1;33m,\u001b[0m \u001b[0mkw\u001b[0m\u001b[1;33m,\u001b[0m \u001b[0msig\u001b[0m\u001b[1;33m)\u001b[0m\u001b[1;33m\u001b[0m\u001b[1;33m\u001b[0m\u001b[0m\n\u001b[1;32m--> 232\u001b[1;33m             \u001b[1;32mreturn\u001b[0m \u001b[0mcaller\u001b[0m\u001b[1;33m(\u001b[0m\u001b[0mfunc\u001b[0m\u001b[1;33m,\u001b[0m \u001b[1;33m*\u001b[0m\u001b[1;33m(\u001b[0m\u001b[0mextras\u001b[0m \u001b[1;33m+\u001b[0m \u001b[0margs\u001b[0m\u001b[1;33m)\u001b[0m\u001b[1;33m,\u001b[0m \u001b[1;33m**\u001b[0m\u001b[0mkw\u001b[0m\u001b[1;33m)\u001b[0m\u001b[1;33m\u001b[0m\u001b[1;33m\u001b[0m\u001b[0m\n\u001b[0m\u001b[0;32m    233\u001b[0m     \u001b[0mfun\u001b[0m\u001b[1;33m.\u001b[0m\u001b[0m__name__\u001b[0m \u001b[1;33m=\u001b[0m \u001b[0mfunc\u001b[0m\u001b[1;33m.\u001b[0m\u001b[0m__name__\u001b[0m\u001b[1;33m\u001b[0m\u001b[1;33m\u001b[0m\u001b[0m\n\u001b[0;32m    234\u001b[0m     \u001b[0mfun\u001b[0m\u001b[1;33m.\u001b[0m\u001b[0m__doc__\u001b[0m \u001b[1;33m=\u001b[0m \u001b[0mfunc\u001b[0m\u001b[1;33m.\u001b[0m\u001b[0m__doc__\u001b[0m\u001b[1;33m\u001b[0m\u001b[1;33m\u001b[0m\u001b[0m\n",
      "\u001b[1;32m~\\anaconda3\\lib\\site-packages\\IPython\\core\\formatters.py\u001b[0m in \u001b[0;36mcatch_format_error\u001b[1;34m(method, self, *args, **kwargs)\u001b[0m\n\u001b[0;32m    222\u001b[0m     \u001b[1;34m\"\"\"show traceback on failed format call\"\"\"\u001b[0m\u001b[1;33m\u001b[0m\u001b[1;33m\u001b[0m\u001b[0m\n\u001b[0;32m    223\u001b[0m     \u001b[1;32mtry\u001b[0m\u001b[1;33m:\u001b[0m\u001b[1;33m\u001b[0m\u001b[1;33m\u001b[0m\u001b[0m\n\u001b[1;32m--> 224\u001b[1;33m         \u001b[0mr\u001b[0m \u001b[1;33m=\u001b[0m \u001b[0mmethod\u001b[0m\u001b[1;33m(\u001b[0m\u001b[0mself\u001b[0m\u001b[1;33m,\u001b[0m \u001b[1;33m*\u001b[0m\u001b[0margs\u001b[0m\u001b[1;33m,\u001b[0m \u001b[1;33m**\u001b[0m\u001b[0mkwargs\u001b[0m\u001b[1;33m)\u001b[0m\u001b[1;33m\u001b[0m\u001b[1;33m\u001b[0m\u001b[0m\n\u001b[0m\u001b[0;32m    225\u001b[0m     \u001b[1;32mexcept\u001b[0m \u001b[0mNotImplementedError\u001b[0m\u001b[1;33m:\u001b[0m\u001b[1;33m\u001b[0m\u001b[1;33m\u001b[0m\u001b[0m\n\u001b[0;32m    226\u001b[0m         \u001b[1;31m# don't warn on NotImplementedErrors\u001b[0m\u001b[1;33m\u001b[0m\u001b[1;33m\u001b[0m\u001b[0m\n",
      "\u001b[1;32m~\\anaconda3\\lib\\site-packages\\IPython\\core\\formatters.py\u001b[0m in \u001b[0;36m__call__\u001b[1;34m(self, obj)\u001b[0m\n\u001b[0;32m    339\u001b[0m                 \u001b[1;32mpass\u001b[0m\u001b[1;33m\u001b[0m\u001b[1;33m\u001b[0m\u001b[0m\n\u001b[0;32m    340\u001b[0m             \u001b[1;32melse\u001b[0m\u001b[1;33m:\u001b[0m\u001b[1;33m\u001b[0m\u001b[1;33m\u001b[0m\u001b[0m\n\u001b[1;32m--> 341\u001b[1;33m                 \u001b[1;32mreturn\u001b[0m \u001b[0mprinter\u001b[0m\u001b[1;33m(\u001b[0m\u001b[0mobj\u001b[0m\u001b[1;33m)\u001b[0m\u001b[1;33m\u001b[0m\u001b[1;33m\u001b[0m\u001b[0m\n\u001b[0m\u001b[0;32m    342\u001b[0m             \u001b[1;31m# Finally look for special method names\u001b[0m\u001b[1;33m\u001b[0m\u001b[1;33m\u001b[0m\u001b[0m\n\u001b[0;32m    343\u001b[0m             \u001b[0mmethod\u001b[0m \u001b[1;33m=\u001b[0m \u001b[0mget_real_method\u001b[0m\u001b[1;33m(\u001b[0m\u001b[0mobj\u001b[0m\u001b[1;33m,\u001b[0m \u001b[0mself\u001b[0m\u001b[1;33m.\u001b[0m\u001b[0mprint_method\u001b[0m\u001b[1;33m)\u001b[0m\u001b[1;33m\u001b[0m\u001b[1;33m\u001b[0m\u001b[0m\n",
      "\u001b[1;32m~\\anaconda3\\lib\\site-packages\\IPython\\core\\pylabtools.py\u001b[0m in \u001b[0;36mprint_figure\u001b[1;34m(fig, fmt, bbox_inches, base64, **kwargs)\u001b[0m\n\u001b[0;32m    149\u001b[0m         \u001b[0mFigureCanvasBase\u001b[0m\u001b[1;33m(\u001b[0m\u001b[0mfig\u001b[0m\u001b[1;33m)\u001b[0m\u001b[1;33m\u001b[0m\u001b[1;33m\u001b[0m\u001b[0m\n\u001b[0;32m    150\u001b[0m \u001b[1;33m\u001b[0m\u001b[0m\n\u001b[1;32m--> 151\u001b[1;33m     \u001b[0mfig\u001b[0m\u001b[1;33m.\u001b[0m\u001b[0mcanvas\u001b[0m\u001b[1;33m.\u001b[0m\u001b[0mprint_figure\u001b[0m\u001b[1;33m(\u001b[0m\u001b[0mbytes_io\u001b[0m\u001b[1;33m,\u001b[0m \u001b[1;33m**\u001b[0m\u001b[0mkw\u001b[0m\u001b[1;33m)\u001b[0m\u001b[1;33m\u001b[0m\u001b[1;33m\u001b[0m\u001b[0m\n\u001b[0m\u001b[0;32m    152\u001b[0m     \u001b[0mdata\u001b[0m \u001b[1;33m=\u001b[0m \u001b[0mbytes_io\u001b[0m\u001b[1;33m.\u001b[0m\u001b[0mgetvalue\u001b[0m\u001b[1;33m(\u001b[0m\u001b[1;33m)\u001b[0m\u001b[1;33m\u001b[0m\u001b[1;33m\u001b[0m\u001b[0m\n\u001b[0;32m    153\u001b[0m     \u001b[1;32mif\u001b[0m \u001b[0mfmt\u001b[0m \u001b[1;33m==\u001b[0m \u001b[1;34m'svg'\u001b[0m\u001b[1;33m:\u001b[0m\u001b[1;33m\u001b[0m\u001b[1;33m\u001b[0m\u001b[0m\n",
      "\u001b[1;32m~\\anaconda3\\lib\\site-packages\\matplotlib\\backend_bases.py\u001b[0m in \u001b[0;36mprint_figure\u001b[1;34m(self, filename, dpi, facecolor, edgecolor, orientation, format, bbox_inches, pad_inches, bbox_extra_artists, backend, **kwargs)\u001b[0m\n\u001b[0;32m   2293\u001b[0m                 )\n\u001b[0;32m   2294\u001b[0m                 \u001b[1;32mwith\u001b[0m \u001b[0mgetattr\u001b[0m\u001b[1;33m(\u001b[0m\u001b[0mrenderer\u001b[0m\u001b[1;33m,\u001b[0m \u001b[1;34m\"_draw_disabled\"\u001b[0m\u001b[1;33m,\u001b[0m \u001b[0mnullcontext\u001b[0m\u001b[1;33m)\u001b[0m\u001b[1;33m(\u001b[0m\u001b[1;33m)\u001b[0m\u001b[1;33m:\u001b[0m\u001b[1;33m\u001b[0m\u001b[1;33m\u001b[0m\u001b[0m\n\u001b[1;32m-> 2295\u001b[1;33m                     \u001b[0mself\u001b[0m\u001b[1;33m.\u001b[0m\u001b[0mfigure\u001b[0m\u001b[1;33m.\u001b[0m\u001b[0mdraw\u001b[0m\u001b[1;33m(\u001b[0m\u001b[0mrenderer\u001b[0m\u001b[1;33m)\u001b[0m\u001b[1;33m\u001b[0m\u001b[1;33m\u001b[0m\u001b[0m\n\u001b[0m\u001b[0;32m   2296\u001b[0m \u001b[1;33m\u001b[0m\u001b[0m\n\u001b[0;32m   2297\u001b[0m             \u001b[1;32mif\u001b[0m \u001b[0mbbox_inches\u001b[0m\u001b[1;33m:\u001b[0m\u001b[1;33m\u001b[0m\u001b[1;33m\u001b[0m\u001b[0m\n",
      "\u001b[1;32m~\\anaconda3\\lib\\site-packages\\matplotlib\\artist.py\u001b[0m in \u001b[0;36mdraw_wrapper\u001b[1;34m(artist, renderer, *args, **kwargs)\u001b[0m\n\u001b[0;32m     71\u001b[0m     \u001b[1;33m@\u001b[0m\u001b[0mwraps\u001b[0m\u001b[1;33m(\u001b[0m\u001b[0mdraw\u001b[0m\u001b[1;33m)\u001b[0m\u001b[1;33m\u001b[0m\u001b[1;33m\u001b[0m\u001b[0m\n\u001b[0;32m     72\u001b[0m     \u001b[1;32mdef\u001b[0m \u001b[0mdraw_wrapper\u001b[0m\u001b[1;33m(\u001b[0m\u001b[0martist\u001b[0m\u001b[1;33m,\u001b[0m \u001b[0mrenderer\u001b[0m\u001b[1;33m,\u001b[0m \u001b[1;33m*\u001b[0m\u001b[0margs\u001b[0m\u001b[1;33m,\u001b[0m \u001b[1;33m**\u001b[0m\u001b[0mkwargs\u001b[0m\u001b[1;33m)\u001b[0m\u001b[1;33m:\u001b[0m\u001b[1;33m\u001b[0m\u001b[1;33m\u001b[0m\u001b[0m\n\u001b[1;32m---> 73\u001b[1;33m         \u001b[0mresult\u001b[0m \u001b[1;33m=\u001b[0m \u001b[0mdraw\u001b[0m\u001b[1;33m(\u001b[0m\u001b[0martist\u001b[0m\u001b[1;33m,\u001b[0m \u001b[0mrenderer\u001b[0m\u001b[1;33m,\u001b[0m \u001b[1;33m*\u001b[0m\u001b[0margs\u001b[0m\u001b[1;33m,\u001b[0m \u001b[1;33m**\u001b[0m\u001b[0mkwargs\u001b[0m\u001b[1;33m)\u001b[0m\u001b[1;33m\u001b[0m\u001b[1;33m\u001b[0m\u001b[0m\n\u001b[0m\u001b[0;32m     74\u001b[0m         \u001b[1;32mif\u001b[0m \u001b[0mrenderer\u001b[0m\u001b[1;33m.\u001b[0m\u001b[0m_rasterizing\u001b[0m\u001b[1;33m:\u001b[0m\u001b[1;33m\u001b[0m\u001b[1;33m\u001b[0m\u001b[0m\n\u001b[0;32m     75\u001b[0m             \u001b[0mrenderer\u001b[0m\u001b[1;33m.\u001b[0m\u001b[0mstop_rasterizing\u001b[0m\u001b[1;33m(\u001b[0m\u001b[1;33m)\u001b[0m\u001b[1;33m\u001b[0m\u001b[1;33m\u001b[0m\u001b[0m\n",
      "\u001b[1;32m~\\anaconda3\\lib\\site-packages\\matplotlib\\artist.py\u001b[0m in \u001b[0;36mdraw_wrapper\u001b[1;34m(artist, renderer)\u001b[0m\n\u001b[0;32m     48\u001b[0m                 \u001b[0mrenderer\u001b[0m\u001b[1;33m.\u001b[0m\u001b[0mstart_filter\u001b[0m\u001b[1;33m(\u001b[0m\u001b[1;33m)\u001b[0m\u001b[1;33m\u001b[0m\u001b[1;33m\u001b[0m\u001b[0m\n\u001b[0;32m     49\u001b[0m \u001b[1;33m\u001b[0m\u001b[0m\n\u001b[1;32m---> 50\u001b[1;33m             \u001b[1;32mreturn\u001b[0m \u001b[0mdraw\u001b[0m\u001b[1;33m(\u001b[0m\u001b[0martist\u001b[0m\u001b[1;33m,\u001b[0m \u001b[0mrenderer\u001b[0m\u001b[1;33m)\u001b[0m\u001b[1;33m\u001b[0m\u001b[1;33m\u001b[0m\u001b[0m\n\u001b[0m\u001b[0;32m     51\u001b[0m         \u001b[1;32mfinally\u001b[0m\u001b[1;33m:\u001b[0m\u001b[1;33m\u001b[0m\u001b[1;33m\u001b[0m\u001b[0m\n\u001b[0;32m     52\u001b[0m             \u001b[1;32mif\u001b[0m \u001b[0martist\u001b[0m\u001b[1;33m.\u001b[0m\u001b[0mget_agg_filter\u001b[0m\u001b[1;33m(\u001b[0m\u001b[1;33m)\u001b[0m \u001b[1;32mis\u001b[0m \u001b[1;32mnot\u001b[0m \u001b[1;32mNone\u001b[0m\u001b[1;33m:\u001b[0m\u001b[1;33m\u001b[0m\u001b[1;33m\u001b[0m\u001b[0m\n",
      "\u001b[1;32m~\\anaconda3\\lib\\site-packages\\matplotlib\\figure.py\u001b[0m in \u001b[0;36mdraw\u001b[1;34m(self, renderer)\u001b[0m\n\u001b[0;32m   2807\u001b[0m                     \u001b[1;31m# ValueError can occur when resizing a window.\u001b[0m\u001b[1;33m\u001b[0m\u001b[1;33m\u001b[0m\u001b[0m\n\u001b[0;32m   2808\u001b[0m \u001b[1;33m\u001b[0m\u001b[0m\n\u001b[1;32m-> 2809\u001b[1;33m             \u001b[0mself\u001b[0m\u001b[1;33m.\u001b[0m\u001b[0mpatch\u001b[0m\u001b[1;33m.\u001b[0m\u001b[0mdraw\u001b[0m\u001b[1;33m(\u001b[0m\u001b[0mrenderer\u001b[0m\u001b[1;33m)\u001b[0m\u001b[1;33m\u001b[0m\u001b[1;33m\u001b[0m\u001b[0m\n\u001b[0m\u001b[0;32m   2810\u001b[0m             mimage._draw_list_compositing_images(\n\u001b[0;32m   2811\u001b[0m                 renderer, self, artists, self.suppressComposite)\n",
      "\u001b[1;32m~\\anaconda3\\lib\\site-packages\\matplotlib\\artist.py\u001b[0m in \u001b[0;36mdraw_wrapper\u001b[1;34m(artist, renderer)\u001b[0m\n\u001b[0;32m     48\u001b[0m                 \u001b[0mrenderer\u001b[0m\u001b[1;33m.\u001b[0m\u001b[0mstart_filter\u001b[0m\u001b[1;33m(\u001b[0m\u001b[1;33m)\u001b[0m\u001b[1;33m\u001b[0m\u001b[1;33m\u001b[0m\u001b[0m\n\u001b[0;32m     49\u001b[0m \u001b[1;33m\u001b[0m\u001b[0m\n\u001b[1;32m---> 50\u001b[1;33m             \u001b[1;32mreturn\u001b[0m \u001b[0mdraw\u001b[0m\u001b[1;33m(\u001b[0m\u001b[0martist\u001b[0m\u001b[1;33m,\u001b[0m \u001b[0mrenderer\u001b[0m\u001b[1;33m)\u001b[0m\u001b[1;33m\u001b[0m\u001b[1;33m\u001b[0m\u001b[0m\n\u001b[0m\u001b[0;32m     51\u001b[0m         \u001b[1;32mfinally\u001b[0m\u001b[1;33m:\u001b[0m\u001b[1;33m\u001b[0m\u001b[1;33m\u001b[0m\u001b[0m\n\u001b[0;32m     52\u001b[0m             \u001b[1;32mif\u001b[0m \u001b[0martist\u001b[0m\u001b[1;33m.\u001b[0m\u001b[0mget_agg_filter\u001b[0m\u001b[1;33m(\u001b[0m\u001b[1;33m)\u001b[0m \u001b[1;32mis\u001b[0m \u001b[1;32mnot\u001b[0m \u001b[1;32mNone\u001b[0m\u001b[1;33m:\u001b[0m\u001b[1;33m\u001b[0m\u001b[1;33m\u001b[0m\u001b[0m\n",
      "\u001b[1;32m~\\anaconda3\\lib\\site-packages\\matplotlib\\patches.py\u001b[0m in \u001b[0;36mdraw\u001b[1;34m(self, renderer)\u001b[0m\n\u001b[0;32m    607\u001b[0m                 \u001b[0mself\u001b[0m\u001b[1;33m.\u001b[0m\u001b[0m_bind_draw_path_function\u001b[0m\u001b[1;33m(\u001b[0m\u001b[0mrenderer\u001b[0m\u001b[1;33m)\u001b[0m \u001b[1;32mas\u001b[0m \u001b[0mdraw_path\u001b[0m\u001b[1;33m:\u001b[0m\u001b[1;33m\u001b[0m\u001b[1;33m\u001b[0m\u001b[0m\n\u001b[0;32m    608\u001b[0m             \u001b[0mpath\u001b[0m \u001b[1;33m=\u001b[0m \u001b[0mself\u001b[0m\u001b[1;33m.\u001b[0m\u001b[0mget_path\u001b[0m\u001b[1;33m(\u001b[0m\u001b[1;33m)\u001b[0m\u001b[1;33m\u001b[0m\u001b[1;33m\u001b[0m\u001b[0m\n\u001b[1;32m--> 609\u001b[1;33m             \u001b[0mtransform\u001b[0m \u001b[1;33m=\u001b[0m \u001b[0mself\u001b[0m\u001b[1;33m.\u001b[0m\u001b[0mget_transform\u001b[0m\u001b[1;33m(\u001b[0m\u001b[1;33m)\u001b[0m\u001b[1;33m\u001b[0m\u001b[1;33m\u001b[0m\u001b[0m\n\u001b[0m\u001b[0;32m    610\u001b[0m             \u001b[0mtpath\u001b[0m \u001b[1;33m=\u001b[0m \u001b[0mtransform\u001b[0m\u001b[1;33m.\u001b[0m\u001b[0mtransform_path_non_affine\u001b[0m\u001b[1;33m(\u001b[0m\u001b[0mpath\u001b[0m\u001b[1;33m)\u001b[0m\u001b[1;33m\u001b[0m\u001b[1;33m\u001b[0m\u001b[0m\n\u001b[0;32m    611\u001b[0m             \u001b[0maffine\u001b[0m \u001b[1;33m=\u001b[0m \u001b[0mtransform\u001b[0m\u001b[1;33m.\u001b[0m\u001b[0mget_affine\u001b[0m\u001b[1;33m(\u001b[0m\u001b[1;33m)\u001b[0m\u001b[1;33m\u001b[0m\u001b[1;33m\u001b[0m\u001b[0m\n",
      "\u001b[1;32m~\\anaconda3\\lib\\site-packages\\matplotlib\\patches.py\u001b[0m in \u001b[0;36mget_transform\u001b[1;34m(self)\u001b[0m\n\u001b[0;32m    276\u001b[0m     \u001b[1;32mdef\u001b[0m \u001b[0mget_transform\u001b[0m\u001b[1;33m(\u001b[0m\u001b[0mself\u001b[0m\u001b[1;33m)\u001b[0m\u001b[1;33m:\u001b[0m\u001b[1;33m\u001b[0m\u001b[1;33m\u001b[0m\u001b[0m\n\u001b[0;32m    277\u001b[0m         \u001b[1;34m\"\"\"Return the `~.transforms.Transform` applied to the `Patch`.\"\"\"\u001b[0m\u001b[1;33m\u001b[0m\u001b[1;33m\u001b[0m\u001b[0m\n\u001b[1;32m--> 278\u001b[1;33m         \u001b[1;32mreturn\u001b[0m \u001b[0mself\u001b[0m\u001b[1;33m.\u001b[0m\u001b[0mget_patch_transform\u001b[0m\u001b[1;33m(\u001b[0m\u001b[1;33m)\u001b[0m \u001b[1;33m+\u001b[0m \u001b[0martist\u001b[0m\u001b[1;33m.\u001b[0m\u001b[0mArtist\u001b[0m\u001b[1;33m.\u001b[0m\u001b[0mget_transform\u001b[0m\u001b[1;33m(\u001b[0m\u001b[0mself\u001b[0m\u001b[1;33m)\u001b[0m\u001b[1;33m\u001b[0m\u001b[1;33m\u001b[0m\u001b[0m\n\u001b[0m\u001b[0;32m    279\u001b[0m \u001b[1;33m\u001b[0m\u001b[0m\n\u001b[0;32m    280\u001b[0m     \u001b[1;32mdef\u001b[0m \u001b[0mget_data_transform\u001b[0m\u001b[1;33m(\u001b[0m\u001b[0mself\u001b[0m\u001b[1;33m)\u001b[0m\u001b[1;33m:\u001b[0m\u001b[1;33m\u001b[0m\u001b[1;33m\u001b[0m\u001b[0m\n",
      "\u001b[1;32m~\\anaconda3\\lib\\site-packages\\matplotlib\\patches.py\u001b[0m in \u001b[0;36mget_patch_transform\u001b[1;34m(self)\u001b[0m\n\u001b[0;32m    752\u001b[0m         \u001b[0mbbox\u001b[0m \u001b[1;33m=\u001b[0m \u001b[0mself\u001b[0m\u001b[1;33m.\u001b[0m\u001b[0mget_bbox\u001b[0m\u001b[1;33m(\u001b[0m\u001b[1;33m)\u001b[0m\u001b[1;33m\u001b[0m\u001b[1;33m\u001b[0m\u001b[0m\n\u001b[0;32m    753\u001b[0m         return (transforms.BboxTransformTo(bbox)\n\u001b[1;32m--> 754\u001b[1;33m                 + transforms.Affine2D().rotate_deg_around(\n\u001b[0m\u001b[0;32m    755\u001b[0m                     bbox.x0, bbox.y0, self.angle))\n\u001b[0;32m    756\u001b[0m \u001b[1;33m\u001b[0m\u001b[0m\n",
      "\u001b[1;32m~\\anaconda3\\lib\\site-packages\\matplotlib\\transforms.py\u001b[0m in \u001b[0;36mrotate_deg_around\u001b[1;34m(self, x, y, degrees)\u001b[0m\n\u001b[0;32m   2040\u001b[0m         \u001b[1;31m# Cast to float to avoid wraparound issues with uint8's\u001b[0m\u001b[1;33m\u001b[0m\u001b[1;33m\u001b[0m\u001b[0m\n\u001b[0;32m   2041\u001b[0m         \u001b[0mx\u001b[0m\u001b[1;33m,\u001b[0m \u001b[0my\u001b[0m \u001b[1;33m=\u001b[0m \u001b[0mfloat\u001b[0m\u001b[1;33m(\u001b[0m\u001b[0mx\u001b[0m\u001b[1;33m)\u001b[0m\u001b[1;33m,\u001b[0m \u001b[0mfloat\u001b[0m\u001b[1;33m(\u001b[0m\u001b[0my\u001b[0m\u001b[1;33m)\u001b[0m\u001b[1;33m\u001b[0m\u001b[1;33m\u001b[0m\u001b[0m\n\u001b[1;32m-> 2042\u001b[1;33m         \u001b[1;32mreturn\u001b[0m \u001b[0mself\u001b[0m\u001b[1;33m.\u001b[0m\u001b[0mtranslate\u001b[0m\u001b[1;33m(\u001b[0m\u001b[1;33m-\u001b[0m\u001b[0mx\u001b[0m\u001b[1;33m,\u001b[0m \u001b[1;33m-\u001b[0m\u001b[0my\u001b[0m\u001b[1;33m)\u001b[0m\u001b[1;33m.\u001b[0m\u001b[0mrotate_deg\u001b[0m\u001b[1;33m(\u001b[0m\u001b[0mdegrees\u001b[0m\u001b[1;33m)\u001b[0m\u001b[1;33m.\u001b[0m\u001b[0mtranslate\u001b[0m\u001b[1;33m(\u001b[0m\u001b[0mx\u001b[0m\u001b[1;33m,\u001b[0m \u001b[0my\u001b[0m\u001b[1;33m)\u001b[0m\u001b[1;33m\u001b[0m\u001b[1;33m\u001b[0m\u001b[0m\n\u001b[0m\u001b[0;32m   2043\u001b[0m \u001b[1;33m\u001b[0m\u001b[0m\n\u001b[0;32m   2044\u001b[0m     \u001b[1;32mdef\u001b[0m \u001b[0mtranslate\u001b[0m\u001b[1;33m(\u001b[0m\u001b[0mself\u001b[0m\u001b[1;33m,\u001b[0m \u001b[0mtx\u001b[0m\u001b[1;33m,\u001b[0m \u001b[0mty\u001b[0m\u001b[1;33m)\u001b[0m\u001b[1;33m:\u001b[0m\u001b[1;33m\u001b[0m\u001b[1;33m\u001b[0m\u001b[0m\n",
      "\u001b[1;32m~\\anaconda3\\lib\\site-packages\\matplotlib\\transforms.py\u001b[0m in \u001b[0;36mrotate_deg\u001b[1;34m(self, degrees)\u001b[0m\n\u001b[0;32m   2018\u001b[0m         \u001b[1;32mand\u001b[0m \u001b[1;33m:\u001b[0m\u001b[0mmeth\u001b[0m\u001b[1;33m:\u001b[0m\u001b[0;31m`\u001b[0m\u001b[0mscale\u001b[0m\u001b[0;31m`\u001b[0m\u001b[1;33m.\u001b[0m\u001b[1;33m\u001b[0m\u001b[1;33m\u001b[0m\u001b[0m\n\u001b[0;32m   2019\u001b[0m         \"\"\"\n\u001b[1;32m-> 2020\u001b[1;33m         \u001b[1;32mreturn\u001b[0m \u001b[0mself\u001b[0m\u001b[1;33m.\u001b[0m\u001b[0mrotate\u001b[0m\u001b[1;33m(\u001b[0m\u001b[0mmath\u001b[0m\u001b[1;33m.\u001b[0m\u001b[0mradians\u001b[0m\u001b[1;33m(\u001b[0m\u001b[0mdegrees\u001b[0m\u001b[1;33m)\u001b[0m\u001b[1;33m)\u001b[0m\u001b[1;33m\u001b[0m\u001b[1;33m\u001b[0m\u001b[0m\n\u001b[0m\u001b[0;32m   2021\u001b[0m \u001b[1;33m\u001b[0m\u001b[0m\n\u001b[0;32m   2022\u001b[0m     \u001b[1;32mdef\u001b[0m \u001b[0mrotate_around\u001b[0m\u001b[1;33m(\u001b[0m\u001b[0mself\u001b[0m\u001b[1;33m,\u001b[0m \u001b[0mx\u001b[0m\u001b[1;33m,\u001b[0m \u001b[0my\u001b[0m\u001b[1;33m,\u001b[0m \u001b[0mtheta\u001b[0m\u001b[1;33m)\u001b[0m\u001b[1;33m:\u001b[0m\u001b[1;33m\u001b[0m\u001b[1;33m\u001b[0m\u001b[0m\n",
      "\u001b[1;32m~\\anaconda3\\lib\\site-packages\\matplotlib\\transforms.py\u001b[0m in \u001b[0;36mrotate\u001b[1;34m(self, theta)\u001b[0m\n\u001b[0;32m   2006\u001b[0m         rotate_mtx = np.array([[a, -b, 0.0], [b, a, 0.0], [0.0, 0.0, 1.0]],\n\u001b[0;32m   2007\u001b[0m                               float)\n\u001b[1;32m-> 2008\u001b[1;33m         \u001b[0mself\u001b[0m\u001b[1;33m.\u001b[0m\u001b[0m_mtx\u001b[0m \u001b[1;33m=\u001b[0m \u001b[0mnp\u001b[0m\u001b[1;33m.\u001b[0m\u001b[0mdot\u001b[0m\u001b[1;33m(\u001b[0m\u001b[0mrotate_mtx\u001b[0m\u001b[1;33m,\u001b[0m \u001b[0mself\u001b[0m\u001b[1;33m.\u001b[0m\u001b[0m_mtx\u001b[0m\u001b[1;33m)\u001b[0m\u001b[1;33m\u001b[0m\u001b[1;33m\u001b[0m\u001b[0m\n\u001b[0m\u001b[0;32m   2009\u001b[0m         \u001b[0mself\u001b[0m\u001b[1;33m.\u001b[0m\u001b[0minvalidate\u001b[0m\u001b[1;33m(\u001b[0m\u001b[1;33m)\u001b[0m\u001b[1;33m\u001b[0m\u001b[1;33m\u001b[0m\u001b[0m\n\u001b[0;32m   2010\u001b[0m         \u001b[1;32mreturn\u001b[0m \u001b[0mself\u001b[0m\u001b[1;33m\u001b[0m\u001b[1;33m\u001b[0m\u001b[0m\n",
      "\u001b[1;32m<__array_function__ internals>\u001b[0m in \u001b[0;36mdot\u001b[1;34m(*args, **kwargs)\u001b[0m\n",
      "\u001b[1;31mKeyboardInterrupt\u001b[0m: "
     ]
    }
   ],
   "source": [
    "\n",
    "\n",
    "# yr_reg_df.index = yr_reg_df.index.to_period('Y')\n",
    "a=1\n",
    "b=0\n",
    "for column in yr_reg_df:\n",
    "    train = yr_reg_df.iloc[1:,b:a]\n",
    "    test = yr_reg_df.iloc[1:,b:a]\n",
    "    test.index = pd.date_range(start='1/1/2019', periods=3, freq='12M')\n",
    "    a= a+1\n",
    "    b= b+1\n",
    "#     series = test_df\n",
    "    # split into train and test sets\n",
    "#     X1 = series#.values\n",
    "    history = [x for x in train]\n",
    "    start = len(train)\n",
    "    end = len(train)\n",
    "    model = ARIMA(train, order=(0,0,0))\n",
    "    model_fit = model.fit()\n",
    "    predictions = model_fit.predict(start=start,end=end,type='levels')\n",
    "    predicions = predictions*1.5\n",
    "    predicions.to_csv('./clean_output/predictions.csv', mode='a', index=False, header=False)\n",
    "    print(predictions)\n",
    "    model2 = ARIMA(train, order=(0,0,0))\n",
    "    model_fit2 = model2.fit()\n",
    "    index_future_dates = pd.date_range(start='1/1/2019', periods=4, freq='12M')\n",
    "    predictions = model_fit2.predict(start=len(test_df),end=len(test_df)+2,type = 'levels').rename('arima predictions')\n",
    "#     predictions.index = series.index[start:end]\n",
    "    # walk-forward validation\n",
    "#     for t in range(len(test)):\n",
    "#         model = ARIMA(history, order=(0,0,0))\n",
    "#         model_fit = model.fit()\n",
    "#     output = model_fit.forecast()\n",
    "#     yhat = output[0]\n",
    "#     df = predictions.append(output)\n",
    "#         obs = test[t]\n",
    "#         history.append(obs)\n",
    "#         print('predicted=%f, expected=%f' % (yhat, obs))\n",
    "#     # evaluate forecasts\n",
    "    rmse = sqrt(mean_squared_error(test, predictions))\n",
    "    print('Test RMSE: %.3f' % rmse)\n",
    "    # plot forecasts against actual outcomes\n",
    "    plt.plot(test)\n",
    "    plt.plot(predictions*1.5, color='red')\n",
    "    cty = list(train.columns.values)\n",
    "    plt.title(cty)\n",
    "    plt.show()\n",
    "\n",
    "    \n",
    "\n",
    "    "
   ]
  },
  {
   "cell_type": "code",
   "execution_count": null,
   "id": "b07c08ac",
   "metadata": {},
   "outputs": [],
   "source": [
    "pred = pd.read_csv('./clean_output/predictions.csv', header=None)\n",
    "pred = pred.rename(columns={0: \"2022_Predictions\"})\n",
    "pred.head()"
   ]
  },
  {
   "cell_type": "code",
   "execution_count": null,
   "id": "e2f3c2ae",
   "metadata": {
    "scrolled": false
   },
   "outputs": [],
   "source": [
    "result = pd.concat([joined_df, pred], axis=1)\n",
    "result = result.merge(fips_df,how = 'left', on='county')\n",
    "result.head()"
   ]
  },
  {
   "cell_type": "code",
   "execution_count": null,
   "id": "6f140d61",
   "metadata": {},
   "outputs": [],
   "source": [
    "result.to_csv('./clean_output/final_results.csv', index=False, header=True)"
   ]
  },
  {
   "cell_type": "code",
   "execution_count": null,
   "id": "c42cea23",
   "metadata": {},
   "outputs": [],
   "source": []
  }
 ],
 "metadata": {
  "kernelspec": {
   "display_name": "Python 3 (ipykernel)",
   "language": "python",
   "name": "python3"
  },
  "language_info": {
   "codemirror_mode": {
    "name": "ipython",
    "version": 3
   },
   "file_extension": ".py",
   "mimetype": "text/x-python",
   "name": "python",
   "nbconvert_exporter": "python",
   "pygments_lexer": "ipython3",
   "version": "3.9.7"
  }
 },
 "nbformat": 4,
 "nbformat_minor": 5
}
