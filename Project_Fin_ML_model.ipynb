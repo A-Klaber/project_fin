{
 "cells": [
  {
   "cell_type": "code",
   "execution_count": 1,
   "id": "31f4538a",
   "metadata": {},
   "outputs": [],
   "source": [
    "import pandas as pd\n",
    "from pathlib import Path\n",
    "import matplotlib.pyplot as plt\n",
    "from sklearn.linear_model import LinearRegression"
   ]
  },
  {
   "cell_type": "code",
   "execution_count": null,
   "id": "8d69d719",
   "metadata": {},
   "outputs": [],
   "source": [
    "# Files to Load NEEDS CHANGING\n",
    "ev_charging_locations = \"zip_county.csv\"\n",
    "registration_by_state= \"ev-registration-counts-by-state.csv\"\n",
    "sales =\"pev_sales.csv\"\n",
    "ev_range_efficency = \"EV_range_efficency.csv\""
   ]
  },
  {
   "cell_type": "code",
   "execution_count": null,
   "id": "cc25503a",
   "metadata": {},
   "outputs": [],
   "source": [
    "# Read the data into Pandas DataFrames NEEDS CHANGING\n",
    "\n",
    "ev_charging_locations_df = pd.read_csv(ev_charging_locations)\n",
    "registration_by_state_df = pd.read_csv(registration_by_state)\n",
    "sales_df = pd.read_csv(sales) \n",
    "ev_range_efficency_df = pd.read_csv(EV_range_efficency)"
   ]
  },
  {
   "cell_type": "code",
   "execution_count": null,
   "id": "ed2c7df4",
   "metadata": {},
   "outputs": [],
   "source": [
    "plt.scatter(df.YearsExperience, df.Salary) ##NEEDS CHANGING\n",
    "plt.xlabel('Number of EVs')\n",
    "plt.ylabel('Number of charging stations')\n",
    "plt.show()"
   ]
  },
  {
   "cell_type": "code",
   "execution_count": null,
   "id": "c42cea23",
   "metadata": {},
   "outputs": [],
   "source": [
    "X = df.YearsExperience.values.reshape(-1, 1) ##NEEDS CHANGING"
   ]
  }
 ],
 "metadata": {
  "kernelspec": {
   "display_name": "Python 3 (ipykernel)",
   "language": "python",
   "name": "python3"
  },
  "language_info": {
   "codemirror_mode": {
    "name": "ipython",
    "version": 3
   },
   "file_extension": ".py",
   "mimetype": "text/x-python",
   "name": "python",
   "nbconvert_exporter": "python",
   "pygments_lexer": "ipython3",
   "version": "3.9.7"
  }
 },
 "nbformat": 4,
 "nbformat_minor": 5
}
