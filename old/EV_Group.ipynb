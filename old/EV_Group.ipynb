{
 "cells": [
  {
   "cell_type": "code",
   "execution_count": 25,
   "id": "ae1bbb2e",
   "metadata": {},
   "outputs": [],
   "source": [
    "# Dependencies and Setup\n",
    "import pandas as pd\n",
    "\n",
    "# Files to Load\n",
    "efficiency_to_load = \"EV_range_efficiency.csv\"\n",
    "registration_to_load = \"ev_registration.csv\"\n",
    "sales_to_load =\"pev_sales.csv\""
   ]
  },
  {
   "cell_type": "code",
   "execution_count": 26,
   "id": "367bc62a",
   "metadata": {},
   "outputs": [],
   "source": [
    "# Read the data into a Pandas DataFrame\n",
    "efficiency_df = pd.read_csv(efficiency_to_load)\n",
    "registration_df = pd.read_csv(registration_to_load)\n",
    "sales_df = pd.read_csv(sales_to_load)"
   ]
  },
  {
   "cell_type": "code",
   "execution_count": 27,
   "id": "9bc3d4c9",
   "metadata": {},
   "outputs": [
    {
     "data": {
      "text/plain": [
       "Model Year    123\n",
       "Make          123\n",
       "Model         123\n",
       "Range         123\n",
       "dtype: int64"
      ]
     },
     "execution_count": 27,
     "metadata": {},
     "output_type": "execute_result"
    }
   ],
   "source": [
    "# Determine if there are any missing values. \n",
    "efficiency_df.count()"
   ]
  },
  {
   "cell_type": "code",
   "execution_count": 28,
   "id": "9369eaa2",
   "metadata": {},
   "outputs": [
    {
     "data": {
      "text/plain": [
       "State                   52\n",
       " Registration Count     52\n",
       "dtype: int64"
      ]
     },
     "execution_count": 28,
     "metadata": {},
     "output_type": "execute_result"
    }
   ],
   "source": [
    "# Determine if there are any missing values. \n",
    "registration_df.count()"
   ]
  },
  {
   "cell_type": "code",
   "execution_count": 29,
   "id": "2f352231",
   "metadata": {
    "scrolled": true
   },
   "outputs": [
    {
     "data": {
      "text/plain": [
       "Vehicle    56\n",
       "Type       55\n",
       "2011       56\n",
       "2012       56\n",
       "2013       56\n",
       "2014       56\n",
       "2015       56\n",
       "2016       56\n",
       "2017       56\n",
       "2018       56\n",
       "2019       56\n",
       "Total      56\n",
       "dtype: int64"
      ]
     },
     "execution_count": 29,
     "metadata": {},
     "output_type": "execute_result"
    }
   ],
   "source": [
    "# Determine if there are any missing values. \n",
    "sales_df.count()"
   ]
  },
  {
   "cell_type": "code",
   "execution_count": 30,
   "id": "fd73d49e",
   "metadata": {},
   "outputs": [
    {
     "data": {
      "text/html": [
       "<div>\n",
       "<style scoped>\n",
       "    .dataframe tbody tr th:only-of-type {\n",
       "        vertical-align: middle;\n",
       "    }\n",
       "\n",
       "    .dataframe tbody tr th {\n",
       "        vertical-align: top;\n",
       "    }\n",
       "\n",
       "    .dataframe thead th {\n",
       "        text-align: right;\n",
       "    }\n",
       "</style>\n",
       "<table border=\"1\" class=\"dataframe\">\n",
       "  <thead>\n",
       "    <tr style=\"text-align: right;\">\n",
       "      <th></th>\n",
       "      <th>State</th>\n",
       "      <th>Registration Count</th>\n",
       "    </tr>\n",
       "  </thead>\n",
       "  <tbody>\n",
       "    <tr>\n",
       "      <th>0</th>\n",
       "      <td>Alabama</td>\n",
       "      <td>2,890</td>\n",
       "    </tr>\n",
       "    <tr>\n",
       "      <th>1</th>\n",
       "      <td>Alaska</td>\n",
       "      <td>940</td>\n",
       "    </tr>\n",
       "    <tr>\n",
       "      <th>2</th>\n",
       "      <td>Arizona</td>\n",
       "      <td>28,770</td>\n",
       "    </tr>\n",
       "    <tr>\n",
       "      <th>3</th>\n",
       "      <td>Arkansas</td>\n",
       "      <td>1,330</td>\n",
       "    </tr>\n",
       "    <tr>\n",
       "      <th>4</th>\n",
       "      <td>California</td>\n",
       "      <td>425,300</td>\n",
       "    </tr>\n",
       "  </tbody>\n",
       "</table>\n",
       "</div>"
      ],
      "text/plain": [
       "        State  Registration Count \n",
       "0     Alabama                2,890\n",
       "1      Alaska                  940\n",
       "2     Arizona               28,770\n",
       "3    Arkansas                1,330\n",
       "4  California              425,300"
      ]
     },
     "execution_count": 30,
     "metadata": {},
     "output_type": "execute_result"
    }
   ],
   "source": [
    "# Check Columns\n",
    "registration_df.head()"
   ]
  },
  {
   "cell_type": "code",
   "execution_count": 31,
   "id": "913d691e",
   "metadata": {},
   "outputs": [
    {
     "data": {
      "text/html": [
       "<div>\n",
       "<style scoped>\n",
       "    .dataframe tbody tr th:only-of-type {\n",
       "        vertical-align: middle;\n",
       "    }\n",
       "\n",
       "    .dataframe tbody tr th {\n",
       "        vertical-align: top;\n",
       "    }\n",
       "\n",
       "    .dataframe thead th {\n",
       "        text-align: right;\n",
       "    }\n",
       "</style>\n",
       "<table border=\"1\" class=\"dataframe\">\n",
       "  <thead>\n",
       "    <tr style=\"text-align: right;\">\n",
       "      <th></th>\n",
       "      <th>Vehicle</th>\n",
       "      <th>Type</th>\n",
       "      <th>2011</th>\n",
       "      <th>2012</th>\n",
       "      <th>2013</th>\n",
       "      <th>2014</th>\n",
       "      <th>2015</th>\n",
       "      <th>2016</th>\n",
       "      <th>2017</th>\n",
       "      <th>2018</th>\n",
       "      <th>2019</th>\n",
       "      <th>Total</th>\n",
       "    </tr>\n",
       "  </thead>\n",
       "  <tbody>\n",
       "    <tr>\n",
       "      <th>0</th>\n",
       "      <td>Chevy Volt</td>\n",
       "      <td>PHEV</td>\n",
       "      <td>7,671</td>\n",
       "      <td>23,461</td>\n",
       "      <td>23,094</td>\n",
       "      <td>18,805</td>\n",
       "      <td>15,393</td>\n",
       "      <td>24,739</td>\n",
       "      <td>20,349</td>\n",
       "      <td>18,306</td>\n",
       "      <td>4,915</td>\n",
       "      <td>156,733</td>\n",
       "    </tr>\n",
       "    <tr>\n",
       "      <th>1</th>\n",
       "      <td>Nissan Leaf</td>\n",
       "      <td>EV</td>\n",
       "      <td>9,674</td>\n",
       "      <td>9,819</td>\n",
       "      <td>22,610</td>\n",
       "      <td>30,200</td>\n",
       "      <td>17,269</td>\n",
       "      <td>14,006</td>\n",
       "      <td>11,230</td>\n",
       "      <td>14,715</td>\n",
       "      <td>12,365</td>\n",
       "      <td>141,888</td>\n",
       "    </tr>\n",
       "    <tr>\n",
       "      <th>2</th>\n",
       "      <td>Smart ED</td>\n",
       "      <td>EV</td>\n",
       "      <td>342</td>\n",
       "      <td>139</td>\n",
       "      <td>923</td>\n",
       "      <td>2,594</td>\n",
       "      <td>1,387</td>\n",
       "      <td>657</td>\n",
       "      <td>544</td>\n",
       "      <td>1,219</td>\n",
       "      <td>680</td>\n",
       "      <td>8,485</td>\n",
       "    </tr>\n",
       "    <tr>\n",
       "      <th>3</th>\n",
       "      <td>Mitsubishi I EV</td>\n",
       "      <td>EV</td>\n",
       "      <td>76</td>\n",
       "      <td>588</td>\n",
       "      <td>1,029</td>\n",
       "      <td>196</td>\n",
       "      <td>115</td>\n",
       "      <td>94</td>\n",
       "      <td>6</td>\n",
       "      <td>-</td>\n",
       "      <td>-</td>\n",
       "      <td>2,104</td>\n",
       "    </tr>\n",
       "    <tr>\n",
       "      <th>4</th>\n",
       "      <td>BMW Active E</td>\n",
       "      <td>EV</td>\n",
       "      <td>-</td>\n",
       "      <td>673</td>\n",
       "      <td>-</td>\n",
       "      <td>-</td>\n",
       "      <td>-</td>\n",
       "      <td>-</td>\n",
       "      <td>-</td>\n",
       "      <td>-</td>\n",
       "      <td>-</td>\n",
       "      <td>673</td>\n",
       "    </tr>\n",
       "  </tbody>\n",
       "</table>\n",
       "</div>"
      ],
      "text/plain": [
       "           Vehicle  Type   2011    2012    2013    2014    2015    2016  \\\n",
       "0       Chevy Volt  PHEV  7,671  23,461  23,094  18,805  15,393  24,739   \n",
       "1      Nissan Leaf    EV  9,674   9,819  22,610  30,200  17,269  14,006   \n",
       "2         Smart ED    EV    342     139     923   2,594   1,387     657   \n",
       "3  Mitsubishi I EV    EV     76     588   1,029     196     115      94   \n",
       "4     BMW Active E    EV   -        673    -       -       -       -      \n",
       "\n",
       "     2017    2018    2019    Total  \n",
       "0  20,349  18,306   4,915  156,733  \n",
       "1  11,230  14,715  12,365  141,888  \n",
       "2     544   1,219     680    8,485  \n",
       "3       6    -       -       2,104  \n",
       "4    -       -       -         673  "
      ]
     },
     "execution_count": 31,
     "metadata": {},
     "output_type": "execute_result"
    }
   ],
   "source": [
    "# Check Columns\n",
    "sales_df.head()"
   ]
  },
  {
   "cell_type": "code",
   "execution_count": 32,
   "id": "d73a9660",
   "metadata": {},
   "outputs": [
    {
     "data": {
      "text/html": [
       "<div>\n",
       "<style scoped>\n",
       "    .dataframe tbody tr th:only-of-type {\n",
       "        vertical-align: middle;\n",
       "    }\n",
       "\n",
       "    .dataframe tbody tr th {\n",
       "        vertical-align: top;\n",
       "    }\n",
       "\n",
       "    .dataframe thead th {\n",
       "        text-align: right;\n",
       "    }\n",
       "</style>\n",
       "<table border=\"1\" class=\"dataframe\">\n",
       "  <thead>\n",
       "    <tr style=\"text-align: right;\">\n",
       "      <th></th>\n",
       "      <th>Model Year</th>\n",
       "      <th>Make</th>\n",
       "      <th>Model</th>\n",
       "      <th>Range</th>\n",
       "    </tr>\n",
       "  </thead>\n",
       "  <tbody>\n",
       "    <tr>\n",
       "      <th>0</th>\n",
       "      <td>2002</td>\n",
       "      <td>Ford</td>\n",
       "      <td>Th!nk</td>\n",
       "      <td>50</td>\n",
       "    </tr>\n",
       "    <tr>\n",
       "      <th>1</th>\n",
       "      <td>2008</td>\n",
       "      <td>Tesla</td>\n",
       "      <td>Roadster</td>\n",
       "      <td>220</td>\n",
       "    </tr>\n",
       "    <tr>\n",
       "      <th>2</th>\n",
       "      <td>2010</td>\n",
       "      <td>Tesla</td>\n",
       "      <td>Roadster</td>\n",
       "      <td>200</td>\n",
       "    </tr>\n",
       "    <tr>\n",
       "      <th>3</th>\n",
       "      <td>2011</td>\n",
       "      <td>BMW</td>\n",
       "      <td>Active E</td>\n",
       "      <td>94</td>\n",
       "    </tr>\n",
       "    <tr>\n",
       "      <th>4</th>\n",
       "      <td>2011</td>\n",
       "      <td>Azure Dynamics/Ford</td>\n",
       "      <td>Transit Connect</td>\n",
       "      <td>52</td>\n",
       "    </tr>\n",
       "  </tbody>\n",
       "</table>\n",
       "</div>"
      ],
      "text/plain": [
       "   Model Year                 Make            Model  Range\n",
       "0        2002                 Ford            Th!nk     50\n",
       "1        2008                Tesla         Roadster    220\n",
       "2        2010                Tesla         Roadster    200\n",
       "3        2011                  BMW         Active E     94\n",
       "4        2011  Azure Dynamics/Ford  Transit Connect     52"
      ]
     },
     "execution_count": 32,
     "metadata": {},
     "output_type": "execute_result"
    }
   ],
   "source": [
    "# Check Columns\n",
    "efficiency_df.head()"
   ]
  },
  {
   "cell_type": "code",
   "execution_count": null,
   "id": "452f363d",
   "metadata": {},
   "outputs": [],
   "source": []
  },
  {
   "cell_type": "code",
   "execution_count": null,
   "id": "679ecd67",
   "metadata": {},
   "outputs": [],
   "source": []
  }
 ],
 "metadata": {
  "kernelspec": {
   "display_name": "mlenv",
   "language": "python",
   "name": "mlenv"
  },
  "language_info": {
   "codemirror_mode": {
    "name": "ipython",
    "version": 3
   },
   "file_extension": ".py",
   "mimetype": "text/x-python",
   "name": "python",
   "nbconvert_exporter": "python",
   "pygments_lexer": "ipython3",
   "version": "3.7.11"
  }
 },
 "nbformat": 4,
 "nbformat_minor": 5
}
