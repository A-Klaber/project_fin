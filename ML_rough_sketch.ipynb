{
 "cells": [
  {
   "cell_type": "code",
   "execution_count": null,
   "id": "e0c8cb17",
   "metadata": {},
   "outputs": [],
   "source": [
    "import pandas as pd\n",
    "from pathlib import Path\n",
    "import matplotlib.pyplot as plt\n",
    "from sklearn.linear_model import LinearRegression\n",
    "\n",
    "# Files to Load\n",
    "ev_charging_locations = \"EV_Charging_Locations.csv\"\n",
    "registration_by_state= \"ev-registration-counts-by-state.csv\"\n",
    "sales =\"pev_sales.csv\"\n",
    "ev_range_efficency = \"EV_range_efficency.csv\""
   ]
  },
  {
   "cell_type": "code",
   "execution_count": null,
   "id": "3d1cb768",
   "metadata": {},
   "outputs": [],
   "source": [
    "# Read the data into Pandas DataFrames\n",
    "\n",
    "ev_charging_locations_df = pd.read_csv(ev_charging_locations)\n",
    "registration_by_state_df = pd.read_csv(registration_by_state)\n",
    "sales_df = pd.read_csv(sales) \n",
    "ev_range_efficency_df = pd.read_csv(EV_range_efficency)"
   ]
  },
  {
   "cell_type": "code",
   "execution_count": 3,
   "id": "187c486d",
   "metadata": {},
   "outputs": [],
   "source": [
    "#For each df: Run linear regression as shown in 17.2"
   ]
  },
  {
   "cell_type": "code",
   "execution_count": null,
   "id": "05741175",
   "metadata": {},
   "outputs": [],
   "source": []
  }
 ],
 "metadata": {
  "kernelspec": {
   "display_name": "mlenv",
   "language": "python",
   "name": "mlenv"
  },
  "language_info": {
   "codemirror_mode": {
    "name": "ipython",
    "version": 3
   },
   "file_extension": ".py",
   "mimetype": "text/x-python",
   "name": "python",
   "nbconvert_exporter": "python",
   "pygments_lexer": "ipython3",
   "version": "3.7.13"
  }
 },
 "nbformat": 4,
 "nbformat_minor": 5
}
