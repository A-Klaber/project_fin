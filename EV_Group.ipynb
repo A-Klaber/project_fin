{
 "cells": [
  {
   "cell_type": "code",
   "execution_count": 17,
   "id": "36409f07",
   "metadata": {},
   "outputs": [],
   "source": [
    "# Dependencies and Setup\n",
    "import pandas as pd\n",
    "\n",
    "# Files to Load\n",
    "efficiency_to_load = \"EV_range_efficiency.csv\"\n",
    "registration_to_load = \"ev_registration.csv\"\n",
    "sales_to_load =\"pev_sales.csv\""
   ]
  },
  {
   "cell_type": "code",
   "execution_count": 18,
   "id": "6d68b504",
   "metadata": {},
   "outputs": [],
   "source": [
    "# Read the data into a Pandas DataFrame\n",
    "efficiency_df = pd.read_csv(efficiency_to_load)\n",
    "registration_df = pd.read_csv(registration_to_load)\n",
    "sales_df = pd.read_csv(sales_to_load)"
   ]
  },
  {
   "cell_type": "code",
   "execution_count": 19,
   "id": "b3fc98a0",
   "metadata": {},
   "outputs": [
    {
     "data": {
      "text/plain": [
       "U.S. Electric Vehicles and Corresponding Range    124\n",
       "Unnamed: 1                                        124\n",
       "Unnamed: 2                                        124\n",
       "Unnamed: 3                                        124\n",
       "dtype: int64"
      ]
     },
     "execution_count": 19,
     "metadata": {},
     "output_type": "execute_result"
    }
   ],
   "source": [
    "# Determine if there are any missing values. \n",
    "efficiency_df.count()"
   ]
  },
  {
   "cell_type": "code",
   "execution_count": 20,
   "id": "58b7f8ba",
   "metadata": {},
   "outputs": [
    {
     "data": {
      "text/plain": [
       "Electric Vehicle Registrations by State    53\n",
       "Unnamed: 1                                 53\n",
       "dtype: int64"
      ]
     },
     "execution_count": 20,
     "metadata": {},
     "output_type": "execute_result"
    }
   ],
   "source": [
    "# Determine if there are any missing values. \n",
    "registration_df.count()"
   ]
  },
  {
   "cell_type": "code",
   "execution_count": 21,
   "id": "c5b95c65",
   "metadata": {
    "scrolled": true
   },
   "outputs": [
    {
     "data": {
      "text/plain": [
       "U.S. PEV Sales by Model (In Order of Market Introduction)    57\n",
       "Unnamed: 1                                                   56\n",
       "Unnamed: 2                                                   57\n",
       "Unnamed: 3                                                   57\n",
       "Unnamed: 4                                                   57\n",
       "Unnamed: 5                                                   57\n",
       "Unnamed: 6                                                   57\n",
       "Unnamed: 7                                                   57\n",
       "Unnamed: 8                                                   57\n",
       "Unnamed: 9                                                   57\n",
       "Unnamed: 10                                                  57\n",
       "Unnamed: 11                                                  57\n",
       "dtype: int64"
      ]
     },
     "execution_count": 21,
     "metadata": {},
     "output_type": "execute_result"
    }
   ],
   "source": [
    "# Determine if there are any missing values. \n",
    "sales_df.count()"
   ]
  },
  {
   "cell_type": "code",
   "execution_count": 22,
   "id": "809378a2",
   "metadata": {},
   "outputs": [
    {
     "data": {
      "text/html": [
       "<div>\n",
       "<style scoped>\n",
       "    .dataframe tbody tr th:only-of-type {\n",
       "        vertical-align: middle;\n",
       "    }\n",
       "\n",
       "    .dataframe tbody tr th {\n",
       "        vertical-align: top;\n",
       "    }\n",
       "\n",
       "    .dataframe thead th {\n",
       "        text-align: right;\n",
       "    }\n",
       "</style>\n",
       "<table border=\"1\" class=\"dataframe\">\n",
       "  <thead>\n",
       "    <tr style=\"text-align: right;\">\n",
       "      <th></th>\n",
       "      <th>Electric Vehicle Registrations by State</th>\n",
       "      <th>Unnamed: 1</th>\n",
       "    </tr>\n",
       "  </thead>\n",
       "  <tbody>\n",
       "    <tr>\n",
       "      <th>0</th>\n",
       "      <td>State</td>\n",
       "      <td>Registration Count</td>\n",
       "    </tr>\n",
       "    <tr>\n",
       "      <th>1</th>\n",
       "      <td>Alabama</td>\n",
       "      <td>2,890</td>\n",
       "    </tr>\n",
       "    <tr>\n",
       "      <th>2</th>\n",
       "      <td>Alaska</td>\n",
       "      <td>940</td>\n",
       "    </tr>\n",
       "    <tr>\n",
       "      <th>3</th>\n",
       "      <td>Arizona</td>\n",
       "      <td>28,770</td>\n",
       "    </tr>\n",
       "    <tr>\n",
       "      <th>4</th>\n",
       "      <td>Arkansas</td>\n",
       "      <td>1,330</td>\n",
       "    </tr>\n",
       "  </tbody>\n",
       "</table>\n",
       "</div>"
      ],
      "text/plain": [
       "  Electric Vehicle Registrations by State            Unnamed: 1\n",
       "0                                   State   Registration Count \n",
       "1                                 Alabama                 2,890\n",
       "2                                  Alaska                   940\n",
       "3                                 Arizona                28,770\n",
       "4                                Arkansas                 1,330"
      ]
     },
     "execution_count": 22,
     "metadata": {},
     "output_type": "execute_result"
    }
   ],
   "source": [
    "# Check Columns\n",
    "registration_df.head()"
   ]
  },
  {
   "cell_type": "code",
   "execution_count": 23,
   "id": "65c6fab9",
   "metadata": {},
   "outputs": [
    {
     "data": {
      "text/html": [
       "<div>\n",
       "<style scoped>\n",
       "    .dataframe tbody tr th:only-of-type {\n",
       "        vertical-align: middle;\n",
       "    }\n",
       "\n",
       "    .dataframe tbody tr th {\n",
       "        vertical-align: top;\n",
       "    }\n",
       "\n",
       "    .dataframe thead th {\n",
       "        text-align: right;\n",
       "    }\n",
       "</style>\n",
       "<table border=\"1\" class=\"dataframe\">\n",
       "  <thead>\n",
       "    <tr style=\"text-align: right;\">\n",
       "      <th></th>\n",
       "      <th>U.S. PEV Sales by Model (In Order of Market Introduction)</th>\n",
       "      <th>Unnamed: 1</th>\n",
       "      <th>Unnamed: 2</th>\n",
       "      <th>Unnamed: 3</th>\n",
       "      <th>Unnamed: 4</th>\n",
       "      <th>Unnamed: 5</th>\n",
       "      <th>Unnamed: 6</th>\n",
       "      <th>Unnamed: 7</th>\n",
       "      <th>Unnamed: 8</th>\n",
       "      <th>Unnamed: 9</th>\n",
       "      <th>Unnamed: 10</th>\n",
       "      <th>Unnamed: 11</th>\n",
       "    </tr>\n",
       "  </thead>\n",
       "  <tbody>\n",
       "    <tr>\n",
       "      <th>0</th>\n",
       "      <td>Vehicle</td>\n",
       "      <td>Type</td>\n",
       "      <td>2011</td>\n",
       "      <td>2012</td>\n",
       "      <td>2013</td>\n",
       "      <td>2014</td>\n",
       "      <td>2015</td>\n",
       "      <td>2016</td>\n",
       "      <td>2017</td>\n",
       "      <td>2018</td>\n",
       "      <td>2019</td>\n",
       "      <td>Total</td>\n",
       "    </tr>\n",
       "    <tr>\n",
       "      <th>1</th>\n",
       "      <td>Chevy Volt</td>\n",
       "      <td>PHEV</td>\n",
       "      <td>7,671</td>\n",
       "      <td>23,461</td>\n",
       "      <td>23,094</td>\n",
       "      <td>18,805</td>\n",
       "      <td>15,393</td>\n",
       "      <td>24,739</td>\n",
       "      <td>20,349</td>\n",
       "      <td>18,306</td>\n",
       "      <td>4,915</td>\n",
       "      <td>156,733</td>\n",
       "    </tr>\n",
       "    <tr>\n",
       "      <th>2</th>\n",
       "      <td>Nissan Leaf</td>\n",
       "      <td>EV</td>\n",
       "      <td>9,674</td>\n",
       "      <td>9,819</td>\n",
       "      <td>22,610</td>\n",
       "      <td>30,200</td>\n",
       "      <td>17,269</td>\n",
       "      <td>14,006</td>\n",
       "      <td>11,230</td>\n",
       "      <td>14,715</td>\n",
       "      <td>12,365</td>\n",
       "      <td>141,888</td>\n",
       "    </tr>\n",
       "    <tr>\n",
       "      <th>3</th>\n",
       "      <td>Smart ED</td>\n",
       "      <td>EV</td>\n",
       "      <td>342</td>\n",
       "      <td>139</td>\n",
       "      <td>923</td>\n",
       "      <td>2,594</td>\n",
       "      <td>1,387</td>\n",
       "      <td>657</td>\n",
       "      <td>544</td>\n",
       "      <td>1,219</td>\n",
       "      <td>680</td>\n",
       "      <td>8,485</td>\n",
       "    </tr>\n",
       "    <tr>\n",
       "      <th>4</th>\n",
       "      <td>Mitsubishi I EV</td>\n",
       "      <td>EV</td>\n",
       "      <td>76</td>\n",
       "      <td>588</td>\n",
       "      <td>1,029</td>\n",
       "      <td>196</td>\n",
       "      <td>115</td>\n",
       "      <td>94</td>\n",
       "      <td>6</td>\n",
       "      <td>-</td>\n",
       "      <td>-</td>\n",
       "      <td>2,104</td>\n",
       "    </tr>\n",
       "  </tbody>\n",
       "</table>\n",
       "</div>"
      ],
      "text/plain": [
       "  U.S. PEV Sales by Model (In Order of Market Introduction) Unnamed: 1  \\\n",
       "0                                            Vehicle              Type   \n",
       "1                                         Chevy Volt              PHEV   \n",
       "2                                        Nissan Leaf                EV   \n",
       "3                                           Smart ED                EV   \n",
       "4                                    Mitsubishi I EV                EV   \n",
       "\n",
       "  Unnamed: 2 Unnamed: 3 Unnamed: 4 Unnamed: 5 Unnamed: 6 Unnamed: 7  \\\n",
       "0       2011       2012       2013       2014       2015       2016   \n",
       "1      7,671     23,461     23,094     18,805     15,393     24,739   \n",
       "2      9,674      9,819     22,610     30,200     17,269     14,006   \n",
       "3        342        139        923      2,594      1,387        657   \n",
       "4         76        588      1,029        196        115         94   \n",
       "\n",
       "  Unnamed: 8 Unnamed: 9 Unnamed: 10 Unnamed: 11  \n",
       "0       2017       2018        2019       Total  \n",
       "1     20,349     18,306       4,915     156,733  \n",
       "2     11,230     14,715      12,365     141,888  \n",
       "3        544      1,219         680       8,485  \n",
       "4          6       -           -          2,104  "
      ]
     },
     "execution_count": 23,
     "metadata": {},
     "output_type": "execute_result"
    }
   ],
   "source": [
    "# Check Columns\n",
    "sales_df.head()"
   ]
  },
  {
   "cell_type": "code",
   "execution_count": 24,
   "id": "e47f4d3e",
   "metadata": {},
   "outputs": [
    {
     "data": {
      "text/html": [
       "<div>\n",
       "<style scoped>\n",
       "    .dataframe tbody tr th:only-of-type {\n",
       "        vertical-align: middle;\n",
       "    }\n",
       "\n",
       "    .dataframe tbody tr th {\n",
       "        vertical-align: top;\n",
       "    }\n",
       "\n",
       "    .dataframe thead th {\n",
       "        text-align: right;\n",
       "    }\n",
       "</style>\n",
       "<table border=\"1\" class=\"dataframe\">\n",
       "  <thead>\n",
       "    <tr style=\"text-align: right;\">\n",
       "      <th></th>\n",
       "      <th>U.S. Electric Vehicles and Corresponding Range</th>\n",
       "      <th>Unnamed: 1</th>\n",
       "      <th>Unnamed: 2</th>\n",
       "      <th>Unnamed: 3</th>\n",
       "    </tr>\n",
       "  </thead>\n",
       "  <tbody>\n",
       "    <tr>\n",
       "      <th>0</th>\n",
       "      <td>Model Year</td>\n",
       "      <td>Make</td>\n",
       "      <td>Model</td>\n",
       "      <td>Range</td>\n",
       "    </tr>\n",
       "    <tr>\n",
       "      <th>1</th>\n",
       "      <td>2002</td>\n",
       "      <td>Ford</td>\n",
       "      <td>Th!nk</td>\n",
       "      <td>50</td>\n",
       "    </tr>\n",
       "    <tr>\n",
       "      <th>2</th>\n",
       "      <td>2008</td>\n",
       "      <td>Tesla</td>\n",
       "      <td>Roadster</td>\n",
       "      <td>220</td>\n",
       "    </tr>\n",
       "    <tr>\n",
       "      <th>3</th>\n",
       "      <td>2010</td>\n",
       "      <td>Tesla</td>\n",
       "      <td>Roadster</td>\n",
       "      <td>200</td>\n",
       "    </tr>\n",
       "    <tr>\n",
       "      <th>4</th>\n",
       "      <td>2011</td>\n",
       "      <td>BMW</td>\n",
       "      <td>Active E</td>\n",
       "      <td>94</td>\n",
       "    </tr>\n",
       "  </tbody>\n",
       "</table>\n",
       "</div>"
      ],
      "text/plain": [
       "  U.S. Electric Vehicles and Corresponding Range Unnamed: 1 Unnamed: 2  \\\n",
       "0                                     Model Year       Make      Model   \n",
       "1                                           2002       Ford      Th!nk   \n",
       "2                                           2008      Tesla   Roadster   \n",
       "3                                           2010      Tesla   Roadster   \n",
       "4                                           2011        BMW   Active E   \n",
       "\n",
       "  Unnamed: 3  \n",
       "0      Range  \n",
       "1         50  \n",
       "2        220  \n",
       "3        200  \n",
       "4         94  "
      ]
     },
     "execution_count": 24,
     "metadata": {},
     "output_type": "execute_result"
    }
   ],
   "source": [
    "# Check Columns\n",
    "efficiency_df.head()"
   ]
  },
  {
   "cell_type": "code",
   "execution_count": null,
   "id": "241240ef",
   "metadata": {},
   "outputs": [],
   "source": []
  }
 ],
 "metadata": {
  "kernelspec": {
   "display_name": "mlenv",
   "language": "python",
   "name": "mlenv"
  },
  "language_info": {
   "codemirror_mode": {
    "name": "ipython",
    "version": 3
   },
   "file_extension": ".py",
   "mimetype": "text/x-python",
   "name": "python",
   "nbconvert_exporter": "python",
   "pygments_lexer": "ipython3",
   "version": "3.7.11"
  }
 },
 "nbformat": 4,
 "nbformat_minor": 5
}
