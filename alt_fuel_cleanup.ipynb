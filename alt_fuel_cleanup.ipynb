{
 "cells": [
  {
   "cell_type": "code",
   "execution_count": 1,
   "id": "ae1bbb2e",
   "metadata": {},
   "outputs": [],
   "source": [
    "# Dependencies and Setup\n",
    "import pandas as pd\n",
    "\n",
    "# Files to Load\n",
    "# efficiency_to_load = \"EV_range_efficiency.csv\"\n",
    "# registration_to_load = \"ev_registration.csv\"\n",
    "# sales_to_load =\"pev_sales.csv\"\n",
    "alt_fuel_to_load =\"./resources/alt_fuel_stations.csv\"\n",
    "fl_reg_to_load =\"./resources/fl_ev_reg.csv\"\n",
    "fl_zip_to_load =\"./resources/zip_county.csv\""
   ]
  },
  {
   "cell_type": "code",
   "execution_count": 2,
   "id": "367bc62a",
   "metadata": {},
   "outputs": [],
   "source": [
    "# Read the data into a Pandas DataFrame\n",
    "# efficiency_df = pd.read_csv(efficiency_to_load)\n",
    "# registration_df = pd.read_csv(registration_to_load)\n",
    "# sales_df = pd.read_csv(sales_to_load)\n",
    "alt_fuel_df = pd.read_csv(alt_fuel_to_load,low_memory=False)\n",
    "fl_reg_df = pd.read_csv(fl_reg_to_load)\n",
    "fl_zip_df = pd.read_csv(fl_zip_to_load)"
   ]
  },
  {
   "cell_type": "code",
   "execution_count": 3,
   "id": "9369eaa2",
   "metadata": {},
   "outputs": [],
   "source": [
    "# Determine if there are any missing values. \n",
    "# registration_df.count()"
   ]
  },
  {
   "cell_type": "code",
   "execution_count": 4,
   "id": "9bc3d4c9",
   "metadata": {},
   "outputs": [],
   "source": [
    "# Determine if there are any missing values. \n",
    "# efficiency_df.count()"
   ]
  },
  {
   "cell_type": "code",
   "execution_count": 5,
   "id": "2f352231",
   "metadata": {
    "scrolled": true
   },
   "outputs": [],
   "source": [
    "# Determine if there are any missing values. \n",
    "# sales_df.count()"
   ]
  },
  {
   "cell_type": "code",
   "execution_count": 6,
   "id": "fd73d49e",
   "metadata": {},
   "outputs": [],
   "source": [
    "# Check Columns\n",
    "# registration_df"
   ]
  },
  {
   "cell_type": "code",
   "execution_count": 7,
   "id": "913d691e",
   "metadata": {},
   "outputs": [],
   "source": [
    "# Check Columns\n",
    "# sales_df.head()"
   ]
  },
  {
   "cell_type": "code",
   "execution_count": 8,
   "id": "d73a9660",
   "metadata": {
    "scrolled": true
   },
   "outputs": [
    {
     "name": "stdout",
     "output_type": "stream",
     "text": [
      "<class 'pandas.core.frame.DataFrame'>\n",
      "RangeIndex: 56800 entries, 0 to 56799\n",
      "Data columns (total 65 columns):\n",
      " #   Column                            Non-Null Count  Dtype  \n",
      "---  ------                            --------------  -----  \n",
      " 0   Fuel Type Code                    56800 non-null  object \n",
      " 1   Station Name                      56800 non-null  object \n",
      " 2   Street Address                    56798 non-null  object \n",
      " 3   Intersection Directions           4827 non-null   object \n",
      " 4   City                              56800 non-null  object \n",
      " 5   State                             56800 non-null  object \n",
      " 6   ZIP                               56800 non-null  object \n",
      " 7   Plus4                             0 non-null      float64\n",
      " 8   Station Phone                     52437 non-null  object \n",
      " 9   Status Code                       56800 non-null  object \n",
      " 10  Expected Date                     376 non-null    object \n",
      " 11  Groups With Access Code           56800 non-null  object \n",
      " 12  Access Days Time                  53245 non-null  object \n",
      " 13  Cards Accepted                    9012 non-null   object \n",
      " 14  BD Blends                         726 non-null    object \n",
      " 15  NG Fill Type Code                 1542 non-null   object \n",
      " 16  NG PSI                            1541 non-null   object \n",
      " 17  EV Level1 EVSE Num                1030 non-null   float64\n",
      " 18  EV Level2 EVSE Num                42282 non-null  float64\n",
      " 19  EV DC Fast Count                  5410 non-null   float64\n",
      " 20  EV Other Info                     36 non-null     object \n",
      " 21  EV Network                        47080 non-null  object \n",
      " 22  EV Network Web                    38938 non-null  object \n",
      " 23  Geocode Status                    56799 non-null  object \n",
      " 24  Latitude                          56800 non-null  float64\n",
      " 25  Longitude                         56800 non-null  float64\n",
      " 26  Date Last Confirmed               56735 non-null  object \n",
      " 27  ID                                56800 non-null  int64  \n",
      " 28  Updated At                        56800 non-null  object \n",
      " 29  Owner Type Code                   25502 non-null  object \n",
      " 30  Federal Agency ID                 1193 non-null   float64\n",
      " 31  Federal Agency Name               1193 non-null   object \n",
      " 32  Open Date                         55238 non-null  object \n",
      " 33  Hydrogen Status Link              84 non-null     object \n",
      " 34  NG Vehicle Class                  1717 non-null   object \n",
      " 35  LPG Primary                       2671 non-null   object \n",
      " 36  E85 Blender Pump                  4233 non-null   object \n",
      " 37  EV Connector Types                47066 non-null  object \n",
      " 38  Country                           56800 non-null  object \n",
      " 39  Intersection Directions (French)  0 non-null      float64\n",
      " 40  Access Days Time (French)         0 non-null      float64\n",
      " 41  BD Blends (French)                0 non-null      float64\n",
      " 42  Groups With Access Code (French)  56800 non-null  object \n",
      " 43  Hydrogen Is Retail                135 non-null    object \n",
      " 44  Access Code                       56800 non-null  object \n",
      " 45  Access Detail Code                5853 non-null   object \n",
      " 46  Federal Agency Code               1193 non-null   object \n",
      " 47  Facility Type                     23782 non-null  object \n",
      " 48  CNG Dispenser Num                 992 non-null    float64\n",
      " 49  CNG On-Site Renewable Source      289 non-null    object \n",
      " 50  CNG Total Compression Capacity    698 non-null    float64\n",
      " 51  CNG Storage Capacity              340 non-null    float64\n",
      " 52  LNG On-Site Renewable Source      28 non-null     object \n",
      " 53  E85 Other Ethanol Blends          961 non-null    object \n",
      " 54  EV Pricing                        14322 non-null  object \n",
      " 55  EV Pricing (French)               0 non-null      float64\n",
      " 56  LPG Nozzle Types                  2403 non-null   object \n",
      " 57  Hydrogen Pressures                137 non-null    object \n",
      " 58  Hydrogen Standards                130 non-null    object \n",
      " 59  CNG Fill Type Code                1542 non-null   object \n",
      " 60  CNG PSI                           1541 non-null   object \n",
      " 61  CNG Vehicle Class                 1567 non-null   object \n",
      " 62  LNG Vehicle Class                 150 non-null    object \n",
      " 63  EV On-Site Renewable Source       347 non-null    object \n",
      " 64  Restricted Access                 0 non-null      float64\n",
      "dtypes: float64(15), int64(1), object(49)\n",
      "memory usage: 28.2+ MB\n"
     ]
    }
   ],
   "source": [
    "# Check Columns\n",
    "# efficiency_df.head()\n",
    "alt_fuel_df.info()"
   ]
  },
  {
   "cell_type": "code",
   "execution_count": 9,
   "id": "452f363d",
   "metadata": {},
   "outputs": [
    {
     "data": {
      "text/html": [
       "<div>\n",
       "<style scoped>\n",
       "    .dataframe tbody tr th:only-of-type {\n",
       "        vertical-align: middle;\n",
       "    }\n",
       "\n",
       "    .dataframe tbody tr th {\n",
       "        vertical-align: top;\n",
       "    }\n",
       "\n",
       "    .dataframe thead th {\n",
       "        text-align: right;\n",
       "    }\n",
       "</style>\n",
       "<table border=\"1\" class=\"dataframe\">\n",
       "  <thead>\n",
       "    <tr style=\"text-align: right;\">\n",
       "      <th></th>\n",
       "      <th>Station Name</th>\n",
       "      <th>City</th>\n",
       "      <th>State</th>\n",
       "      <th>ZIP</th>\n",
       "      <th>Groups With Access Code</th>\n",
       "      <th>Latitude</th>\n",
       "      <th>Longitude</th>\n",
       "      <th>Open Date</th>\n",
       "    </tr>\n",
       "  </thead>\n",
       "  <tbody>\n",
       "    <tr>\n",
       "      <th>0</th>\n",
       "      <td>Spire - Montgomery Operations Center</td>\n",
       "      <td>Montgomery</td>\n",
       "      <td>AL</td>\n",
       "      <td>36107</td>\n",
       "      <td>Private</td>\n",
       "      <td>32.367916</td>\n",
       "      <td>-86.267021</td>\n",
       "      <td>2010-12-01</td>\n",
       "    </tr>\n",
       "    <tr>\n",
       "      <th>1</th>\n",
       "      <td>PS Energy - Atlanta</td>\n",
       "      <td>Atlanta</td>\n",
       "      <td>GA</td>\n",
       "      <td>30303</td>\n",
       "      <td>Public - Card key at all times</td>\n",
       "      <td>33.745843</td>\n",
       "      <td>-84.398837</td>\n",
       "      <td>1994-07-15</td>\n",
       "    </tr>\n",
       "    <tr>\n",
       "      <th>2</th>\n",
       "      <td>Metropolitan Atlanta Rapid Transit Authority</td>\n",
       "      <td>Atlanta</td>\n",
       "      <td>GA</td>\n",
       "      <td>30324</td>\n",
       "      <td>Private - Government only</td>\n",
       "      <td>33.821911</td>\n",
       "      <td>-84.367461</td>\n",
       "      <td>1996-12-15</td>\n",
       "    </tr>\n",
       "    <tr>\n",
       "      <th>3</th>\n",
       "      <td>United Parcel Service</td>\n",
       "      <td>Atlanta</td>\n",
       "      <td>GA</td>\n",
       "      <td>30336</td>\n",
       "      <td>Private</td>\n",
       "      <td>33.760256</td>\n",
       "      <td>-84.543822</td>\n",
       "      <td>1997-01-01</td>\n",
       "    </tr>\n",
       "    <tr>\n",
       "      <th>4</th>\n",
       "      <td>Clean Energy - Texas Department of Transportation</td>\n",
       "      <td>Houston</td>\n",
       "      <td>TX</td>\n",
       "      <td>77007</td>\n",
       "      <td>Public - Credit card at all times</td>\n",
       "      <td>29.779918</td>\n",
       "      <td>-95.435385</td>\n",
       "      <td>1996-12-15</td>\n",
       "    </tr>\n",
       "    <tr>\n",
       "      <th>...</th>\n",
       "      <td>...</td>\n",
       "      <td>...</td>\n",
       "      <td>...</td>\n",
       "      <td>...</td>\n",
       "      <td>...</td>\n",
       "      <td>...</td>\n",
       "      <td>...</td>\n",
       "      <td>...</td>\n",
       "    </tr>\n",
       "    <tr>\n",
       "      <th>56795</th>\n",
       "      <td>Sheetz Store #713</td>\n",
       "      <td>Hagerstown</td>\n",
       "      <td>MD</td>\n",
       "      <td>21740</td>\n",
       "      <td>Public</td>\n",
       "      <td>39.602267</td>\n",
       "      <td>-77.729039</td>\n",
       "      <td>2021-07-28</td>\n",
       "    </tr>\n",
       "    <tr>\n",
       "      <th>56796</th>\n",
       "      <td>Kwik Trip #1062</td>\n",
       "      <td>West Bend</td>\n",
       "      <td>WI</td>\n",
       "      <td>53095</td>\n",
       "      <td>Public</td>\n",
       "      <td>43.426952</td>\n",
       "      <td>-88.158696</td>\n",
       "      <td>2021-07-29</td>\n",
       "    </tr>\n",
       "    <tr>\n",
       "      <th>56797</th>\n",
       "      <td>76</td>\n",
       "      <td>Pasadena</td>\n",
       "      <td>CA</td>\n",
       "      <td>91101</td>\n",
       "      <td>Public</td>\n",
       "      <td>34.157522</td>\n",
       "      <td>-118.132898</td>\n",
       "      <td>2021-07-29</td>\n",
       "    </tr>\n",
       "    <tr>\n",
       "      <th>56798</th>\n",
       "      <td>Lafferty Race Fuels</td>\n",
       "      <td>Amarillo</td>\n",
       "      <td>TX</td>\n",
       "      <td>79118</td>\n",
       "      <td>Public</td>\n",
       "      <td>35.119412</td>\n",
       "      <td>-101.813428</td>\n",
       "      <td>2021-07-29</td>\n",
       "    </tr>\n",
       "    <tr>\n",
       "      <th>56799</th>\n",
       "      <td>Kwik Star #1107</td>\n",
       "      <td>Cedar Rapids</td>\n",
       "      <td>IA</td>\n",
       "      <td>52404</td>\n",
       "      <td>Public</td>\n",
       "      <td>41.963154</td>\n",
       "      <td>-91.698998</td>\n",
       "      <td>2021-07-29</td>\n",
       "    </tr>\n",
       "  </tbody>\n",
       "</table>\n",
       "<p>56800 rows × 8 columns</p>\n",
       "</div>"
      ],
      "text/plain": [
       "                                            Station Name          City State  \\\n",
       "0                   Spire - Montgomery Operations Center    Montgomery    AL   \n",
       "1                                    PS Energy - Atlanta       Atlanta    GA   \n",
       "2           Metropolitan Atlanta Rapid Transit Authority       Atlanta    GA   \n",
       "3                                  United Parcel Service       Atlanta    GA   \n",
       "4      Clean Energy - Texas Department of Transportation       Houston    TX   \n",
       "...                                                  ...           ...   ...   \n",
       "56795                                  Sheetz Store #713    Hagerstown    MD   \n",
       "56796                                    Kwik Trip #1062     West Bend    WI   \n",
       "56797                                                 76      Pasadena    CA   \n",
       "56798                                Lafferty Race Fuels      Amarillo    TX   \n",
       "56799                                    Kwik Star #1107  Cedar Rapids    IA   \n",
       "\n",
       "         ZIP            Groups With Access Code   Latitude   Longitude  \\\n",
       "0      36107                            Private  32.367916  -86.267021   \n",
       "1      30303     Public - Card key at all times  33.745843  -84.398837   \n",
       "2      30324          Private - Government only  33.821911  -84.367461   \n",
       "3      30336                            Private  33.760256  -84.543822   \n",
       "4      77007  Public - Credit card at all times  29.779918  -95.435385   \n",
       "...      ...                                ...        ...         ...   \n",
       "56795  21740                             Public  39.602267  -77.729039   \n",
       "56796  53095                             Public  43.426952  -88.158696   \n",
       "56797  91101                             Public  34.157522 -118.132898   \n",
       "56798  79118                             Public  35.119412 -101.813428   \n",
       "56799  52404                             Public  41.963154  -91.698998   \n",
       "\n",
       "        Open Date  \n",
       "0      2010-12-01  \n",
       "1      1994-07-15  \n",
       "2      1996-12-15  \n",
       "3      1997-01-01  \n",
       "4      1996-12-15  \n",
       "...           ...  \n",
       "56795  2021-07-28  \n",
       "56796  2021-07-29  \n",
       "56797  2021-07-29  \n",
       "56798  2021-07-29  \n",
       "56799  2021-07-29  \n",
       "\n",
       "[56800 rows x 8 columns]"
      ]
     },
     "execution_count": 9,
     "metadata": {},
     "output_type": "execute_result"
    }
   ],
   "source": [
    "alt_fuel_cleanup_df = alt_fuel_df.drop(['Country','Fuel Type Code','Station Phone','Intersection Directions',\n",
    "                                        'Street Address','Federal Agency Code','Groups With Access Code (French)',\n",
    "                                        'Federal Agency Code','Access Detail Code','Federal Agency Name',\n",
    "                                        'Federal Agency ID','NG PSI','Status Code','Plus4','Restricted Access',\n",
    "                                        'EV Pricing (French)','BD Blends (French)','Access Days Time (French)',\n",
    "                                        'Intersection Directions (French)','EV DC Fast Count','EV Other Info',\n",
    "                                        'EV Network','EV Network Web','Expected Date','Access Days Time',\n",
    "                                        'Cards Accepted','BD Blends','NG Fill Type Code','EV Level1 EVSE Num',\n",
    "                                        'EV Level2 EVSE Num','Geocode Status','Date Last Confirmed','ID',\n",
    "                                        'Updated At','Owner Type Code','Facility Type','Hydrogen Status Link',\n",
    "                                        'NG Vehicle Class','LPG Primary','E85 Blender Pump','EV Connector Types',\n",
    "                                        'Hydrogen Is Retail','Access Code','CNG Dispenser Num',\n",
    "                                        'CNG On-Site Renewable Source','CNG Total Compression Capacity',\n",
    "                                        'CNG Storage Capacity','LNG On-Site Renewable Source',\n",
    "                                        'E85 Other Ethanol Blends','EV Pricing','LPG Nozzle Types',\n",
    "                                        'Hydrogen Pressures','Hydrogen Standards','CNG Fill Type Code','CNG PSI',\n",
    "                                        'CNG Vehicle Class','LNG Vehicle Class','EV On-Site Renewable Source'],axis = 1)\n",
    "alt_fuel_cleanup_df\n"
   ]
  },
  {
   "cell_type": "code",
   "execution_count": 10,
   "id": "77d07a14",
   "metadata": {},
   "outputs": [
    {
     "name": "stdout",
     "output_type": "stream",
     "text": [
      "<class 'pandas.core.frame.DataFrame'>\n",
      "RangeIndex: 56800 entries, 0 to 56799\n",
      "Data columns (total 8 columns):\n",
      " #   Column                   Non-Null Count  Dtype  \n",
      "---  ------                   --------------  -----  \n",
      " 0   Station Name             56800 non-null  object \n",
      " 1   City                     56800 non-null  object \n",
      " 2   State                    56800 non-null  object \n",
      " 3   ZIP                      56800 non-null  object \n",
      " 4   Groups With Access Code  56800 non-null  object \n",
      " 5   Latitude                 56800 non-null  float64\n",
      " 6   Longitude                56800 non-null  float64\n",
      " 7   Open Date                55238 non-null  object \n",
      "dtypes: float64(2), object(6)\n",
      "memory usage: 3.5+ MB\n"
     ]
    }
   ],
   "source": [
    "alt_fuel_cleanup_df.info()"
   ]
  },
  {
   "cell_type": "code",
   "execution_count": 11,
   "id": "141ff960",
   "metadata": {},
   "outputs": [],
   "source": [
    "# Keep all the florida\n",
    "alt_fuel_FL_df = alt_fuel_cleanup_df.loc[(alt_fuel_cleanup_df[\"State\"] == \"FL\")]\n",
    "# delete rows where longitude < -75\n",
    "alt_fuel_FL_df = alt_fuel_FL_df[alt_fuel_FL_df.Longitude <= -75]"
   ]
  },
  {
   "cell_type": "code",
   "execution_count": 12,
   "id": "66861d2c",
   "metadata": {},
   "outputs": [
    {
     "data": {
      "text/plain": [
       "84       32570\n",
       "85       32801\n",
       "86       33162\n",
       "260      32643\n",
       "261      32211\n",
       "         ...  \n",
       "56665    33411\n",
       "56681    33701\n",
       "56724    32708\n",
       "56728    33404\n",
       "56729    33404\n",
       "Name: ZIP, Length: 2825, dtype: int64"
      ]
     },
     "execution_count": 12,
     "metadata": {},
     "output_type": "execute_result"
    }
   ],
   "source": [
    "# transform string\n",
    "def change_string (member):\n",
    "    if member == \"\\xa032413\":\n",
    "        return \"32413\"\n",
    "    elif member == '\\xa033418' :\n",
    "        return '33418'\n",
    "    else:\n",
    "        return member\n",
    "    \n",
    "alt_fuel_FL_df[\"ZIP\"] = alt_fuel_FL_df[\"ZIP\"].apply(change_string)\n",
    "pd.to_numeric(alt_fuel_FL_df[\"ZIP\"])"
   ]
  },
  {
   "cell_type": "code",
   "execution_count": 13,
   "id": "c27d46fd",
   "metadata": {},
   "outputs": [],
   "source": [
    "# transform string public = 0 private = 1  & planned = 2\n",
    "def change_string (member):\n",
    "    if member == \"Public - Credit card after hours\":\n",
    "        return \"0\"\n",
    "    elif member == 'Public - Call ahead' :\n",
    "        return '0'\n",
    "    elif member == 'Public - Card key after hours' :\n",
    "        return '0'\n",
    "    elif member == 'Private - Government only' :\n",
    "        return '1'\n",
    "    elif member == 'Public - Card key at all times' :\n",
    "        return '0'\n",
    "    elif member == 'Public - Credit card at all times' :\n",
    "        return '0'\n",
    "    elif member == 'TEMPORARILY UNAVAILABLE (Public)' :\n",
    "        return '0'\n",
    "    elif member == 'Private - Fleet customers only' :\n",
    "        return '1'\n",
    "    elif member == 'PLANNED - not yet accessible (Public)' :\n",
    "        return '2'\n",
    "    elif member == 'Public' :\n",
    "        return '0'\n",
    "    elif member == 'Private' :\n",
    "        return '1'\n",
    "    else:\n",
    "        return member\n",
    "    \n",
    "alt_fuel_FL_df[\"Groups With Access Code\"] = alt_fuel_FL_df[\"Groups With Access Code\"].apply(change_string)"
   ]
  },
  {
   "cell_type": "code",
   "execution_count": 14,
   "id": "577cf8e7",
   "metadata": {},
   "outputs": [
    {
     "name": "stdout",
     "output_type": "stream",
     "text": [
      "0    2512\n",
      "1     285\n",
      "2      28\n",
      "Name: Groups With Access Code, dtype: int64\n"
     ]
    }
   ],
   "source": [
    "print(alt_fuel_FL_df[\"Groups With Access Code\"].value_counts())"
   ]
  },
  {
   "cell_type": "code",
   "execution_count": 15,
   "id": "8c9ee808",
   "metadata": {},
   "outputs": [],
   "source": [
    "# Keep Only the year of \"Open Date\" column\n",
    "alt_fuel_FL_df['Open Date'] = alt_fuel_FL_df['Open Date'].str.split('-').str[0]\n",
    "\n",
    "# replace 77 NaN values in \"Open Date\" with 2021\n",
    "alt_fuel_FL_df[\"Open Date\"].fillna(\"2021\", inplace = True)"
   ]
  },
  {
   "cell_type": "code",
   "execution_count": 16,
   "id": "c15f38ad",
   "metadata": {
    "scrolled": true
   },
   "outputs": [
    {
     "data": {
      "text/plain": [
       "2021    809\n",
       "2020    535\n",
       "2019    353\n",
       "2018    226\n",
       "2017    191\n",
       "2015    175\n",
       "2012    151\n",
       "2016    141\n",
       "2011     88\n",
       "2014     50\n",
       "2013     50\n",
       "2000     24\n",
       "2010     10\n",
       "2008      6\n",
       "1999      4\n",
       "2009      3\n",
       "2006      3\n",
       "1996      2\n",
       "2007      2\n",
       "2005      1\n",
       "1991      1\n",
       "Name: Open Date, dtype: int64"
      ]
     },
     "execution_count": 16,
     "metadata": {},
     "output_type": "execute_result"
    }
   ],
   "source": [
    "# print(alt_fuel_FL_df[\"Open Date\"].unique())\n",
    "fl_stations_openDate_count_df = alt_fuel_FL_df[\"Open Date\"].value_counts()\n",
    "fl_stations_openDate_count_df"
   ]
  },
  {
   "cell_type": "code",
   "execution_count": 17,
   "id": "3e652676",
   "metadata": {
    "scrolled": true
   },
   "outputs": [
    {
     "name": "stdout",
     "output_type": "stream",
     "text": [
      "(2825, 8)\n",
      "Station Name               0\n",
      "City                       0\n",
      "State                      0\n",
      "ZIP                        0\n",
      "Groups With Access Code    0\n",
      "Latitude                   0\n",
      "Longitude                  0\n",
      "Open Date                  0\n",
      "dtype: int64\n",
      "<class 'pandas.core.frame.DataFrame'>\n",
      "Int64Index: 2825 entries, 84 to 56729\n",
      "Data columns (total 8 columns):\n",
      " #   Column                   Non-Null Count  Dtype  \n",
      "---  ------                   --------------  -----  \n",
      " 0   Station Name             2825 non-null   object \n",
      " 1   City                     2825 non-null   object \n",
      " 2   State                    2825 non-null   object \n",
      " 3   ZIP                      2825 non-null   object \n",
      " 4   Groups With Access Code  2825 non-null   object \n",
      " 5   Latitude                 2825 non-null   float64\n",
      " 6   Longitude                2825 non-null   float64\n",
      " 7   Open Date                2825 non-null   object \n",
      "dtypes: float64(2), object(6)\n",
      "memory usage: 198.6+ KB\n"
     ]
    }
   ],
   "source": [
    "print(alt_fuel_FL_df.shape)\n",
    "print(alt_fuel_FL_df.isnull().sum())\n",
    "alt_fuel_FL_df.info()"
   ]
  },
  {
   "cell_type": "code",
   "execution_count": 18,
   "id": "92b2de27",
   "metadata": {
    "scrolled": true
   },
   "outputs": [
    {
     "name": "stdout",
     "output_type": "stream",
     "text": [
      "<class 'pandas.core.frame.DataFrame'>\n",
      "RangeIndex: 69 entries, 0 to 68\n",
      "Data columns (total 5 columns):\n",
      " #   Column       Non-Null Count  Dtype \n",
      "---  ------       --------------  ----- \n",
      " 0   county       69 non-null     object\n",
      " 1   2018         69 non-null     int64 \n",
      " 2   2019         69 non-null     int64 \n",
      " 3   2020         69 non-null     int64 \n",
      " 4   Grand Total  69 non-null     int64 \n",
      "dtypes: int64(4), object(1)\n",
      "memory usage: 2.8+ KB\n"
     ]
    }
   ],
   "source": [
    "fl_reg_df.info()"
   ]
  },
  {
   "cell_type": "code",
   "execution_count": 19,
   "id": "1279fbc4",
   "metadata": {},
   "outputs": [],
   "source": [
    "# change dtype of ZIP to float to match\n",
    "alt_fuel_FL_df = alt_fuel_FL_df.astype({'ZIP':'float64'})"
   ]
  },
  {
   "cell_type": "code",
   "execution_count": 20,
   "id": "eb076c3f",
   "metadata": {
    "scrolled": true
   },
   "outputs": [],
   "source": [
    "# left join on ZIP  because not all counties have vehicles\n",
    "alt_fuel_FL_df_merged = alt_fuel_FL_df.merge(fl_zip_df,how = 'left', on='ZIP')"
   ]
  },
  {
   "cell_type": "code",
   "execution_count": 21,
   "id": "3dafdd4c",
   "metadata": {},
   "outputs": [
    {
     "name": "stdout",
     "output_type": "stream",
     "text": [
      "<class 'pandas.core.frame.DataFrame'>\n",
      "Int64Index: 2825 entries, 0 to 2824\n",
      "Data columns (total 9 columns):\n",
      " #   Column                   Non-Null Count  Dtype  \n",
      "---  ------                   --------------  -----  \n",
      " 0   Station Name             2825 non-null   object \n",
      " 1   City                     2825 non-null   object \n",
      " 2   State                    2825 non-null   object \n",
      " 3   ZIP                      2825 non-null   float64\n",
      " 4   Groups With Access Code  2825 non-null   object \n",
      " 5   Latitude                 2825 non-null   float64\n",
      " 6   Longitude                2825 non-null   float64\n",
      " 7   Open Date                2825 non-null   object \n",
      " 8   county                   2825 non-null   object \n",
      "dtypes: float64(3), object(6)\n",
      "memory usage: 220.7+ KB\n"
     ]
    }
   ],
   "source": [
    "alt_fuel_FL_df_merged.info()"
   ]
  },
  {
   "cell_type": "code",
   "execution_count": 22,
   "id": "a2ca92ae",
   "metadata": {
    "scrolled": false
   },
   "outputs": [
    {
     "data": {
      "text/html": [
       "<div>\n",
       "<style scoped>\n",
       "    .dataframe tbody tr th:only-of-type {\n",
       "        vertical-align: middle;\n",
       "    }\n",
       "\n",
       "    .dataframe tbody tr th {\n",
       "        vertical-align: top;\n",
       "    }\n",
       "\n",
       "    .dataframe thead th {\n",
       "        text-align: right;\n",
       "    }\n",
       "</style>\n",
       "<table border=\"1\" class=\"dataframe\">\n",
       "  <thead>\n",
       "    <tr style=\"text-align: right;\">\n",
       "      <th></th>\n",
       "      <th>ZIP</th>\n",
       "      <th>Latitude</th>\n",
       "      <th>Longitude</th>\n",
       "    </tr>\n",
       "  </thead>\n",
       "  <tbody>\n",
       "    <tr>\n",
       "      <th>count</th>\n",
       "      <td>2825.000000</td>\n",
       "      <td>2825.000000</td>\n",
       "      <td>2825.000000</td>\n",
       "    </tr>\n",
       "    <tr>\n",
       "      <th>mean</th>\n",
       "      <td>33289.927434</td>\n",
       "      <td>27.699058</td>\n",
       "      <td>-81.476470</td>\n",
       "    </tr>\n",
       "    <tr>\n",
       "      <th>std</th>\n",
       "      <td>713.850357</td>\n",
       "      <td>1.497050</td>\n",
       "      <td>1.343951</td>\n",
       "    </tr>\n",
       "    <tr>\n",
       "      <th>min</th>\n",
       "      <td>32003.000000</td>\n",
       "      <td>24.550549</td>\n",
       "      <td>-87.315713</td>\n",
       "    </tr>\n",
       "    <tr>\n",
       "      <th>25%</th>\n",
       "      <td>32810.000000</td>\n",
       "      <td>26.207326</td>\n",
       "      <td>-82.337345</td>\n",
       "    </tr>\n",
       "    <tr>\n",
       "      <th>50%</th>\n",
       "      <td>33160.000000</td>\n",
       "      <td>27.898202</td>\n",
       "      <td>-81.403658</td>\n",
       "    </tr>\n",
       "    <tr>\n",
       "      <th>75%</th>\n",
       "      <td>33701.000000</td>\n",
       "      <td>28.557330</td>\n",
       "      <td>-80.261056</td>\n",
       "    </tr>\n",
       "    <tr>\n",
       "      <th>max</th>\n",
       "      <td>36548.000000</td>\n",
       "      <td>30.826725</td>\n",
       "      <td>-80.033251</td>\n",
       "    </tr>\n",
       "  </tbody>\n",
       "</table>\n",
       "</div>"
      ],
      "text/plain": [
       "                ZIP     Latitude    Longitude\n",
       "count   2825.000000  2825.000000  2825.000000\n",
       "mean   33289.927434    27.699058   -81.476470\n",
       "std      713.850357     1.497050     1.343951\n",
       "min    32003.000000    24.550549   -87.315713\n",
       "25%    32810.000000    26.207326   -82.337345\n",
       "50%    33160.000000    27.898202   -81.403658\n",
       "75%    33701.000000    28.557330   -80.261056\n",
       "max    36548.000000    30.826725   -80.033251"
      ]
     },
     "execution_count": 22,
     "metadata": {},
     "output_type": "execute_result"
    }
   ],
   "source": [
    "alt_fuel_FL_df.describe()"
   ]
  },
  {
   "cell_type": "code",
   "execution_count": null,
   "id": "f3913451",
   "metadata": {},
   "outputs": [],
   "source": []
  },
  {
   "cell_type": "code",
   "execution_count": 23,
   "id": "f2e1a759",
   "metadata": {},
   "outputs": [
    {
     "data": {
      "image/png": "[encoded data removed]",
      "text/plain": [
       "<Figure size 1296x1080 with 1 Axes>"
      ]
     },
     "metadata": {
      "needs_background": "light"
     },
     "output_type": "display_data"
    }
   ],
   "source": [
    "import matplotlib.pyplot as plt\n",
    "import matplotlib.cm as cm\n",
    "import matplotlib.colors as colors\n",
    "fig = plt.figure()\n",
    "def pltcolor(lst):\n",
    "    cols=[]\n",
    "    for l in lst:\n",
    "        if l=='1':\n",
    "            cols.append('red')\n",
    "        elif l=='2':\n",
    "            cols.append('blue')\n",
    "        else:\n",
    "            cols.append('green')\n",
    "    return cols\n",
    "\n",
    "\n",
    "col = pltcolor(alt_fuel_FL_df['Groups With Access Code'])\n",
    "plt.scatter(x=alt_fuel_FL_df['Longitude'], y=alt_fuel_FL_df['Latitude'],c=col)\n",
    "fig.set_figheight(15)\n",
    "fig.set_figwidth(18)\n",
    "plt.show()"
   ]
  },
  {
   "cell_type": "code",
   "execution_count": null,
   "id": "936feaf0",
   "metadata": {},
   "outputs": [],
   "source": []
  },
  {
   "cell_type": "code",
   "execution_count": null,
   "id": "49948bdb",
   "metadata": {},
   "outputs": [],
   "source": []
  }
 ],
 "metadata": {
  "kernelspec": {
   "display_name": "Python 3 (ipykernel)",
   "language": "python",
   "name": "python3"
  },
  "language_info": {
   "codemirror_mode": {
    "name": "ipython",
    "version": 3
   },
   "file_extension": ".py",
   "mimetype": "text/x-python",
   "name": "python",
   "nbconvert_exporter": "python",
   "pygments_lexer": "ipython3",
   "version": "3.9.7"
  }
 },
 "nbformat": 4,
 "nbformat_minor": 5
}
